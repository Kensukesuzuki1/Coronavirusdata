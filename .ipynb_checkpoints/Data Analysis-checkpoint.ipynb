{
 "cells": [
  {
   "cell_type": "markdown",
   "metadata": {},
   "source": [
    "## Import Dependancies"
   ]
  },
  {
   "cell_type": "code",
   "execution_count": 1,
   "metadata": {},
   "outputs": [],
   "source": [
    "import pandas as pd\n",
    "import numpy as np\n",
    "import matplotlib.pyplot as plt\n",
    "\n",
    "import numpy as np\n",
    "import statsmodels.api as sm\n",
    "import statsmodels.formula.api as smf\n",
    "import statsmodels.formula.api as ols"
   ]
  },
  {
   "cell_type": "markdown",
   "metadata": {},
   "source": [
    "## Load Dataset"
   ]
  },
  {
   "cell_type": "code",
   "execution_count": 2,
   "metadata": {},
   "outputs": [
    {
     "data": {
      "text/html": [
       "<div>\n",
       "<style scoped>\n",
       "    .dataframe tbody tr th:only-of-type {\n",
       "        vertical-align: middle;\n",
       "    }\n",
       "\n",
       "    .dataframe tbody tr th {\n",
       "        vertical-align: top;\n",
       "    }\n",
       "\n",
       "    .dataframe thead th {\n",
       "        text-align: right;\n",
       "    }\n",
       "</style>\n",
       "<table border=\"1\" class=\"dataframe\">\n",
       "  <thead>\n",
       "    <tr style=\"text-align: right;\">\n",
       "      <th></th>\n",
       "      <th>Indicator</th>\n",
       "      <th>Group</th>\n",
       "      <th>State</th>\n",
       "      <th>Subgroup</th>\n",
       "      <th>Week</th>\n",
       "      <th>Week Label</th>\n",
       "      <th>Value</th>\n",
       "      <th>Low CI</th>\n",
       "      <th>High CI</th>\n",
       "      <th>Confidence Interval</th>\n",
       "      <th>Quartile range</th>\n",
       "    </tr>\n",
       "  </thead>\n",
       "  <tbody>\n",
       "    <tr>\n",
       "      <th>0</th>\n",
       "      <td>Symptoms of Depressive Disorder</td>\n",
       "      <td>National Estimate</td>\n",
       "      <td>United States</td>\n",
       "      <td>United States</td>\n",
       "      <td>1</td>\n",
       "      <td>Apr 23 - May 5</td>\n",
       "      <td>23.5</td>\n",
       "      <td>22.7</td>\n",
       "      <td>24.3</td>\n",
       "      <td>22.7 - 24.3</td>\n",
       "      <td>NaN</td>\n",
       "    </tr>\n",
       "    <tr>\n",
       "      <th>1</th>\n",
       "      <td>Symptoms of Depressive Disorder</td>\n",
       "      <td>By Age</td>\n",
       "      <td>United States</td>\n",
       "      <td>18 - 29 years</td>\n",
       "      <td>1</td>\n",
       "      <td>Apr 23 - May 5</td>\n",
       "      <td>32.7</td>\n",
       "      <td>30.2</td>\n",
       "      <td>35.2</td>\n",
       "      <td>30.2 - 35.2</td>\n",
       "      <td>NaN</td>\n",
       "    </tr>\n",
       "    <tr>\n",
       "      <th>2</th>\n",
       "      <td>Symptoms of Depressive Disorder</td>\n",
       "      <td>By Age</td>\n",
       "      <td>United States</td>\n",
       "      <td>30 - 39 years</td>\n",
       "      <td>1</td>\n",
       "      <td>Apr 23 - May 5</td>\n",
       "      <td>25.7</td>\n",
       "      <td>24.1</td>\n",
       "      <td>27.3</td>\n",
       "      <td>24.1 - 27.3</td>\n",
       "      <td>NaN</td>\n",
       "    </tr>\n",
       "    <tr>\n",
       "      <th>3</th>\n",
       "      <td>Symptoms of Depressive Disorder</td>\n",
       "      <td>By Age</td>\n",
       "      <td>United States</td>\n",
       "      <td>40 - 49 years</td>\n",
       "      <td>1</td>\n",
       "      <td>Apr 23 - May 5</td>\n",
       "      <td>24.8</td>\n",
       "      <td>23.3</td>\n",
       "      <td>26.2</td>\n",
       "      <td>23.3 - 26.2</td>\n",
       "      <td>NaN</td>\n",
       "    </tr>\n",
       "    <tr>\n",
       "      <th>4</th>\n",
       "      <td>Symptoms of Depressive Disorder</td>\n",
       "      <td>By Age</td>\n",
       "      <td>United States</td>\n",
       "      <td>50 - 59 years</td>\n",
       "      <td>1</td>\n",
       "      <td>Apr 23 - May 5</td>\n",
       "      <td>23.2</td>\n",
       "      <td>21.5</td>\n",
       "      <td>25.0</td>\n",
       "      <td>21.5 - 25.0</td>\n",
       "      <td>NaN</td>\n",
       "    </tr>\n",
       "  </tbody>\n",
       "</table>\n",
       "</div>"
      ],
      "text/plain": [
       "                         Indicator              Group          State  \\\n",
       "0  Symptoms of Depressive Disorder  National Estimate  United States   \n",
       "1  Symptoms of Depressive Disorder             By Age  United States   \n",
       "2  Symptoms of Depressive Disorder             By Age  United States   \n",
       "3  Symptoms of Depressive Disorder             By Age  United States   \n",
       "4  Symptoms of Depressive Disorder             By Age  United States   \n",
       "\n",
       "        Subgroup  Week      Week Label  Value  Low CI  High CI  \\\n",
       "0  United States     1  Apr 23 - May 5   23.5    22.7     24.3   \n",
       "1  18 - 29 years     1  Apr 23 - May 5   32.7    30.2     35.2   \n",
       "2  30 - 39 years     1  Apr 23 - May 5   25.7    24.1     27.3   \n",
       "3  40 - 49 years     1  Apr 23 - May 5   24.8    23.3     26.2   \n",
       "4  50 - 59 years     1  Apr 23 - May 5   23.2    21.5     25.0   \n",
       "\n",
       "  Confidence Interval Quartile range  \n",
       "0         22.7 - 24.3            NaN  \n",
       "1         30.2 - 35.2            NaN  \n",
       "2         24.1 - 27.3            NaN  \n",
       "3         23.3 - 26.2            NaN  \n",
       "4         21.5 - 25.0            NaN  "
      ]
     },
     "execution_count": 2,
     "metadata": {},
     "output_type": "execute_result"
    }
   ],
   "source": [
    "MentalHealth = pd.read_csv(\"Data/Mental_Health.csv\")\n",
    "MentalHealth.head()"
   ]
  },
  {
   "cell_type": "markdown",
   "metadata": {},
   "source": [
    "## Exploratory Data Analysis"
   ]
  },
  {
   "cell_type": "code",
   "execution_count": 3,
   "metadata": {},
   "outputs": [],
   "source": [
    "#MentalHealth.info()"
   ]
  },
  {
   "cell_type": "code",
   "execution_count": 4,
   "metadata": {},
   "outputs": [],
   "source": [
    "#Get column name and column contents\n",
    "#for (columnName, columnData) in MentalHealth.iteritems(): \n",
    "    #print('Colunm Name : ', columnName) \n",
    "    #print('Column Contents : ', columnData.values) "
   ]
  },
  {
   "cell_type": "code",
   "execution_count": 5,
   "metadata": {},
   "outputs": [],
   "source": [
    "#Get All Values from the Indicator List \n",
    "#MentalHealth.Indicator.unique()"
   ]
  },
  {
   "cell_type": "markdown",
   "metadata": {},
   "source": [
    "## Mental Health Indicator Analysis (Initial Subgroup)\n",
    "- Run basic calculations to obtain Mental Health Indicator by Subgroup"
   ]
  },
  {
   "cell_type": "code",
   "execution_count": 6,
   "metadata": {},
   "outputs": [
    {
     "data": {
      "text/html": [
       "<div>\n",
       "<style scoped>\n",
       "    .dataframe tbody tr th:only-of-type {\n",
       "        vertical-align: middle;\n",
       "    }\n",
       "\n",
       "    .dataframe tbody tr th {\n",
       "        vertical-align: top;\n",
       "    }\n",
       "\n",
       "    .dataframe thead th {\n",
       "        text-align: right;\n",
       "    }\n",
       "</style>\n",
       "<table border=\"1\" class=\"dataframe\">\n",
       "  <thead>\n",
       "    <tr style=\"text-align: right;\">\n",
       "      <th></th>\n",
       "      <th>Indicator</th>\n",
       "      <th>Group</th>\n",
       "      <th>State</th>\n",
       "      <th>Subgroup</th>\n",
       "      <th>Week</th>\n",
       "      <th>Week Label</th>\n",
       "      <th>Value</th>\n",
       "      <th>Low CI</th>\n",
       "      <th>High CI</th>\n",
       "      <th>Confidence Interval</th>\n",
       "      <th>Quartile range</th>\n",
       "    </tr>\n",
       "  </thead>\n",
       "  <tbody>\n",
       "    <tr>\n",
       "      <th>0</th>\n",
       "      <td>Symptoms of Depressive Disorder</td>\n",
       "      <td>National Estimate</td>\n",
       "      <td>United States</td>\n",
       "      <td>United States</td>\n",
       "      <td>1</td>\n",
       "      <td>Apr 23 - May 5</td>\n",
       "      <td>23.5</td>\n",
       "      <td>22.7</td>\n",
       "      <td>24.3</td>\n",
       "      <td>22.7 - 24.3</td>\n",
       "      <td>NaN</td>\n",
       "    </tr>\n",
       "    <tr>\n",
       "      <th>1</th>\n",
       "      <td>Symptoms of Depressive Disorder</td>\n",
       "      <td>By Age</td>\n",
       "      <td>United States</td>\n",
       "      <td>18 - 29 years</td>\n",
       "      <td>1</td>\n",
       "      <td>Apr 23 - May 5</td>\n",
       "      <td>32.7</td>\n",
       "      <td>30.2</td>\n",
       "      <td>35.2</td>\n",
       "      <td>30.2 - 35.2</td>\n",
       "      <td>NaN</td>\n",
       "    </tr>\n",
       "    <tr>\n",
       "      <th>2</th>\n",
       "      <td>Symptoms of Depressive Disorder</td>\n",
       "      <td>By Age</td>\n",
       "      <td>United States</td>\n",
       "      <td>30 - 39 years</td>\n",
       "      <td>1</td>\n",
       "      <td>Apr 23 - May 5</td>\n",
       "      <td>25.7</td>\n",
       "      <td>24.1</td>\n",
       "      <td>27.3</td>\n",
       "      <td>24.1 - 27.3</td>\n",
       "      <td>NaN</td>\n",
       "    </tr>\n",
       "    <tr>\n",
       "      <th>3</th>\n",
       "      <td>Symptoms of Depressive Disorder</td>\n",
       "      <td>By Age</td>\n",
       "      <td>United States</td>\n",
       "      <td>40 - 49 years</td>\n",
       "      <td>1</td>\n",
       "      <td>Apr 23 - May 5</td>\n",
       "      <td>24.8</td>\n",
       "      <td>23.3</td>\n",
       "      <td>26.2</td>\n",
       "      <td>23.3 - 26.2</td>\n",
       "      <td>NaN</td>\n",
       "    </tr>\n",
       "    <tr>\n",
       "      <th>4</th>\n",
       "      <td>Symptoms of Depressive Disorder</td>\n",
       "      <td>By Age</td>\n",
       "      <td>United States</td>\n",
       "      <td>50 - 59 years</td>\n",
       "      <td>1</td>\n",
       "      <td>Apr 23 - May 5</td>\n",
       "      <td>23.2</td>\n",
       "      <td>21.5</td>\n",
       "      <td>25.0</td>\n",
       "      <td>21.5 - 25.0</td>\n",
       "      <td>NaN</td>\n",
       "    </tr>\n",
       "  </tbody>\n",
       "</table>\n",
       "</div>"
      ],
      "text/plain": [
       "                         Indicator              Group          State  \\\n",
       "0  Symptoms of Depressive Disorder  National Estimate  United States   \n",
       "1  Symptoms of Depressive Disorder             By Age  United States   \n",
       "2  Symptoms of Depressive Disorder             By Age  United States   \n",
       "3  Symptoms of Depressive Disorder             By Age  United States   \n",
       "4  Symptoms of Depressive Disorder             By Age  United States   \n",
       "\n",
       "        Subgroup  Week      Week Label  Value  Low CI  High CI  \\\n",
       "0  United States     1  Apr 23 - May 5   23.5    22.7     24.3   \n",
       "1  18 - 29 years     1  Apr 23 - May 5   32.7    30.2     35.2   \n",
       "2  30 - 39 years     1  Apr 23 - May 5   25.7    24.1     27.3   \n",
       "3  40 - 49 years     1  Apr 23 - May 5   24.8    23.3     26.2   \n",
       "4  50 - 59 years     1  Apr 23 - May 5   23.2    21.5     25.0   \n",
       "\n",
       "  Confidence Interval Quartile range  \n",
       "0         22.7 - 24.3            NaN  \n",
       "1         30.2 - 35.2            NaN  \n",
       "2         24.1 - 27.3            NaN  \n",
       "3         23.3 - 26.2            NaN  \n",
       "4         21.5 - 25.0            NaN  "
      ]
     },
     "execution_count": 6,
     "metadata": {},
     "output_type": "execute_result"
    }
   ],
   "source": [
    "#Group by Depression\n",
    "Depression = MentalHealth.loc[(MentalHealth[\"Indicator\"] == \"Symptoms of Depressive Disorder\")]\n",
    "Depression.head()"
   ]
  },
  {
   "cell_type": "code",
   "execution_count": 7,
   "metadata": {},
   "outputs": [
    {
     "data": {
      "text/plain": [
       "Subgroup\n",
       "18 - 29 years                                   36.128571\n",
       "Less than a high school diploma                 33.500000\n",
       "Non-Hispanic, other races and multiple races    32.057143\n",
       "Mississippi                                     29.357143\n",
       "Louisiana                                       29.342857\n",
       "Name: Value, dtype: float64"
      ]
     },
     "execution_count": 7,
     "metadata": {},
     "output_type": "execute_result"
    }
   ],
   "source": [
    "means = Depression.groupby('Subgroup').mean()['Value'].sort_values(ascending=False)\n",
    "means.head()"
   ]
  },
  {
   "cell_type": "code",
   "execution_count": 8,
   "metadata": {},
   "outputs": [
    {
     "data": {
      "text/html": [
       "<div>\n",
       "<style scoped>\n",
       "    .dataframe tbody tr th:only-of-type {\n",
       "        vertical-align: middle;\n",
       "    }\n",
       "\n",
       "    .dataframe tbody tr th {\n",
       "        vertical-align: top;\n",
       "    }\n",
       "\n",
       "    .dataframe thead th {\n",
       "        text-align: right;\n",
       "    }\n",
       "</style>\n",
       "<table border=\"1\" class=\"dataframe\">\n",
       "  <thead>\n",
       "    <tr style=\"text-align: right;\">\n",
       "      <th></th>\n",
       "      <th>Indicator</th>\n",
       "      <th>Group</th>\n",
       "      <th>State</th>\n",
       "      <th>Subgroup</th>\n",
       "      <th>Week</th>\n",
       "      <th>Week Label</th>\n",
       "      <th>Value</th>\n",
       "      <th>Low CI</th>\n",
       "      <th>High CI</th>\n",
       "      <th>Confidence Interval</th>\n",
       "      <th>Quartile range</th>\n",
       "    </tr>\n",
       "  </thead>\n",
       "  <tbody>\n",
       "    <tr>\n",
       "      <th>70</th>\n",
       "      <td>Symptoms of Anxiety Disorder</td>\n",
       "      <td>National Estimate</td>\n",
       "      <td>United States</td>\n",
       "      <td>United States</td>\n",
       "      <td>1</td>\n",
       "      <td>Apr 23 - May 5</td>\n",
       "      <td>30.8</td>\n",
       "      <td>30.0</td>\n",
       "      <td>31.7</td>\n",
       "      <td>30.0 - 31.7</td>\n",
       "      <td>NaN</td>\n",
       "    </tr>\n",
       "    <tr>\n",
       "      <th>71</th>\n",
       "      <td>Symptoms of Anxiety Disorder</td>\n",
       "      <td>By Age</td>\n",
       "      <td>United States</td>\n",
       "      <td>18 - 29 years</td>\n",
       "      <td>1</td>\n",
       "      <td>Apr 23 - May 5</td>\n",
       "      <td>40.2</td>\n",
       "      <td>38.1</td>\n",
       "      <td>42.4</td>\n",
       "      <td>38.1 - 42.4</td>\n",
       "      <td>NaN</td>\n",
       "    </tr>\n",
       "    <tr>\n",
       "      <th>72</th>\n",
       "      <td>Symptoms of Anxiety Disorder</td>\n",
       "      <td>By Age</td>\n",
       "      <td>United States</td>\n",
       "      <td>30 - 39 years</td>\n",
       "      <td>1</td>\n",
       "      <td>Apr 23 - May 5</td>\n",
       "      <td>34.4</td>\n",
       "      <td>32.6</td>\n",
       "      <td>36.1</td>\n",
       "      <td>32.6 - 36.1</td>\n",
       "      <td>NaN</td>\n",
       "    </tr>\n",
       "    <tr>\n",
       "      <th>73</th>\n",
       "      <td>Symptoms of Anxiety Disorder</td>\n",
       "      <td>By Age</td>\n",
       "      <td>United States</td>\n",
       "      <td>40 - 49 years</td>\n",
       "      <td>1</td>\n",
       "      <td>Apr 23 - May 5</td>\n",
       "      <td>34.1</td>\n",
       "      <td>32.1</td>\n",
       "      <td>36.2</td>\n",
       "      <td>32.1 - 36.2</td>\n",
       "      <td>NaN</td>\n",
       "    </tr>\n",
       "    <tr>\n",
       "      <th>74</th>\n",
       "      <td>Symptoms of Anxiety Disorder</td>\n",
       "      <td>By Age</td>\n",
       "      <td>United States</td>\n",
       "      <td>50 - 59 years</td>\n",
       "      <td>1</td>\n",
       "      <td>Apr 23 - May 5</td>\n",
       "      <td>31.0</td>\n",
       "      <td>29.0</td>\n",
       "      <td>33.1</td>\n",
       "      <td>29.0 - 33.1</td>\n",
       "      <td>NaN</td>\n",
       "    </tr>\n",
       "  </tbody>\n",
       "</table>\n",
       "</div>"
      ],
      "text/plain": [
       "                       Indicator              Group          State  \\\n",
       "70  Symptoms of Anxiety Disorder  National Estimate  United States   \n",
       "71  Symptoms of Anxiety Disorder             By Age  United States   \n",
       "72  Symptoms of Anxiety Disorder             By Age  United States   \n",
       "73  Symptoms of Anxiety Disorder             By Age  United States   \n",
       "74  Symptoms of Anxiety Disorder             By Age  United States   \n",
       "\n",
       "         Subgroup  Week      Week Label  Value  Low CI  High CI  \\\n",
       "70  United States     1  Apr 23 - May 5   30.8    30.0     31.7   \n",
       "71  18 - 29 years     1  Apr 23 - May 5   40.2    38.1     42.4   \n",
       "72  30 - 39 years     1  Apr 23 - May 5   34.4    32.6     36.1   \n",
       "73  40 - 49 years     1  Apr 23 - May 5   34.1    32.1     36.2   \n",
       "74  50 - 59 years     1  Apr 23 - May 5   31.0    29.0     33.1   \n",
       "\n",
       "   Confidence Interval Quartile range  \n",
       "70         30.0 - 31.7            NaN  \n",
       "71         38.1 - 42.4            NaN  \n",
       "72         32.6 - 36.1            NaN  \n",
       "73         32.1 - 36.2            NaN  \n",
       "74         29.0 - 33.1            NaN  "
      ]
     },
     "execution_count": 8,
     "metadata": {},
     "output_type": "execute_result"
    }
   ],
   "source": [
    "Anxiety = MentalHealth.loc[(MentalHealth[\"Indicator\"] == \"Symptoms of Anxiety Disorder\")]\n",
    "Anxiety.head()"
   ]
  },
  {
   "cell_type": "code",
   "execution_count": 9,
   "metadata": {},
   "outputs": [
    {
     "data": {
      "text/plain": [
       "Subgroup\n",
       "18 - 29 years                                   40.957143\n",
       "Non-Hispanic, other races and multiple races    38.514286\n",
       "Less than a high school diploma                 37.314286\n",
       "30 - 39 years                                   34.928571\n",
       "Hispanic or Latino                              34.585714\n",
       "Name: Value, dtype: float64"
      ]
     },
     "execution_count": 9,
     "metadata": {},
     "output_type": "execute_result"
    }
   ],
   "source": [
    "means = Anxiety.groupby('Subgroup').mean()['Value'].sort_values(ascending=False)\n",
    "means.head()"
   ]
  },
  {
   "cell_type": "code",
   "execution_count": 10,
   "metadata": {},
   "outputs": [
    {
     "data": {
      "text/html": [
       "<div>\n",
       "<style scoped>\n",
       "    .dataframe tbody tr th:only-of-type {\n",
       "        vertical-align: middle;\n",
       "    }\n",
       "\n",
       "    .dataframe tbody tr th {\n",
       "        vertical-align: top;\n",
       "    }\n",
       "\n",
       "    .dataframe thead th {\n",
       "        text-align: right;\n",
       "    }\n",
       "</style>\n",
       "<table border=\"1\" class=\"dataframe\">\n",
       "  <thead>\n",
       "    <tr style=\"text-align: right;\">\n",
       "      <th></th>\n",
       "      <th>Indicator</th>\n",
       "      <th>Group</th>\n",
       "      <th>State</th>\n",
       "      <th>Subgroup</th>\n",
       "      <th>Week</th>\n",
       "      <th>Week Label</th>\n",
       "      <th>Value</th>\n",
       "      <th>Low CI</th>\n",
       "      <th>High CI</th>\n",
       "      <th>Confidence Interval</th>\n",
       "      <th>Quartile range</th>\n",
       "    </tr>\n",
       "  </thead>\n",
       "  <tbody>\n",
       "    <tr>\n",
       "      <th>140</th>\n",
       "      <td>Symptoms of Anxiety Disorder or Depressive Dis...</td>\n",
       "      <td>National Estimate</td>\n",
       "      <td>United States</td>\n",
       "      <td>United States</td>\n",
       "      <td>1</td>\n",
       "      <td>Apr 23 - May 5</td>\n",
       "      <td>35.9</td>\n",
       "      <td>35.0</td>\n",
       "      <td>36.8</td>\n",
       "      <td>35.0 - 36.8</td>\n",
       "      <td>NaN</td>\n",
       "    </tr>\n",
       "    <tr>\n",
       "      <th>141</th>\n",
       "      <td>Symptoms of Anxiety Disorder or Depressive Dis...</td>\n",
       "      <td>By Age</td>\n",
       "      <td>United States</td>\n",
       "      <td>18 - 29 years</td>\n",
       "      <td>1</td>\n",
       "      <td>Apr 23 - May 5</td>\n",
       "      <td>46.8</td>\n",
       "      <td>44.3</td>\n",
       "      <td>49.3</td>\n",
       "      <td>44.3 - 49.3</td>\n",
       "      <td>NaN</td>\n",
       "    </tr>\n",
       "    <tr>\n",
       "      <th>142</th>\n",
       "      <td>Symptoms of Anxiety Disorder or Depressive Dis...</td>\n",
       "      <td>By Age</td>\n",
       "      <td>United States</td>\n",
       "      <td>30 - 39 years</td>\n",
       "      <td>1</td>\n",
       "      <td>Apr 23 - May 5</td>\n",
       "      <td>39.6</td>\n",
       "      <td>37.7</td>\n",
       "      <td>41.5</td>\n",
       "      <td>37.7 - 41.5</td>\n",
       "      <td>NaN</td>\n",
       "    </tr>\n",
       "    <tr>\n",
       "      <th>143</th>\n",
       "      <td>Symptoms of Anxiety Disorder or Depressive Dis...</td>\n",
       "      <td>By Age</td>\n",
       "      <td>United States</td>\n",
       "      <td>40 - 49 years</td>\n",
       "      <td>1</td>\n",
       "      <td>Apr 23 - May 5</td>\n",
       "      <td>38.9</td>\n",
       "      <td>37.2</td>\n",
       "      <td>40.7</td>\n",
       "      <td>37.2 - 40.7</td>\n",
       "      <td>NaN</td>\n",
       "    </tr>\n",
       "    <tr>\n",
       "      <th>144</th>\n",
       "      <td>Symptoms of Anxiety Disorder or Depressive Dis...</td>\n",
       "      <td>By Age</td>\n",
       "      <td>United States</td>\n",
       "      <td>50 - 59 years</td>\n",
       "      <td>1</td>\n",
       "      <td>Apr 23 - May 5</td>\n",
       "      <td>35.8</td>\n",
       "      <td>34.0</td>\n",
       "      <td>37.7</td>\n",
       "      <td>34.0 - 37.7</td>\n",
       "      <td>NaN</td>\n",
       "    </tr>\n",
       "  </tbody>\n",
       "</table>\n",
       "</div>"
      ],
      "text/plain": [
       "                                             Indicator              Group  \\\n",
       "140  Symptoms of Anxiety Disorder or Depressive Dis...  National Estimate   \n",
       "141  Symptoms of Anxiety Disorder or Depressive Dis...             By Age   \n",
       "142  Symptoms of Anxiety Disorder or Depressive Dis...             By Age   \n",
       "143  Symptoms of Anxiety Disorder or Depressive Dis...             By Age   \n",
       "144  Symptoms of Anxiety Disorder or Depressive Dis...             By Age   \n",
       "\n",
       "             State       Subgroup  Week      Week Label  Value  Low CI  \\\n",
       "140  United States  United States     1  Apr 23 - May 5   35.9    35.0   \n",
       "141  United States  18 - 29 years     1  Apr 23 - May 5   46.8    44.3   \n",
       "142  United States  30 - 39 years     1  Apr 23 - May 5   39.6    37.7   \n",
       "143  United States  40 - 49 years     1  Apr 23 - May 5   38.9    37.2   \n",
       "144  United States  50 - 59 years     1  Apr 23 - May 5   35.8    34.0   \n",
       "\n",
       "     High CI Confidence Interval Quartile range  \n",
       "140     36.8         35.0 - 36.8            NaN  \n",
       "141     49.3         44.3 - 49.3            NaN  \n",
       "142     41.5         37.7 - 41.5            NaN  \n",
       "143     40.7         37.2 - 40.7            NaN  \n",
       "144     37.7         34.0 - 37.7            NaN  "
      ]
     },
     "execution_count": 10,
     "metadata": {},
     "output_type": "execute_result"
    }
   ],
   "source": [
    "AorD = MentalHealth.loc[(MentalHealth[\"Indicator\"] == \"Symptoms of Anxiety Disorder or Depressive Disorder\")]\n",
    "AorD.head()"
   ]
  },
  {
   "cell_type": "code",
   "execution_count": 11,
   "metadata": {},
   "outputs": [
    {
     "data": {
      "text/plain": [
       "Subgroup\n",
       "18 - 29 years                                   47.971429\n",
       "Non-Hispanic, other races and multiple races    44.628571\n",
       "Less than a high school diploma                 44.114286\n",
       "Hispanic or Latino                              40.557143\n",
       "Mississippi                                     39.942857\n",
       "Name: Value, dtype: float64"
      ]
     },
     "execution_count": 11,
     "metadata": {},
     "output_type": "execute_result"
    }
   ],
   "source": [
    "means = AorD.groupby('Subgroup').mean()['Value'].sort_values(ascending=False)\n",
    "means.head()"
   ]
  },
  {
   "cell_type": "markdown",
   "metadata": {},
   "source": [
    "### Subgroup: 18 - 29 age group, Non-Hispanic, other races and multiple races, and Less than a high school diploma seem to have the worst Mental Health Outcomes but is it significantly different? "
   ]
  },
  {
   "cell_type": "markdown",
   "metadata": {},
   "source": [
    "## Analysis of the Subgroup: Age"
   ]
  },
  {
   "cell_type": "code",
   "execution_count": 12,
   "metadata": {},
   "outputs": [
    {
     "data": {
      "text/html": [
       "<div>\n",
       "<style scoped>\n",
       "    .dataframe tbody tr th:only-of-type {\n",
       "        vertical-align: middle;\n",
       "    }\n",
       "\n",
       "    .dataframe tbody tr th {\n",
       "        vertical-align: top;\n",
       "    }\n",
       "\n",
       "    .dataframe thead th {\n",
       "        text-align: right;\n",
       "    }\n",
       "</style>\n",
       "<table border=\"1\" class=\"dataframe\">\n",
       "  <thead>\n",
       "    <tr style=\"text-align: right;\">\n",
       "      <th></th>\n",
       "      <th>Indicator</th>\n",
       "      <th>Group</th>\n",
       "      <th>State</th>\n",
       "      <th>Subgroup</th>\n",
       "      <th>Week</th>\n",
       "      <th>Week Label</th>\n",
       "      <th>Value</th>\n",
       "      <th>Low CI</th>\n",
       "      <th>High CI</th>\n",
       "      <th>Confidence Interval</th>\n",
       "      <th>Quartile range</th>\n",
       "    </tr>\n",
       "  </thead>\n",
       "  <tbody>\n",
       "    <tr>\n",
       "      <th>1</th>\n",
       "      <td>Symptoms of Depressive Disorder</td>\n",
       "      <td>By Age</td>\n",
       "      <td>United States</td>\n",
       "      <td>18 - 29 years</td>\n",
       "      <td>1</td>\n",
       "      <td>Apr 23 - May 5</td>\n",
       "      <td>32.7</td>\n",
       "      <td>30.2</td>\n",
       "      <td>35.2</td>\n",
       "      <td>30.2 - 35.2</td>\n",
       "      <td>NaN</td>\n",
       "    </tr>\n",
       "    <tr>\n",
       "      <th>211</th>\n",
       "      <td>Symptoms of Depressive Disorder</td>\n",
       "      <td>By Age</td>\n",
       "      <td>United States</td>\n",
       "      <td>18 - 29 years</td>\n",
       "      <td>2</td>\n",
       "      <td>May 7 - May 12</td>\n",
       "      <td>36.2</td>\n",
       "      <td>32.2</td>\n",
       "      <td>40.2</td>\n",
       "      <td>32.2 - 40.2</td>\n",
       "      <td>NaN</td>\n",
       "    </tr>\n",
       "    <tr>\n",
       "      <th>421</th>\n",
       "      <td>Symptoms of Depressive Disorder</td>\n",
       "      <td>By Age</td>\n",
       "      <td>United States</td>\n",
       "      <td>18 - 29 years</td>\n",
       "      <td>3</td>\n",
       "      <td>May 14 - May 19</td>\n",
       "      <td>36.7</td>\n",
       "      <td>34.2</td>\n",
       "      <td>39.1</td>\n",
       "      <td>34.2 - 39.1</td>\n",
       "      <td>NaN</td>\n",
       "    </tr>\n",
       "    <tr>\n",
       "      <th>631</th>\n",
       "      <td>Symptoms of Depressive Disorder</td>\n",
       "      <td>By Age</td>\n",
       "      <td>United States</td>\n",
       "      <td>18 - 29 years</td>\n",
       "      <td>4</td>\n",
       "      <td>May 21 - May 26</td>\n",
       "      <td>36.7</td>\n",
       "      <td>34.0</td>\n",
       "      <td>39.4</td>\n",
       "      <td>34.0 - 39.4</td>\n",
       "      <td>NaN</td>\n",
       "    </tr>\n",
       "    <tr>\n",
       "      <th>841</th>\n",
       "      <td>Symptoms of Depressive Disorder</td>\n",
       "      <td>By Age</td>\n",
       "      <td>United States</td>\n",
       "      <td>18 - 29 years</td>\n",
       "      <td>5</td>\n",
       "      <td>May 28 - June 2</td>\n",
       "      <td>36.8</td>\n",
       "      <td>34.8</td>\n",
       "      <td>38.8</td>\n",
       "      <td>34.8 - 38.8</td>\n",
       "      <td>NaN</td>\n",
       "    </tr>\n",
       "  </tbody>\n",
       "</table>\n",
       "</div>"
      ],
      "text/plain": [
       "                           Indicator   Group          State       Subgroup  \\\n",
       "1    Symptoms of Depressive Disorder  By Age  United States  18 - 29 years   \n",
       "211  Symptoms of Depressive Disorder  By Age  United States  18 - 29 years   \n",
       "421  Symptoms of Depressive Disorder  By Age  United States  18 - 29 years   \n",
       "631  Symptoms of Depressive Disorder  By Age  United States  18 - 29 years   \n",
       "841  Symptoms of Depressive Disorder  By Age  United States  18 - 29 years   \n",
       "\n",
       "     Week       Week Label  Value  Low CI  High CI Confidence Interval  \\\n",
       "1       1   Apr 23 - May 5   32.7    30.2     35.2         30.2 - 35.2   \n",
       "211     2   May 7 - May 12   36.2    32.2     40.2         32.2 - 40.2   \n",
       "421     3  May 14 - May 19   36.7    34.2     39.1         34.2 - 39.1   \n",
       "631     4  May 21 - May 26   36.7    34.0     39.4         34.0 - 39.4   \n",
       "841     5  May 28 - June 2   36.8    34.8     38.8         34.8 - 38.8   \n",
       "\n",
       "    Quartile range  \n",
       "1              NaN  \n",
       "211            NaN  \n",
       "421            NaN  \n",
       "631            NaN  \n",
       "841            NaN  "
      ]
     },
     "execution_count": 12,
     "metadata": {},
     "output_type": "execute_result"
    }
   ],
   "source": [
    "Depressionbyage = MentalHealth.loc[(MentalHealth[\"Indicator\"] == \"Symptoms of Depressive Disorder\")]\n",
    "\n",
    "df1 = Depressionbyage.loc[(MentalHealth[\"Subgroup\"] == \"18 - 29 years\")]\n",
    "df2 = Depressionbyage.loc[(MentalHealth[\"Subgroup\"] == \"30 - 39 years\")]\n",
    "df3 = Depressionbyage.loc[(MentalHealth[\"Subgroup\"] == \"40 - 49 years\")]\n",
    "df4 = Depressionbyage.loc[(MentalHealth[\"Subgroup\"] == \"50 - 59 years\")]\n",
    "df5 = Depressionbyage.loc[(MentalHealth[\"Subgroup\"] == \"60 - 69 years\")]\n",
    "df6 = Depressionbyage.loc[(MentalHealth[\"Subgroup\"] == \"70 - 79 years\")]\n",
    "\n",
    "Depressionbyage10 = pd.concat([df1, df2, df3, df4, df5, df6])\n",
    "Depressionbyage10.head()                                         "
   ]
  },
  {
   "cell_type": "code",
   "execution_count": 13,
   "metadata": {},
   "outputs": [
    {
     "data": {
      "text/plain": [
       "<matplotlib.axes._subplots.AxesSubplot at 0x2642704ae88>"
      ]
     },
     "execution_count": 13,
     "metadata": {},
     "output_type": "execute_result"
    },
    {
     "data": {
      "image/png": "[encoded data removed]",
      "text/plain": [
       "<Figure size 864x576 with 1 Axes>"
      ]
     },
     "metadata": {
      "needs_background": "light"
     },
     "output_type": "display_data"
    }
   ],
   "source": [
    "Depressionbyage10.boxplot('Value', by='Subgroup', figsize=(12, 8))"
   ]
  },
  {
   "cell_type": "code",
   "execution_count": 14,
   "metadata": {},
   "outputs": [
    {
     "data": {
      "text/html": [
       "<div>\n",
       "<style scoped>\n",
       "    .dataframe tbody tr th:only-of-type {\n",
       "        vertical-align: middle;\n",
       "    }\n",
       "\n",
       "    .dataframe tbody tr th {\n",
       "        vertical-align: top;\n",
       "    }\n",
       "\n",
       "    .dataframe thead th {\n",
       "        text-align: right;\n",
       "    }\n",
       "</style>\n",
       "<table border=\"1\" class=\"dataframe\">\n",
       "  <thead>\n",
       "    <tr style=\"text-align: right;\">\n",
       "      <th></th>\n",
       "      <th>Indicator</th>\n",
       "      <th>Group</th>\n",
       "      <th>State</th>\n",
       "      <th>Subgroup</th>\n",
       "      <th>Week</th>\n",
       "      <th>Week Label</th>\n",
       "      <th>Value</th>\n",
       "      <th>Low CI</th>\n",
       "      <th>High CI</th>\n",
       "      <th>Confidence Interval</th>\n",
       "      <th>Quartile range</th>\n",
       "    </tr>\n",
       "  </thead>\n",
       "  <tbody>\n",
       "    <tr>\n",
       "      <th>71</th>\n",
       "      <td>Symptoms of Anxiety Disorder</td>\n",
       "      <td>By Age</td>\n",
       "      <td>United States</td>\n",
       "      <td>18 - 29 years</td>\n",
       "      <td>1</td>\n",
       "      <td>Apr 23 - May 5</td>\n",
       "      <td>40.2</td>\n",
       "      <td>38.1</td>\n",
       "      <td>42.4</td>\n",
       "      <td>38.1 - 42.4</td>\n",
       "      <td>NaN</td>\n",
       "    </tr>\n",
       "    <tr>\n",
       "      <th>281</th>\n",
       "      <td>Symptoms of Anxiety Disorder</td>\n",
       "      <td>By Age</td>\n",
       "      <td>United States</td>\n",
       "      <td>18 - 29 years</td>\n",
       "      <td>2</td>\n",
       "      <td>May 7 - May 12</td>\n",
       "      <td>42.0</td>\n",
       "      <td>38.3</td>\n",
       "      <td>45.7</td>\n",
       "      <td>38.3 - 45.7</td>\n",
       "      <td>NaN</td>\n",
       "    </tr>\n",
       "    <tr>\n",
       "      <th>491</th>\n",
       "      <td>Symptoms of Anxiety Disorder</td>\n",
       "      <td>By Age</td>\n",
       "      <td>United States</td>\n",
       "      <td>18 - 29 years</td>\n",
       "      <td>3</td>\n",
       "      <td>May 14 - May 19</td>\n",
       "      <td>38.6</td>\n",
       "      <td>36.2</td>\n",
       "      <td>41.1</td>\n",
       "      <td>36.2 - 41.1</td>\n",
       "      <td>NaN</td>\n",
       "    </tr>\n",
       "    <tr>\n",
       "      <th>701</th>\n",
       "      <td>Symptoms of Anxiety Disorder</td>\n",
       "      <td>By Age</td>\n",
       "      <td>United States</td>\n",
       "      <td>18 - 29 years</td>\n",
       "      <td>4</td>\n",
       "      <td>May 21 - May 26</td>\n",
       "      <td>39.1</td>\n",
       "      <td>36.8</td>\n",
       "      <td>41.3</td>\n",
       "      <td>36.8 - 41.3</td>\n",
       "      <td>NaN</td>\n",
       "    </tr>\n",
       "    <tr>\n",
       "      <th>911</th>\n",
       "      <td>Symptoms of Anxiety Disorder</td>\n",
       "      <td>By Age</td>\n",
       "      <td>United States</td>\n",
       "      <td>18 - 29 years</td>\n",
       "      <td>5</td>\n",
       "      <td>May 28 - June 2</td>\n",
       "      <td>42.2</td>\n",
       "      <td>40.5</td>\n",
       "      <td>43.9</td>\n",
       "      <td>40.5 - 43.9</td>\n",
       "      <td>NaN</td>\n",
       "    </tr>\n",
       "  </tbody>\n",
       "</table>\n",
       "</div>"
      ],
      "text/plain": [
       "                        Indicator   Group          State       Subgroup  Week  \\\n",
       "71   Symptoms of Anxiety Disorder  By Age  United States  18 - 29 years     1   \n",
       "281  Symptoms of Anxiety Disorder  By Age  United States  18 - 29 years     2   \n",
       "491  Symptoms of Anxiety Disorder  By Age  United States  18 - 29 years     3   \n",
       "701  Symptoms of Anxiety Disorder  By Age  United States  18 - 29 years     4   \n",
       "911  Symptoms of Anxiety Disorder  By Age  United States  18 - 29 years     5   \n",
       "\n",
       "          Week Label  Value  Low CI  High CI Confidence Interval  \\\n",
       "71    Apr 23 - May 5   40.2    38.1     42.4         38.1 - 42.4   \n",
       "281   May 7 - May 12   42.0    38.3     45.7         38.3 - 45.7   \n",
       "491  May 14 - May 19   38.6    36.2     41.1         36.2 - 41.1   \n",
       "701  May 21 - May 26   39.1    36.8     41.3         36.8 - 41.3   \n",
       "911  May 28 - June 2   42.2    40.5     43.9         40.5 - 43.9   \n",
       "\n",
       "    Quartile range  \n",
       "71             NaN  \n",
       "281            NaN  \n",
       "491            NaN  \n",
       "701            NaN  \n",
       "911            NaN  "
      ]
     },
     "execution_count": 14,
     "metadata": {},
     "output_type": "execute_result"
    }
   ],
   "source": [
    "Anxietybyage = MentalHealth.loc[(MentalHealth[\"Indicator\"] == \"Symptoms of Anxiety Disorder\")]\n",
    "\n",
    "df1 = Anxietybyage.loc[(MentalHealth[\"Subgroup\"] == \"18 - 29 years\")]\n",
    "df2 = Anxietybyage.loc[(MentalHealth[\"Subgroup\"] == \"30 - 39 years\")]\n",
    "df3 = Anxietybyage.loc[(MentalHealth[\"Subgroup\"] == \"40 - 49 years\")]\n",
    "df4 = Anxietybyage.loc[(MentalHealth[\"Subgroup\"] == \"50 - 59 years\")]\n",
    "df5 = Anxietybyage.loc[(MentalHealth[\"Subgroup\"] == \"60 - 69 years\")]\n",
    "df6 = Anxietybyage.loc[(MentalHealth[\"Subgroup\"] == \"70 - 79 years\")]\n",
    "\n",
    "Anxietybyage10 = pd.concat([df1, df2, df3, df4, df5, df6])\n",
    "Anxietybyage10.head()   "
   ]
  },
  {
   "cell_type": "code",
   "execution_count": 15,
   "metadata": {},
   "outputs": [
    {
     "data": {
      "text/plain": [
       "<matplotlib.axes._subplots.AxesSubplot at 0x26427ac7d88>"
      ]
     },
     "execution_count": 15,
     "metadata": {},
     "output_type": "execute_result"
    },
    {
     "data": {
      "image/png": "[encoded data removed]",
      "text/plain": [
       "<Figure size 864x576 with 1 Axes>"
      ]
     },
     "metadata": {
      "needs_background": "light"
     },
     "output_type": "display_data"
    }
   ],
   "source": [
    "#Create a boxplot\n",
    "Anxietybyage10.boxplot('Value', by='Subgroup', figsize=(12, 8))"
   ]
  },
  {
   "cell_type": "code",
   "execution_count": 16,
   "metadata": {},
   "outputs": [
    {
     "data": {
      "text/html": [
       "<div>\n",
       "<style scoped>\n",
       "    .dataframe tbody tr th:only-of-type {\n",
       "        vertical-align: middle;\n",
       "    }\n",
       "\n",
       "    .dataframe tbody tr th {\n",
       "        vertical-align: top;\n",
       "    }\n",
       "\n",
       "    .dataframe thead th {\n",
       "        text-align: right;\n",
       "    }\n",
       "</style>\n",
       "<table border=\"1\" class=\"dataframe\">\n",
       "  <thead>\n",
       "    <tr style=\"text-align: right;\">\n",
       "      <th></th>\n",
       "      <th>Indicator</th>\n",
       "      <th>Group</th>\n",
       "      <th>State</th>\n",
       "      <th>Subgroup</th>\n",
       "      <th>Week</th>\n",
       "      <th>Week Label</th>\n",
       "      <th>Value</th>\n",
       "      <th>Low CI</th>\n",
       "      <th>High CI</th>\n",
       "      <th>Confidence Interval</th>\n",
       "      <th>Quartile range</th>\n",
       "    </tr>\n",
       "  </thead>\n",
       "  <tbody>\n",
       "    <tr>\n",
       "      <th>141</th>\n",
       "      <td>Symptoms of Anxiety Disorder or Depressive Dis...</td>\n",
       "      <td>By Age</td>\n",
       "      <td>United States</td>\n",
       "      <td>18 - 29 years</td>\n",
       "      <td>1</td>\n",
       "      <td>Apr 23 - May 5</td>\n",
       "      <td>46.8</td>\n",
       "      <td>44.3</td>\n",
       "      <td>49.3</td>\n",
       "      <td>44.3 - 49.3</td>\n",
       "      <td>NaN</td>\n",
       "    </tr>\n",
       "    <tr>\n",
       "      <th>351</th>\n",
       "      <td>Symptoms of Anxiety Disorder or Depressive Dis...</td>\n",
       "      <td>By Age</td>\n",
       "      <td>United States</td>\n",
       "      <td>18 - 29 years</td>\n",
       "      <td>2</td>\n",
       "      <td>May 7 - May 12</td>\n",
       "      <td>47.4</td>\n",
       "      <td>43.4</td>\n",
       "      <td>51.3</td>\n",
       "      <td>43.4 - 51.3</td>\n",
       "      <td>NaN</td>\n",
       "    </tr>\n",
       "    <tr>\n",
       "      <th>561</th>\n",
       "      <td>Symptoms of Anxiety Disorder or Depressive Dis...</td>\n",
       "      <td>By Age</td>\n",
       "      <td>United States</td>\n",
       "      <td>18 - 29 years</td>\n",
       "      <td>3</td>\n",
       "      <td>May 14 - May 19</td>\n",
       "      <td>47.7</td>\n",
       "      <td>45.1</td>\n",
       "      <td>50.4</td>\n",
       "      <td>45.1 - 50.4</td>\n",
       "      <td>NaN</td>\n",
       "    </tr>\n",
       "    <tr>\n",
       "      <th>771</th>\n",
       "      <td>Symptoms of Anxiety Disorder or Depressive Dis...</td>\n",
       "      <td>By Age</td>\n",
       "      <td>United States</td>\n",
       "      <td>18 - 29 years</td>\n",
       "      <td>4</td>\n",
       "      <td>May 21 - May 26</td>\n",
       "      <td>46.6</td>\n",
       "      <td>44.0</td>\n",
       "      <td>49.2</td>\n",
       "      <td>44.0 - 49.2</td>\n",
       "      <td>NaN</td>\n",
       "    </tr>\n",
       "    <tr>\n",
       "      <th>981</th>\n",
       "      <td>Symptoms of Anxiety Disorder or Depressive Dis...</td>\n",
       "      <td>By Age</td>\n",
       "      <td>United States</td>\n",
       "      <td>18 - 29 years</td>\n",
       "      <td>5</td>\n",
       "      <td>May 28 - June 2</td>\n",
       "      <td>49.3</td>\n",
       "      <td>47.4</td>\n",
       "      <td>51.2</td>\n",
       "      <td>47.4 - 51.2</td>\n",
       "      <td>NaN</td>\n",
       "    </tr>\n",
       "  </tbody>\n",
       "</table>\n",
       "</div>"
      ],
      "text/plain": [
       "                                             Indicator   Group          State  \\\n",
       "141  Symptoms of Anxiety Disorder or Depressive Dis...  By Age  United States   \n",
       "351  Symptoms of Anxiety Disorder or Depressive Dis...  By Age  United States   \n",
       "561  Symptoms of Anxiety Disorder or Depressive Dis...  By Age  United States   \n",
       "771  Symptoms of Anxiety Disorder or Depressive Dis...  By Age  United States   \n",
       "981  Symptoms of Anxiety Disorder or Depressive Dis...  By Age  United States   \n",
       "\n",
       "          Subgroup  Week       Week Label  Value  Low CI  High CI  \\\n",
       "141  18 - 29 years     1   Apr 23 - May 5   46.8    44.3     49.3   \n",
       "351  18 - 29 years     2   May 7 - May 12   47.4    43.4     51.3   \n",
       "561  18 - 29 years     3  May 14 - May 19   47.7    45.1     50.4   \n",
       "771  18 - 29 years     4  May 21 - May 26   46.6    44.0     49.2   \n",
       "981  18 - 29 years     5  May 28 - June 2   49.3    47.4     51.2   \n",
       "\n",
       "    Confidence Interval Quartile range  \n",
       "141         44.3 - 49.3            NaN  \n",
       "351         43.4 - 51.3            NaN  \n",
       "561         45.1 - 50.4            NaN  \n",
       "771         44.0 - 49.2            NaN  \n",
       "981         47.4 - 51.2            NaN  "
      ]
     },
     "execution_count": 16,
     "metadata": {},
     "output_type": "execute_result"
    }
   ],
   "source": [
    "AORDbyage = MentalHealth.loc[(MentalHealth[\"Indicator\"] == \"Symptoms of Anxiety Disorder or Depressive Disorder\")]\n",
    "\n",
    "df1 = AORDbyage.loc[(MentalHealth[\"Subgroup\"] == \"18 - 29 years\")]\n",
    "df2 = AORDbyage.loc[(MentalHealth[\"Subgroup\"] == \"30 - 39 years\")]\n",
    "df3 = AORDbyage.loc[(MentalHealth[\"Subgroup\"] == \"40 - 49 years\")]\n",
    "df4 = AORDbyage.loc[(MentalHealth[\"Subgroup\"] == \"50 - 59 years\")]\n",
    "df5 = AORDbyage.loc[(MentalHealth[\"Subgroup\"] == \"60 - 69 years\")]\n",
    "df6 = AORDbyage.loc[(MentalHealth[\"Subgroup\"] == \"70 - 79 years\")]\n",
    "\n",
    "AORDbyage10 = pd.concat([df1, df2, df3, df4, df5, df6])\n",
    "AORDbyage10.head() "
   ]
  },
  {
   "cell_type": "code",
   "execution_count": 17,
   "metadata": {},
   "outputs": [
    {
     "data": {
      "text/plain": [
       "<matplotlib.axes._subplots.AxesSubplot at 0x26427991248>"
      ]
     },
     "execution_count": 17,
     "metadata": {},
     "output_type": "execute_result"
    },
    {
     "data": {
      "image/png": "[encoded data removed]",
      "text/plain": [
       "<Figure size 864x576 with 1 Axes>"
      ]
     },
     "metadata": {
      "needs_background": "light"
     },
     "output_type": "display_data"
    }
   ],
   "source": [
    "AORDbyage10.boxplot('Value', by='Subgroup', figsize=(12, 8))"
   ]
  },
  {
   "cell_type": "markdown",
   "metadata": {},
   "source": [
    "## Hypothesis Testing (Depression for Subgroup: 18-29 years)\n",
    "\n",
    "Statistical significance was set at p = 0.05"
   ]
  },
  {
   "cell_type": "markdown",
   "metadata": {},
   "source": [
    "Hypothesis(N) = There is no difference in the level of depression between the age groups\n",
    "\n",
    "Hypothesis(A) = There is a difference in the level of depression between the age groups "
   ]
  },
  {
   "cell_type": "code",
   "execution_count": 18,
   "metadata": {},
   "outputs": [
    {
     "name": "stdout",
     "output_type": "stream",
     "text": [
      "                            OLS Regression Results                            \n",
      "==============================================================================\n",
      "Dep. Variable:                  Value   R-squared:                       0.978\n",
      "Model:                            OLS   Adj. R-squared:                  0.975\n",
      "Method:                 Least Squares   F-statistic:                     315.5\n",
      "Date:                Wed, 23 Dec 2020   Prob (F-statistic):           1.15e-28\n",
      "Time:                        09:32:46   Log-Likelihood:                -62.000\n",
      "No. Observations:                  42   AIC:                             136.0\n",
      "Df Residuals:                      36   BIC:                             146.4\n",
      "Df Model:                           5                                         \n",
      "Covariance Type:            nonrobust                                         \n",
      "=============================================================================================\n",
      "                                coef    std err          t      P>|t|      [0.025      0.975]\n",
      "---------------------------------------------------------------------------------------------\n",
      "Intercept                    36.1286      0.432     83.573      0.000      35.252      37.005\n",
      "Subgroup[T.30 - 39 years]    -8.8143      0.611    -14.417      0.000     -10.054      -7.574\n",
      "Subgroup[T.40 - 49 years]   -10.6857      0.611    -17.479      0.000     -11.926      -9.446\n",
      "Subgroup[T.50 - 59 years]   -11.5286      0.611    -18.857      0.000     -12.768     -10.289\n",
      "Subgroup[T.60 - 69 years]   -17.3857      0.611    -28.438      0.000     -18.626     -16.146\n",
      "Subgroup[T.70 - 79 years]   -22.4857      0.611    -36.780      0.000     -23.726     -21.246\n",
      "==============================================================================\n",
      "Omnibus:                        5.090   Durbin-Watson:                   1.606\n",
      "Prob(Omnibus):                  0.078   Jarque-Bera (JB):                3.863\n",
      "Skew:                          -0.560   Prob(JB):                        0.145\n",
      "Kurtosis:                       3.976   Cond. No.                         6.85\n",
      "==============================================================================\n",
      "\n",
      "Warnings:\n",
      "[1] Standard Errors assume that the covariance matrix of the errors is correctly specified.\n"
     ]
    }
   ],
   "source": [
    "# Load data\n",
    "dat = Depressionbyage10\n",
    "\n",
    "# Fit regression model \n",
    "results = smf.ols('Value ~ Subgroup', data=dat).fit()\n",
    "\n",
    "# Inspect the results\n",
    "print(results.summary())"
   ]
  },
  {
   "cell_type": "markdown",
   "metadata": {},
   "source": [
    "### In this table, p value is 0.00 and it is less than our chosen level of signifance at 5%. \n",
    "\n",
    "### There we will reject the the null hypothesis at 5% level of significance."
   ]
  },
  {
   "cell_type": "markdown",
   "metadata": {},
   "source": [
    "## Hypothesis Testing (Anxiety for Subgroup: 18-29 years)\n",
    "\n",
    "Statistical significance was set at p = 0.05"
   ]
  },
  {
   "cell_type": "markdown",
   "metadata": {},
   "source": [
    "Hypothesis(N) = There is no difference in the level of anxiety between the age groups \n",
    "\n",
    "Hypothesis(A) = There is a difference in the level of anxiety between the age groups "
   ]
  },
  {
   "cell_type": "code",
   "execution_count": 19,
   "metadata": {},
   "outputs": [
    {
     "name": "stdout",
     "output_type": "stream",
     "text": [
      "                            OLS Regression Results                            \n",
      "==============================================================================\n",
      "Dep. Variable:                  Value   R-squared:                       0.971\n",
      "Model:                            OLS   Adj. R-squared:                  0.967\n",
      "Method:                 Least Squares   F-statistic:                     241.6\n",
      "Date:                Wed, 23 Dec 2020   Prob (F-statistic):           1.24e-26\n",
      "Time:                        09:32:46   Log-Likelihood:                -73.762\n",
      "No. Observations:                  42   AIC:                             159.5\n",
      "Df Residuals:                      36   BIC:                             170.0\n",
      "Df Model:                           5                                         \n",
      "Covariance Type:            nonrobust                                         \n",
      "=============================================================================================\n",
      "                                coef    std err          t      P>|t|      [0.025      0.975]\n",
      "---------------------------------------------------------------------------------------------\n",
      "Intercept                    40.9571      0.572     71.600      0.000      39.797      42.117\n",
      "Subgroup[T.30 - 39 years]    -6.0286      0.809     -7.452      0.000      -7.669      -4.388\n",
      "Subgroup[T.40 - 49 years]    -8.1143      0.809    -10.030      0.000      -9.755      -6.474\n",
      "Subgroup[T.50 - 59 years]   -10.5571      0.809    -13.050      0.000     -12.198      -8.916\n",
      "Subgroup[T.60 - 69 years]   -18.0571      0.809    -22.321      0.000     -19.698     -16.416\n",
      "Subgroup[T.70 - 79 years]   -24.8429      0.809    -30.709      0.000     -26.484     -23.202\n",
      "==============================================================================\n",
      "Omnibus:                        4.459   Durbin-Watson:                   1.568\n",
      "Prob(Omnibus):                  0.108   Jarque-Bera (JB):                2.006\n",
      "Skew:                          -0.188   Prob(JB):                        0.367\n",
      "Kurtosis:                       1.997   Cond. No.                         6.85\n",
      "==============================================================================\n",
      "\n",
      "Warnings:\n",
      "[1] Standard Errors assume that the covariance matrix of the errors is correctly specified.\n"
     ]
    }
   ],
   "source": [
    "# Load data\n",
    "dat = Anxietybyage10\n",
    "\n",
    "# Fit regression model (using the natural log of one of the regressors)\n",
    "results = smf.ols('Value ~ Subgroup', data=dat).fit()\n",
    "\n",
    "# Inspect the results\n",
    "print(results.summary())"
   ]
  },
  {
   "cell_type": "markdown",
   "metadata": {},
   "source": [
    "### In this table, p value is 0.00 and it is less than our chosen level of signifance at 5%. \n",
    "\n",
    "### There we will reject the the null hypothesis at 5% level of significance."
   ]
  },
  {
   "cell_type": "markdown",
   "metadata": {},
   "source": [
    "## Hypothesis Testing (Anxiety or Depression for Subgroup: 18-29 years)\n",
    "\n",
    "Statistical significance was set at p = 0.05"
   ]
  },
  {
   "cell_type": "markdown",
   "metadata": {},
   "source": [
    "Hypothesis(N) = There is no difference in the level of anxiety or depression between the age groups\n",
    "\n",
    "Hypothesis(A) = There is a difference in the level of anxiety or depression between the age groups"
   ]
  },
  {
   "cell_type": "code",
   "execution_count": 20,
   "metadata": {},
   "outputs": [
    {
     "name": "stdout",
     "output_type": "stream",
     "text": [
      "                            OLS Regression Results                            \n",
      "==============================================================================\n",
      "Dep. Variable:                  Value   R-squared:                       0.983\n",
      "Model:                            OLS   Adj. R-squared:                  0.981\n",
      "Method:                 Least Squares   F-statistic:                     420.7\n",
      "Date:                Wed, 23 Dec 2020   Prob (F-statistic):           7.26e-31\n",
      "Time:                        09:32:46   Log-Likelihood:                -66.106\n",
      "No. Observations:                  42   AIC:                             144.2\n",
      "Df Residuals:                      36   BIC:                             154.6\n",
      "Df Model:                           5                                         \n",
      "Covariance Type:            nonrobust                                         \n",
      "=============================================================================================\n",
      "                                coef    std err          t      P>|t|      [0.025      0.975]\n",
      "---------------------------------------------------------------------------------------------\n",
      "Intercept                    47.9714      0.477    100.632      0.000      47.005      48.938\n",
      "Subgroup[T.30 - 39 years]    -8.1714      0.674    -12.121      0.000      -9.539      -6.804\n",
      "Subgroup[T.40 - 49 years]   -10.6714      0.674    -15.829      0.000     -12.039      -9.304\n",
      "Subgroup[T.50 - 59 years]   -13.1000      0.674    -19.432      0.000     -14.467     -11.733\n",
      "Subgroup[T.60 - 69 years]   -20.7857      0.674    -30.832      0.000     -22.153     -19.418\n",
      "Subgroup[T.70 - 79 years]   -27.8571      0.674    -41.321      0.000     -29.224     -26.490\n",
      "==============================================================================\n",
      "Omnibus:                       12.227   Durbin-Watson:                   1.497\n",
      "Prob(Omnibus):                  0.002   Jarque-Bera (JB):                2.897\n",
      "Skew:                          -0.073   Prob(JB):                        0.235\n",
      "Kurtosis:                       1.722   Cond. No.                         6.85\n",
      "==============================================================================\n",
      "\n",
      "Warnings:\n",
      "[1] Standard Errors assume that the covariance matrix of the errors is correctly specified.\n"
     ]
    }
   ],
   "source": [
    "# Load data\n",
    "dat = AORDbyage10\n",
    "\n",
    "# Fit regression model (using the natural log of one of the regressors)\n",
    "results = smf.ols('Value ~ Subgroup', data=dat).fit()\n",
    "\n",
    "# Inspect the results\n",
    "print(results.summary())"
   ]
  },
  {
   "cell_type": "markdown",
   "metadata": {},
   "source": [
    "### In this table, p value is 0.00 and it is less than our chosen level of signifance at 5%. \n",
    "\n",
    "### There we will reject the the null hypothesis at 5% level of significance."
   ]
  },
  {
   "cell_type": "markdown",
   "metadata": {},
   "source": [
    "## Analysis of the Subgroup: Race"
   ]
  },
  {
   "cell_type": "code",
   "execution_count": 21,
   "metadata": {},
   "outputs": [
    {
     "data": {
      "text/html": [
       "<div>\n",
       "<style scoped>\n",
       "    .dataframe tbody tr th:only-of-type {\n",
       "        vertical-align: middle;\n",
       "    }\n",
       "\n",
       "    .dataframe tbody tr th {\n",
       "        vertical-align: top;\n",
       "    }\n",
       "\n",
       "    .dataframe thead th {\n",
       "        text-align: right;\n",
       "    }\n",
       "</style>\n",
       "<table border=\"1\" class=\"dataframe\">\n",
       "  <thead>\n",
       "    <tr style=\"text-align: right;\">\n",
       "      <th></th>\n",
       "      <th>Indicator</th>\n",
       "      <th>Group</th>\n",
       "      <th>State</th>\n",
       "      <th>Subgroup</th>\n",
       "      <th>Week</th>\n",
       "      <th>Week Label</th>\n",
       "      <th>Value</th>\n",
       "      <th>Low CI</th>\n",
       "      <th>High CI</th>\n",
       "      <th>Confidence Interval</th>\n",
       "      <th>Quartile range</th>\n",
       "    </tr>\n",
       "  </thead>\n",
       "  <tbody>\n",
       "    <tr>\n",
       "      <th>14</th>\n",
       "      <td>Symptoms of Depressive Disorder</td>\n",
       "      <td>By Race/Hispanic ethnicity</td>\n",
       "      <td>United States</td>\n",
       "      <td>Non-Hispanic, other races and multiple races</td>\n",
       "      <td>1</td>\n",
       "      <td>Apr 23 - May 5</td>\n",
       "      <td>28.3</td>\n",
       "      <td>24.8</td>\n",
       "      <td>32.0</td>\n",
       "      <td>24.8 - 32.0</td>\n",
       "      <td>NaN</td>\n",
       "    </tr>\n",
       "    <tr>\n",
       "      <th>224</th>\n",
       "      <td>Symptoms of Depressive Disorder</td>\n",
       "      <td>By Race/Hispanic ethnicity</td>\n",
       "      <td>United States</td>\n",
       "      <td>Non-Hispanic, other races and multiple races</td>\n",
       "      <td>2</td>\n",
       "      <td>May 7 - May 12</td>\n",
       "      <td>33.0</td>\n",
       "      <td>28.6</td>\n",
       "      <td>37.7</td>\n",
       "      <td>28.6 - 37.7</td>\n",
       "      <td>NaN</td>\n",
       "    </tr>\n",
       "    <tr>\n",
       "      <th>434</th>\n",
       "      <td>Symptoms of Depressive Disorder</td>\n",
       "      <td>By Race/Hispanic ethnicity</td>\n",
       "      <td>United States</td>\n",
       "      <td>Non-Hispanic, other races and multiple races</td>\n",
       "      <td>3</td>\n",
       "      <td>May 14 - May 19</td>\n",
       "      <td>27.1</td>\n",
       "      <td>23.9</td>\n",
       "      <td>30.6</td>\n",
       "      <td>23.9 - 30.6</td>\n",
       "      <td>NaN</td>\n",
       "    </tr>\n",
       "    <tr>\n",
       "      <th>644</th>\n",
       "      <td>Symptoms of Depressive Disorder</td>\n",
       "      <td>By Race/Hispanic ethnicity</td>\n",
       "      <td>United States</td>\n",
       "      <td>Non-Hispanic, other races and multiple races</td>\n",
       "      <td>4</td>\n",
       "      <td>May 21 - May 26</td>\n",
       "      <td>32.2</td>\n",
       "      <td>28.3</td>\n",
       "      <td>36.3</td>\n",
       "      <td>28.3 - 36.3</td>\n",
       "      <td>NaN</td>\n",
       "    </tr>\n",
       "    <tr>\n",
       "      <th>854</th>\n",
       "      <td>Symptoms of Depressive Disorder</td>\n",
       "      <td>By Race/Hispanic ethnicity</td>\n",
       "      <td>United States</td>\n",
       "      <td>Non-Hispanic, other races and multiple races</td>\n",
       "      <td>5</td>\n",
       "      <td>May 28 - June 2</td>\n",
       "      <td>37.6</td>\n",
       "      <td>33.3</td>\n",
       "      <td>42.0</td>\n",
       "      <td>33.3 - 42.0</td>\n",
       "      <td>NaN</td>\n",
       "    </tr>\n",
       "  </tbody>\n",
       "</table>\n",
       "</div>"
      ],
      "text/plain": [
       "                           Indicator                       Group  \\\n",
       "14   Symptoms of Depressive Disorder  By Race/Hispanic ethnicity   \n",
       "224  Symptoms of Depressive Disorder  By Race/Hispanic ethnicity   \n",
       "434  Symptoms of Depressive Disorder  By Race/Hispanic ethnicity   \n",
       "644  Symptoms of Depressive Disorder  By Race/Hispanic ethnicity   \n",
       "854  Symptoms of Depressive Disorder  By Race/Hispanic ethnicity   \n",
       "\n",
       "             State                                      Subgroup  Week  \\\n",
       "14   United States  Non-Hispanic, other races and multiple races     1   \n",
       "224  United States  Non-Hispanic, other races and multiple races     2   \n",
       "434  United States  Non-Hispanic, other races and multiple races     3   \n",
       "644  United States  Non-Hispanic, other races and multiple races     4   \n",
       "854  United States  Non-Hispanic, other races and multiple races     5   \n",
       "\n",
       "          Week Label  Value  Low CI  High CI Confidence Interval  \\\n",
       "14    Apr 23 - May 5   28.3    24.8     32.0         24.8 - 32.0   \n",
       "224   May 7 - May 12   33.0    28.6     37.7         28.6 - 37.7   \n",
       "434  May 14 - May 19   27.1    23.9     30.6         23.9 - 30.6   \n",
       "644  May 21 - May 26   32.2    28.3     36.3         28.3 - 36.3   \n",
       "854  May 28 - June 2   37.6    33.3     42.0         33.3 - 42.0   \n",
       "\n",
       "    Quartile range  \n",
       "14             NaN  \n",
       "224            NaN  \n",
       "434            NaN  \n",
       "644            NaN  \n",
       "854            NaN  "
      ]
     },
     "execution_count": 21,
     "metadata": {},
     "output_type": "execute_result"
    }
   ],
   "source": [
    "Depressionbyrace = MentalHealth.loc[(MentalHealth[\"Indicator\"] == \"Symptoms of Depressive Disorder\")]\n",
    "\n",
    "df1 = Depressionbyrace.loc[(MentalHealth[\"Subgroup\"] == \"Non-Hispanic, other races and multiple races\")]\n",
    "df2 = Depressionbyrace.loc[(MentalHealth[\"Subgroup\"] == \"Non-Hispanic white, single race\")]\n",
    "df3 = Depressionbyrace.loc[(MentalHealth[\"Subgroup\"] == \"Non-Hispanic black, single race\")]\n",
    "df4 = Depressionbyrace.loc[(MentalHealth[\"Subgroup\"] == \"Non-Hispanic Asian, single race\")]\n",
    "df5 = Depressionbyrace.loc[(MentalHealth[\"Subgroup\"] == \"Hispanic or Latino\")]\n",
    "\n",
    "Depressionbyrace10 = pd.concat([df1, df2, df3, df4, df5])\n",
    "Depressionbyrace10.head()    "
   ]
  },
  {
   "cell_type": "code",
   "execution_count": 22,
   "metadata": {},
   "outputs": [
    {
     "data": {
      "text/plain": [
       "<matplotlib.axes._subplots.AxesSubplot at 0x26427a2fec8>"
      ]
     },
     "execution_count": 22,
     "metadata": {},
     "output_type": "execute_result"
    },
    {
     "data": {
      "image/png": "[encoded data removed]",
      "text/plain": [
       "<Figure size 1296x576 with 1 Axes>"
      ]
     },
     "metadata": {
      "needs_background": "light"
     },
     "output_type": "display_data"
    }
   ],
   "source": [
    "Depressionbyrace10.boxplot('Value', by='Subgroup', figsize=(18, 8))"
   ]
  },
  {
   "cell_type": "code",
   "execution_count": 23,
   "metadata": {},
   "outputs": [
    {
     "data": {
      "text/html": [
       "<div>\n",
       "<style scoped>\n",
       "    .dataframe tbody tr th:only-of-type {\n",
       "        vertical-align: middle;\n",
       "    }\n",
       "\n",
       "    .dataframe tbody tr th {\n",
       "        vertical-align: top;\n",
       "    }\n",
       "\n",
       "    .dataframe thead th {\n",
       "        text-align: right;\n",
       "    }\n",
       "</style>\n",
       "<table border=\"1\" class=\"dataframe\">\n",
       "  <thead>\n",
       "    <tr style=\"text-align: right;\">\n",
       "      <th></th>\n",
       "      <th>Indicator</th>\n",
       "      <th>Group</th>\n",
       "      <th>State</th>\n",
       "      <th>Subgroup</th>\n",
       "      <th>Week</th>\n",
       "      <th>Week Label</th>\n",
       "      <th>Value</th>\n",
       "      <th>Low CI</th>\n",
       "      <th>High CI</th>\n",
       "      <th>Confidence Interval</th>\n",
       "      <th>Quartile range</th>\n",
       "    </tr>\n",
       "  </thead>\n",
       "  <tbody>\n",
       "    <tr>\n",
       "      <th>80</th>\n",
       "      <td>Symptoms of Anxiety Disorder</td>\n",
       "      <td>By Race/Hispanic ethnicity</td>\n",
       "      <td>United States</td>\n",
       "      <td>Hispanic or Latino</td>\n",
       "      <td>1</td>\n",
       "      <td>Apr 23 - May 5</td>\n",
       "      <td>36.3</td>\n",
       "      <td>33.4</td>\n",
       "      <td>39.2</td>\n",
       "      <td>33.4 - 39.2</td>\n",
       "      <td>NaN</td>\n",
       "    </tr>\n",
       "    <tr>\n",
       "      <th>290</th>\n",
       "      <td>Symptoms of Anxiety Disorder</td>\n",
       "      <td>By Race/Hispanic ethnicity</td>\n",
       "      <td>United States</td>\n",
       "      <td>Hispanic or Latino</td>\n",
       "      <td>2</td>\n",
       "      <td>May 7 - May 12</td>\n",
       "      <td>36.2</td>\n",
       "      <td>32.6</td>\n",
       "      <td>39.9</td>\n",
       "      <td>32.6 - 39.9</td>\n",
       "      <td>NaN</td>\n",
       "    </tr>\n",
       "    <tr>\n",
       "      <th>500</th>\n",
       "      <td>Symptoms of Anxiety Disorder</td>\n",
       "      <td>By Race/Hispanic ethnicity</td>\n",
       "      <td>United States</td>\n",
       "      <td>Hispanic or Latino</td>\n",
       "      <td>3</td>\n",
       "      <td>May 14 - May 19</td>\n",
       "      <td>33.6</td>\n",
       "      <td>31.1</td>\n",
       "      <td>36.2</td>\n",
       "      <td>31.1 - 36.2</td>\n",
       "      <td>NaN</td>\n",
       "    </tr>\n",
       "    <tr>\n",
       "      <th>710</th>\n",
       "      <td>Symptoms of Anxiety Disorder</td>\n",
       "      <td>By Race/Hispanic ethnicity</td>\n",
       "      <td>United States</td>\n",
       "      <td>Hispanic or Latino</td>\n",
       "      <td>4</td>\n",
       "      <td>May 21 - May 26</td>\n",
       "      <td>36.3</td>\n",
       "      <td>33.5</td>\n",
       "      <td>39.2</td>\n",
       "      <td>33.5 - 39.2</td>\n",
       "      <td>NaN</td>\n",
       "    </tr>\n",
       "    <tr>\n",
       "      <th>920</th>\n",
       "      <td>Symptoms of Anxiety Disorder</td>\n",
       "      <td>By Race/Hispanic ethnicity</td>\n",
       "      <td>United States</td>\n",
       "      <td>Hispanic or Latino</td>\n",
       "      <td>5</td>\n",
       "      <td>May 28 - June 2</td>\n",
       "      <td>32.1</td>\n",
       "      <td>30.1</td>\n",
       "      <td>34.1</td>\n",
       "      <td>30.1 - 34.1</td>\n",
       "      <td>NaN</td>\n",
       "    </tr>\n",
       "  </tbody>\n",
       "</table>\n",
       "</div>"
      ],
      "text/plain": [
       "                        Indicator                       Group          State  \\\n",
       "80   Symptoms of Anxiety Disorder  By Race/Hispanic ethnicity  United States   \n",
       "290  Symptoms of Anxiety Disorder  By Race/Hispanic ethnicity  United States   \n",
       "500  Symptoms of Anxiety Disorder  By Race/Hispanic ethnicity  United States   \n",
       "710  Symptoms of Anxiety Disorder  By Race/Hispanic ethnicity  United States   \n",
       "920  Symptoms of Anxiety Disorder  By Race/Hispanic ethnicity  United States   \n",
       "\n",
       "               Subgroup  Week       Week Label  Value  Low CI  High CI  \\\n",
       "80   Hispanic or Latino     1   Apr 23 - May 5   36.3    33.4     39.2   \n",
       "290  Hispanic or Latino     2   May 7 - May 12   36.2    32.6     39.9   \n",
       "500  Hispanic or Latino     3  May 14 - May 19   33.6    31.1     36.2   \n",
       "710  Hispanic or Latino     4  May 21 - May 26   36.3    33.5     39.2   \n",
       "920  Hispanic or Latino     5  May 28 - June 2   32.1    30.1     34.1   \n",
       "\n",
       "    Confidence Interval Quartile range  \n",
       "80          33.4 - 39.2            NaN  \n",
       "290         32.6 - 39.9            NaN  \n",
       "500         31.1 - 36.2            NaN  \n",
       "710         33.5 - 39.2            NaN  \n",
       "920         30.1 - 34.1            NaN  "
      ]
     },
     "execution_count": 23,
     "metadata": {},
     "output_type": "execute_result"
    }
   ],
   "source": [
    "Anxietybyrace = MentalHealth.loc[(MentalHealth[\"Indicator\"] == \"Symptoms of Anxiety Disorder\")]\n",
    "\n",
    "df1 = Anxietybyrace.loc[(MentalHealth[\"Subgroup\"] == \"Hispanic or Latino\")]\n",
    "df2 = Anxietybyrace.loc[(MentalHealth[\"Subgroup\"] == \"Non-Hispanic white, single race\")]\n",
    "df3 = Anxietybyrace.loc[(MentalHealth[\"Subgroup\"] == \"Non-Hispanic black, single race\")]\n",
    "df4 = Anxietybyrace.loc[(MentalHealth[\"Subgroup\"] == \"Non-Hispanic Asian, single race\")]\n",
    "df5 = Anxietybyrace.loc[(MentalHealth[\"Subgroup\"] == \"Non-Hispanic, other races and multiple races\")]\n",
    "\n",
    "Anxietybyrace10 = pd.concat([df1, df2, df3, df4, df5])\n",
    "Anxietybyrace10.head() "
   ]
  },
  {
   "cell_type": "code",
   "execution_count": 24,
   "metadata": {},
   "outputs": [
    {
     "data": {
      "text/plain": [
       "<matplotlib.axes._subplots.AxesSubplot at 0x26427d6c408>"
      ]
     },
     "execution_count": 24,
     "metadata": {},
     "output_type": "execute_result"
    },
    {
     "data": {
      "image/png": "[encoded data removed]",
      "text/plain": [
       "<Figure size 1296x576 with 1 Axes>"
      ]
     },
     "metadata": {
      "needs_background": "light"
     },
     "output_type": "display_data"
    }
   ],
   "source": [
    "Anxietybyrace10.boxplot('Value', by='Subgroup', figsize=(18, 8))"
   ]
  },
  {
   "cell_type": "code",
   "execution_count": 25,
   "metadata": {},
   "outputs": [
    {
     "data": {
      "text/html": [
       "<div>\n",
       "<style scoped>\n",
       "    .dataframe tbody tr th:only-of-type {\n",
       "        vertical-align: middle;\n",
       "    }\n",
       "\n",
       "    .dataframe tbody tr th {\n",
       "        vertical-align: top;\n",
       "    }\n",
       "\n",
       "    .dataframe thead th {\n",
       "        text-align: right;\n",
       "    }\n",
       "</style>\n",
       "<table border=\"1\" class=\"dataframe\">\n",
       "  <thead>\n",
       "    <tr style=\"text-align: right;\">\n",
       "      <th></th>\n",
       "      <th>Indicator</th>\n",
       "      <th>Group</th>\n",
       "      <th>State</th>\n",
       "      <th>Subgroup</th>\n",
       "      <th>Week</th>\n",
       "      <th>Week Label</th>\n",
       "      <th>Value</th>\n",
       "      <th>Low CI</th>\n",
       "      <th>High CI</th>\n",
       "      <th>Confidence Interval</th>\n",
       "      <th>Quartile range</th>\n",
       "    </tr>\n",
       "  </thead>\n",
       "  <tbody>\n",
       "    <tr>\n",
       "      <th>150</th>\n",
       "      <td>Symptoms of Anxiety Disorder or Depressive Dis...</td>\n",
       "      <td>By Race/Hispanic ethnicity</td>\n",
       "      <td>United States</td>\n",
       "      <td>Hispanic or Latino</td>\n",
       "      <td>1</td>\n",
       "      <td>Apr 23 - May 5</td>\n",
       "      <td>42.7</td>\n",
       "      <td>39.7</td>\n",
       "      <td>45.7</td>\n",
       "      <td>39.7 - 45.7</td>\n",
       "      <td>NaN</td>\n",
       "    </tr>\n",
       "    <tr>\n",
       "      <th>360</th>\n",
       "      <td>Symptoms of Anxiety Disorder or Depressive Dis...</td>\n",
       "      <td>By Race/Hispanic ethnicity</td>\n",
       "      <td>United States</td>\n",
       "      <td>Hispanic or Latino</td>\n",
       "      <td>2</td>\n",
       "      <td>May 7 - May 12</td>\n",
       "      <td>40.3</td>\n",
       "      <td>36.6</td>\n",
       "      <td>44.0</td>\n",
       "      <td>36.6 - 44.0</td>\n",
       "      <td>NaN</td>\n",
       "    </tr>\n",
       "    <tr>\n",
       "      <th>570</th>\n",
       "      <td>Symptoms of Anxiety Disorder or Depressive Dis...</td>\n",
       "      <td>By Race/Hispanic ethnicity</td>\n",
       "      <td>United States</td>\n",
       "      <td>Hispanic or Latino</td>\n",
       "      <td>3</td>\n",
       "      <td>May 14 - May 19</td>\n",
       "      <td>40.7</td>\n",
       "      <td>38.0</td>\n",
       "      <td>43.4</td>\n",
       "      <td>38.0 - 43.4</td>\n",
       "      <td>NaN</td>\n",
       "    </tr>\n",
       "    <tr>\n",
       "      <th>780</th>\n",
       "      <td>Symptoms of Anxiety Disorder or Depressive Dis...</td>\n",
       "      <td>By Race/Hispanic ethnicity</td>\n",
       "      <td>United States</td>\n",
       "      <td>Hispanic or Latino</td>\n",
       "      <td>4</td>\n",
       "      <td>May 21 - May 26</td>\n",
       "      <td>41.5</td>\n",
       "      <td>38.6</td>\n",
       "      <td>44.5</td>\n",
       "      <td>38.6 - 44.5</td>\n",
       "      <td>NaN</td>\n",
       "    </tr>\n",
       "    <tr>\n",
       "      <th>990</th>\n",
       "      <td>Symptoms of Anxiety Disorder or Depressive Dis...</td>\n",
       "      <td>By Race/Hispanic ethnicity</td>\n",
       "      <td>United States</td>\n",
       "      <td>Hispanic or Latino</td>\n",
       "      <td>5</td>\n",
       "      <td>May 28 - June 2</td>\n",
       "      <td>38.3</td>\n",
       "      <td>36.2</td>\n",
       "      <td>40.4</td>\n",
       "      <td>36.2 - 40.4</td>\n",
       "      <td>NaN</td>\n",
       "    </tr>\n",
       "  </tbody>\n",
       "</table>\n",
       "</div>"
      ],
      "text/plain": [
       "                                             Indicator  \\\n",
       "150  Symptoms of Anxiety Disorder or Depressive Dis...   \n",
       "360  Symptoms of Anxiety Disorder or Depressive Dis...   \n",
       "570  Symptoms of Anxiety Disorder or Depressive Dis...   \n",
       "780  Symptoms of Anxiety Disorder or Depressive Dis...   \n",
       "990  Symptoms of Anxiety Disorder or Depressive Dis...   \n",
       "\n",
       "                          Group          State            Subgroup  Week  \\\n",
       "150  By Race/Hispanic ethnicity  United States  Hispanic or Latino     1   \n",
       "360  By Race/Hispanic ethnicity  United States  Hispanic or Latino     2   \n",
       "570  By Race/Hispanic ethnicity  United States  Hispanic or Latino     3   \n",
       "780  By Race/Hispanic ethnicity  United States  Hispanic or Latino     4   \n",
       "990  By Race/Hispanic ethnicity  United States  Hispanic or Latino     5   \n",
       "\n",
       "          Week Label  Value  Low CI  High CI Confidence Interval  \\\n",
       "150   Apr 23 - May 5   42.7    39.7     45.7         39.7 - 45.7   \n",
       "360   May 7 - May 12   40.3    36.6     44.0         36.6 - 44.0   \n",
       "570  May 14 - May 19   40.7    38.0     43.4         38.0 - 43.4   \n",
       "780  May 21 - May 26   41.5    38.6     44.5         38.6 - 44.5   \n",
       "990  May 28 - June 2   38.3    36.2     40.4         36.2 - 40.4   \n",
       "\n",
       "    Quartile range  \n",
       "150            NaN  \n",
       "360            NaN  \n",
       "570            NaN  \n",
       "780            NaN  \n",
       "990            NaN  "
      ]
     },
     "execution_count": 25,
     "metadata": {},
     "output_type": "execute_result"
    }
   ],
   "source": [
    "AORDbyrace = MentalHealth.loc[(MentalHealth[\"Indicator\"] == \"Symptoms of Anxiety Disorder or Depressive Disorder\")]\n",
    "\n",
    "df1 = AORDbyrace.loc[(MentalHealth[\"Subgroup\"] == \"Hispanic or Latino\")]\n",
    "df2 = AORDbyrace.loc[(MentalHealth[\"Subgroup\"] == \"Non-Hispanic white, single race\")]\n",
    "df3 = AORDbyrace.loc[(MentalHealth[\"Subgroup\"] == \"Non-Hispanic black, single race\")]\n",
    "df4 = AORDbyrace.loc[(MentalHealth[\"Subgroup\"] == \"Non-Hispanic Asian, single race\")]\n",
    "df5 = AORDbyrace.loc[(MentalHealth[\"Subgroup\"] == \"Non-Hispanic, other races and multiple races\")]\n",
    "\n",
    "AORDbyrace10 = pd.concat([df1, df2, df3, df4, df5])\n",
    "AORDbyrace10.head() "
   ]
  },
  {
   "cell_type": "code",
   "execution_count": 26,
   "metadata": {},
   "outputs": [
    {
     "data": {
      "text/plain": [
       "<matplotlib.axes._subplots.AxesSubplot at 0x26427e2af88>"
      ]
     },
     "execution_count": 26,
     "metadata": {},
     "output_type": "execute_result"
    },
    {
     "data": {
      "image/png": "[encoded data removed]",
      "text/plain": [
       "<Figure size 1296x576 with 1 Axes>"
      ]
     },
     "metadata": {
      "needs_background": "light"
     },
     "output_type": "display_data"
    }
   ],
   "source": [
    "AORDbyrace10.boxplot('Value', by='Subgroup', figsize=(18, 8))"
   ]
  },
  {
   "cell_type": "markdown",
   "metadata": {},
   "source": [
    "## Hypothesis Testing (Depression for Subgroup: Race)¶\n",
    "Statistical significance was set at p = 0.05"
   ]
  },
  {
   "cell_type": "markdown",
   "metadata": {},
   "source": [
    "Hypothesis(N) = There is no difference in the level of depression between the race groups\n",
    "\n",
    "Hypothesis(A) = There is a difference in the level of depression between the race groups"
   ]
  },
  {
   "cell_type": "code",
   "execution_count": 27,
   "metadata": {},
   "outputs": [
    {
     "name": "stdout",
     "output_type": "stream",
     "text": [
      "                            OLS Regression Results                            \n",
      "==============================================================================\n",
      "Dep. Variable:                  Value   R-squared:                       0.814\n",
      "Model:                            OLS   Adj. R-squared:                  0.789\n",
      "Method:                 Least Squares   F-statistic:                     32.73\n",
      "Date:                Wed, 23 Dec 2020   Prob (F-statistic):           1.51e-10\n",
      "Time:                        09:32:48   Log-Likelihood:                -72.922\n",
      "No. Observations:                  35   AIC:                             155.8\n",
      "Df Residuals:                      30   BIC:                             163.6\n",
      "Df Model:                           4                                         \n",
      "Covariance Type:            nonrobust                                         \n",
      "============================================================================================================================\n",
      "                                                               coef    std err          t      P>|t|      [0.025      0.975]\n",
      "----------------------------------------------------------------------------------------------------------------------------\n",
      "Intercept                                                   29.0143      0.793     36.566      0.000      27.394      30.635\n",
      "Subgroup[T.Non-Hispanic Asian, single race]                 -8.1143      1.122     -7.231      0.000     -10.406      -5.823\n",
      "Subgroup[T.Non-Hispanic black, single race]                 -1.2429      1.122     -1.108      0.277      -3.535       1.049\n",
      "Subgroup[T.Non-Hispanic white, single race]                 -6.0143      1.122     -5.360      0.000      -8.306      -3.723\n",
      "Subgroup[T.Non-Hispanic, other races and multiple races]     3.0429      1.122      2.712      0.011       0.751       5.335\n",
      "==============================================================================\n",
      "Omnibus:                        2.827   Durbin-Watson:                   2.170\n",
      "Prob(Omnibus):                  0.243   Jarque-Bera (JB):                1.860\n",
      "Skew:                          -0.034   Prob(JB):                        0.395\n",
      "Kurtosis:                       4.127   Cond. No.                         5.83\n",
      "==============================================================================\n",
      "\n",
      "Warnings:\n",
      "[1] Standard Errors assume that the covariance matrix of the errors is correctly specified.\n"
     ]
    }
   ],
   "source": [
    "# Load data\n",
    "dat = Depressionbyrace10\n",
    "\n",
    "# Fit regression model (using the natural log of one of the regressors)\n",
    "results = smf.ols('Value ~ Subgroup', data=dat).fit()\n",
    "\n",
    "# Inspect the results\n",
    "print(results.summary())"
   ]
  },
  {
   "cell_type": "markdown",
   "metadata": {},
   "source": [
    "## In this table, most of the p values is 0.00 and it is less than our chosen level of signifance at 5%.¶\n",
    "\n",
    "## More Testing is required to see which groups have a statistical difference."
   ]
  },
  {
   "cell_type": "code",
   "execution_count": 28,
   "metadata": {},
   "outputs": [
    {
     "name": "stdout",
     "output_type": "stream",
     "text": [
      "                                Multiple Comparison of Means - Tukey HSD, FWER=0.05                                 \n",
      "====================================================================================================================\n",
      "             group1                                group2                    meandiff p-adj   lower    upper  reject\n",
      "--------------------------------------------------------------------------------------------------------------------\n",
      "             Hispanic or Latino              Non-Hispanic Asian, single race  -8.1143  0.001 -11.3691 -4.8594   True\n",
      "             Hispanic or Latino              Non-Hispanic black, single race  -1.2429 0.7777  -4.4977   2.012  False\n",
      "             Hispanic or Latino              Non-Hispanic white, single race  -6.0143  0.001  -9.2691 -2.7594   True\n",
      "             Hispanic or Latino Non-Hispanic, other races and multiple races   3.0429 0.0759   -0.212  6.2977  False\n",
      "Non-Hispanic Asian, single race              Non-Hispanic black, single race   6.8714  0.001   3.6166 10.1263   True\n",
      "Non-Hispanic Asian, single race              Non-Hispanic white, single race      2.1 0.3544  -1.1549  5.3549  False\n",
      "Non-Hispanic Asian, single race Non-Hispanic, other races and multiple races  11.1571  0.001   7.9023  14.412   True\n",
      "Non-Hispanic black, single race              Non-Hispanic white, single race  -4.7714 0.0017  -8.0263 -1.5166   True\n",
      "Non-Hispanic black, single race Non-Hispanic, other races and multiple races   4.2857 0.0053   1.0309  7.5406   True\n",
      "Non-Hispanic white, single race Non-Hispanic, other races and multiple races   9.0571  0.001   5.8023  12.312   True\n",
      "--------------------------------------------------------------------------------------------------------------------\n"
     ]
    }
   ],
   "source": [
    "from statsmodels.stats.multicomp import pairwise_tukeyhsd\n",
    "print(pairwise_tukeyhsd(Depressionbyrace10['Value'], Depressionbyrace10['Subgroup']))"
   ]
  },
  {
   "cell_type": "markdown",
   "metadata": {},
   "source": [
    "Hispanic or Latino Vs Non-Hispanic Asian: Since the result - reject is true, mean level of depression is statistically different between races.\n",
    "\n",
    "There is a statistical difference between many race groups.\n",
    "\n",
    "The groups that do not show a statistically significant difference are: \n",
    "- Hispanic or Latino vs Non-Hispanic black, single race\n",
    "- Hispanic or Latino vs Non-Hispanic, other races and multiple races \n",
    "- Non-Hispanic Asian, single race vs Non-Hispanic white, single race "
   ]
  },
  {
   "cell_type": "markdown",
   "metadata": {},
   "source": [
    "## Hypothesis Testing (Depression for Subgroup: Anxiety)¶\n",
    "Statistical significance was set at p = 0.05"
   ]
  },
  {
   "cell_type": "markdown",
   "metadata": {},
   "source": [
    "Hypothesis(N) = There is no difference in the level of anxiety between the race groups\n",
    "\n",
    "Hypothesis(A) = There is a difference in the level of anxiety between the race groups"
   ]
  },
  {
   "cell_type": "code",
   "execution_count": 29,
   "metadata": {},
   "outputs": [
    {
     "name": "stdout",
     "output_type": "stream",
     "text": [
      "                            OLS Regression Results                            \n",
      "==============================================================================\n",
      "Dep. Variable:                  Value   R-squared:                       0.816\n",
      "Model:                            OLS   Adj. R-squared:                  0.791\n",
      "Method:                 Least Squares   F-statistic:                     33.20\n",
      "Date:                Wed, 23 Dec 2020   Prob (F-statistic):           1.27e-10\n",
      "Time:                        09:32:48   Log-Likelihood:                -76.972\n",
      "No. Observations:                  35   AIC:                             163.9\n",
      "Df Residuals:                      30   BIC:                             171.7\n",
      "Df Model:                           4                                         \n",
      "Covariance Type:            nonrobust                                         \n",
      "============================================================================================================================\n",
      "                                                               coef    std err          t      P>|t|      [0.025      0.975]\n",
      "----------------------------------------------------------------------------------------------------------------------------\n",
      "Intercept                                                   34.5857      0.891     38.825      0.000      32.766      36.405\n",
      "Subgroup[T.Non-Hispanic Asian, single race]                 -9.1286      1.260     -7.246      0.000     -11.701      -6.556\n",
      "Subgroup[T.Non-Hispanic black, single race]                 -1.3143      1.260     -1.043      0.305      -3.887       1.259\n",
      "Subgroup[T.Non-Hispanic white, single race]                 -6.0286      1.260     -4.785      0.000      -8.601      -3.456\n",
      "Subgroup[T.Non-Hispanic, other races and multiple races]     3.9286      1.260      3.118      0.004       1.356       6.501\n",
      "==============================================================================\n",
      "Omnibus:                        8.668   Durbin-Watson:                   1.841\n",
      "Prob(Omnibus):                  0.013   Jarque-Bera (JB):               12.228\n",
      "Skew:                          -0.488   Prob(JB):                      0.00221\n",
      "Kurtosis:                       5.726   Cond. No.                         5.83\n",
      "==============================================================================\n",
      "\n",
      "Warnings:\n",
      "[1] Standard Errors assume that the covariance matrix of the errors is correctly specified.\n"
     ]
    }
   ],
   "source": [
    "# Load data\n",
    "dat = Anxietybyrace10\n",
    "\n",
    "# Fit regression model (using the natural log of one of the regressors)\n",
    "results = smf.ols('Value ~ Subgroup', data=dat).fit()\n",
    "\n",
    "# Inspect the results\n",
    "print(results.summary())"
   ]
  },
  {
   "cell_type": "markdown",
   "metadata": {},
   "source": [
    "## In this table, most of the p values is 0.00 and it is less than our chosen level of signifance at 5%.\n",
    "\n",
    "## More Testing is required to see which groups have a statistical difference."
   ]
  },
  {
   "cell_type": "code",
   "execution_count": 30,
   "metadata": {},
   "outputs": [
    {
     "name": "stdout",
     "output_type": "stream",
     "text": [
      "                                Multiple Comparison of Means - Tukey HSD, FWER=0.05                                 \n",
      "====================================================================================================================\n",
      "             group1                                group2                    meandiff p-adj   lower    upper  reject\n",
      "--------------------------------------------------------------------------------------------------------------------\n",
      "             Hispanic or Latino              Non-Hispanic Asian, single race  -9.1286  0.001 -12.7827 -5.4745   True\n",
      "             Hispanic or Latino              Non-Hispanic black, single race  -1.3143 0.8129  -4.9684  2.3398  False\n",
      "             Hispanic or Latino              Non-Hispanic white, single race  -6.0286  0.001  -9.6827 -2.3745   True\n",
      "             Hispanic or Latino Non-Hispanic, other races and multiple races   3.9286 0.0303   0.2745  7.5827   True\n",
      "Non-Hispanic Asian, single race              Non-Hispanic black, single race   7.8143  0.001   4.1602 11.4684   True\n",
      "Non-Hispanic Asian, single race              Non-Hispanic white, single race      3.1 0.1269  -0.5541  6.7541  False\n",
      "Non-Hispanic Asian, single race Non-Hispanic, other races and multiple races  13.0571  0.001    9.403 16.7112   True\n",
      "Non-Hispanic black, single race              Non-Hispanic white, single race  -4.7143 0.0064  -8.3684 -1.0602   True\n",
      "Non-Hispanic black, single race Non-Hispanic, other races and multiple races   5.2429 0.0021   1.5888   8.897   True\n",
      "Non-Hispanic white, single race Non-Hispanic, other races and multiple races   9.9571  0.001    6.303 13.6112   True\n",
      "--------------------------------------------------------------------------------------------------------------------\n"
     ]
    }
   ],
   "source": [
    "from statsmodels.stats.multicomp import pairwise_tukeyhsd\n",
    "print(pairwise_tukeyhsd(Anxietybyrace10['Value'], Anxietybyrace10['Subgroup']))"
   ]
  },
  {
   "cell_type": "markdown",
   "metadata": {},
   "source": [
    "Hispanic or Latino Vs Non-Hispanic Asian: Since the result - reject is true, mean level of anxiety is statistically different between races.\n",
    "\n",
    "There is a statistical difference between many race groups.\n",
    "\n",
    "The groups that do not show a statistically significant difference are:\n",
    "- Hispanic or Latino vs Non-Hispanic black, single race\n",
    "- Non-Hispanic Asian, single race vs Non-Hispanic white, single race"
   ]
  },
  {
   "cell_type": "markdown",
   "metadata": {},
   "source": [
    "## Hypothesis Testing (Depression for Subgroup: Anxiety or Depression)¶\n",
    "Statistical significance was set at p = 0.05"
   ]
  },
  {
   "cell_type": "markdown",
   "metadata": {},
   "source": [
    "Hypothesis(N) = There is no difference in the level of anxiety or depression between the race groups\n",
    "\n",
    "Hypothesis(A) = There is a difference in the level of anxiety or depression between the race groups"
   ]
  },
  {
   "cell_type": "code",
   "execution_count": 31,
   "metadata": {},
   "outputs": [
    {
     "name": "stdout",
     "output_type": "stream",
     "text": [
      "                            OLS Regression Results                            \n",
      "==============================================================================\n",
      "Dep. Variable:                  Value   R-squared:                       0.856\n",
      "Model:                            OLS   Adj. R-squared:                  0.837\n",
      "Method:                 Least Squares   F-statistic:                     44.55\n",
      "Date:                Wed, 23 Dec 2020   Prob (F-statistic):           3.32e-12\n",
      "Time:                        09:32:48   Log-Likelihood:                -75.961\n",
      "No. Observations:                  35   AIC:                             161.9\n",
      "Df Residuals:                      30   BIC:                             169.7\n",
      "Df Model:                           4                                         \n",
      "Covariance Type:            nonrobust                                         \n",
      "============================================================================================================================\n",
      "                                                               coef    std err          t      P>|t|      [0.025      0.975]\n",
      "----------------------------------------------------------------------------------------------------------------------------\n",
      "Intercept                                                   40.5571      0.865     46.862      0.000      38.790      42.325\n",
      "Subgroup[T.Non-Hispanic Asian, single race]                -10.1429      1.224     -8.287      0.000     -12.642      -7.643\n",
      "Subgroup[T.Non-Hispanic black, single race]                 -1.5286      1.224     -1.249      0.221      -4.028       0.971\n",
      "Subgroup[T.Non-Hispanic white, single race]                 -7.6143      1.224     -6.221      0.000     -10.114      -5.115\n",
      "Subgroup[T.Non-Hispanic, other races and multiple races]     4.0714      1.224      3.327      0.002       1.572       6.571\n",
      "==============================================================================\n",
      "Omnibus:                       11.551   Durbin-Watson:                   2.082\n",
      "Prob(Omnibus):                  0.003   Jarque-Bera (JB):               17.013\n",
      "Skew:                          -0.752   Prob(JB):                     0.000202\n",
      "Kurtosis:                       6.066   Cond. No.                         5.83\n",
      "==============================================================================\n",
      "\n",
      "Warnings:\n",
      "[1] Standard Errors assume that the covariance matrix of the errors is correctly specified.\n"
     ]
    }
   ],
   "source": [
    "# Load data\n",
    "dat = AORDbyrace10\n",
    "\n",
    "# Fit regression model (using the natural log of one of the regressors)\n",
    "results = smf.ols('Value ~ Subgroup', data=dat).fit()\n",
    "\n",
    "# Inspect the results\n",
    "print(results.summary())"
   ]
  },
  {
   "cell_type": "markdown",
   "metadata": {},
   "source": [
    "## In this table, most of the p values is 0.00 and it is less than our chosen level of signifance at 5%.¶\n",
    "## More Testing is required to see which groups have a statistical difference."
   ]
  },
  {
   "cell_type": "code",
   "execution_count": 32,
   "metadata": {},
   "outputs": [
    {
     "name": "stdout",
     "output_type": "stream",
     "text": [
      "                                Multiple Comparison of Means - Tukey HSD, FWER=0.05                                 \n",
      "====================================================================================================================\n",
      "             group1                                group2                    meandiff p-adj   lower    upper  reject\n",
      "--------------------------------------------------------------------------------------------------------------------\n",
      "             Hispanic or Latino              Non-Hispanic Asian, single race -10.1429  0.001 -13.6929 -6.5928   True\n",
      "             Hispanic or Latino              Non-Hispanic black, single race  -1.5286 0.7002  -5.0786  2.0215  False\n",
      "             Hispanic or Latino              Non-Hispanic white, single race  -7.6143  0.001 -11.1643 -4.0642   True\n",
      "             Hispanic or Latino Non-Hispanic, other races and multiple races   4.0714 0.0183   0.5214  7.6215   True\n",
      "Non-Hispanic Asian, single race              Non-Hispanic black, single race   8.6143  0.001   5.0642 12.1643   True\n",
      "Non-Hispanic Asian, single race              Non-Hispanic white, single race   2.5286 0.2609  -1.0215  6.0786  False\n",
      "Non-Hispanic Asian, single race Non-Hispanic, other races and multiple races  14.2143  0.001  10.6642 17.7643   True\n",
      "Non-Hispanic black, single race              Non-Hispanic white, single race  -6.0857  0.001  -9.6358 -2.5357   True\n",
      "Non-Hispanic black, single race Non-Hispanic, other races and multiple races      5.6  0.001   2.0499  9.1501   True\n",
      "Non-Hispanic white, single race Non-Hispanic, other races and multiple races  11.6857  0.001   8.1357 15.2358   True\n",
      "--------------------------------------------------------------------------------------------------------------------\n"
     ]
    }
   ],
   "source": [
    "from statsmodels.stats.multicomp import pairwise_tukeyhsd\n",
    "print(pairwise_tukeyhsd(AORDbyrace10['Value'], AORDbyrace10['Subgroup']))"
   ]
  },
  {
   "cell_type": "markdown",
   "metadata": {},
   "source": [
    "Hispanic or Latino Vs Non-Hispanic Asian: Since the result - reject is true, mean level of anxiety or depression is statistically different between races.\n",
    "\n",
    "There is a statistical difference between many race groups.\n",
    "\n",
    "The groups that do not show a statistically significant difference are:\n",
    "- Hispanic or Latino vs Non-Hispanic black, single race\n",
    "- Non-Hispanic Asian, single race vs Non-Hispanic white, single race"
   ]
  },
  {
   "cell_type": "markdown",
   "metadata": {},
   "source": [
    "## Analysis of the Subgroup: Education "
   ]
  },
  {
   "cell_type": "code",
   "execution_count": 33,
   "metadata": {},
   "outputs": [
    {
     "data": {
      "text/html": [
       "<div>\n",
       "<style scoped>\n",
       "    .dataframe tbody tr th:only-of-type {\n",
       "        vertical-align: middle;\n",
       "    }\n",
       "\n",
       "    .dataframe tbody tr th {\n",
       "        vertical-align: top;\n",
       "    }\n",
       "\n",
       "    .dataframe thead th {\n",
       "        text-align: right;\n",
       "    }\n",
       "</style>\n",
       "<table border=\"1\" class=\"dataframe\">\n",
       "  <thead>\n",
       "    <tr style=\"text-align: right;\">\n",
       "      <th></th>\n",
       "      <th>Indicator</th>\n",
       "      <th>Group</th>\n",
       "      <th>State</th>\n",
       "      <th>Subgroup</th>\n",
       "      <th>Week</th>\n",
       "      <th>Week Label</th>\n",
       "      <th>Value</th>\n",
       "      <th>Low CI</th>\n",
       "      <th>High CI</th>\n",
       "      <th>Confidence Interval</th>\n",
       "      <th>Quartile range</th>\n",
       "    </tr>\n",
       "  </thead>\n",
       "  <tbody>\n",
       "    <tr>\n",
       "      <th>15</th>\n",
       "      <td>Symptoms of Depressive Disorder</td>\n",
       "      <td>By Education</td>\n",
       "      <td>United States</td>\n",
       "      <td>Less than a high school diploma</td>\n",
       "      <td>1</td>\n",
       "      <td>Apr 23 - May 5</td>\n",
       "      <td>32.7</td>\n",
       "      <td>27.8</td>\n",
       "      <td>38.0</td>\n",
       "      <td>27.8 - 38.0</td>\n",
       "      <td>NaN</td>\n",
       "    </tr>\n",
       "    <tr>\n",
       "      <th>225</th>\n",
       "      <td>Symptoms of Depressive Disorder</td>\n",
       "      <td>By Education</td>\n",
       "      <td>United States</td>\n",
       "      <td>Less than a high school diploma</td>\n",
       "      <td>2</td>\n",
       "      <td>May 7 - May 12</td>\n",
       "      <td>31.4</td>\n",
       "      <td>25.9</td>\n",
       "      <td>37.3</td>\n",
       "      <td>25.9 - 37.3</td>\n",
       "      <td>NaN</td>\n",
       "    </tr>\n",
       "    <tr>\n",
       "      <th>435</th>\n",
       "      <td>Symptoms of Depressive Disorder</td>\n",
       "      <td>By Education</td>\n",
       "      <td>United States</td>\n",
       "      <td>Less than a high school diploma</td>\n",
       "      <td>3</td>\n",
       "      <td>May 14 - May 19</td>\n",
       "      <td>31.3</td>\n",
       "      <td>27.2</td>\n",
       "      <td>35.8</td>\n",
       "      <td>27.2 - 35.8</td>\n",
       "      <td>NaN</td>\n",
       "    </tr>\n",
       "    <tr>\n",
       "      <th>645</th>\n",
       "      <td>Symptoms of Depressive Disorder</td>\n",
       "      <td>By Education</td>\n",
       "      <td>United States</td>\n",
       "      <td>Less than a high school diploma</td>\n",
       "      <td>4</td>\n",
       "      <td>May 21 - May 26</td>\n",
       "      <td>38.7</td>\n",
       "      <td>34.0</td>\n",
       "      <td>43.5</td>\n",
       "      <td>34.0 - 43.5</td>\n",
       "      <td>NaN</td>\n",
       "    </tr>\n",
       "    <tr>\n",
       "      <th>855</th>\n",
       "      <td>Symptoms of Depressive Disorder</td>\n",
       "      <td>By Education</td>\n",
       "      <td>United States</td>\n",
       "      <td>Less than a high school diploma</td>\n",
       "      <td>5</td>\n",
       "      <td>May 28 - June 2</td>\n",
       "      <td>31.9</td>\n",
       "      <td>28.6</td>\n",
       "      <td>35.4</td>\n",
       "      <td>28.6 - 35.4</td>\n",
       "      <td>NaN</td>\n",
       "    </tr>\n",
       "  </tbody>\n",
       "</table>\n",
       "</div>"
      ],
      "text/plain": [
       "                           Indicator         Group          State  \\\n",
       "15   Symptoms of Depressive Disorder  By Education  United States   \n",
       "225  Symptoms of Depressive Disorder  By Education  United States   \n",
       "435  Symptoms of Depressive Disorder  By Education  United States   \n",
       "645  Symptoms of Depressive Disorder  By Education  United States   \n",
       "855  Symptoms of Depressive Disorder  By Education  United States   \n",
       "\n",
       "                            Subgroup  Week       Week Label  Value  Low CI  \\\n",
       "15   Less than a high school diploma     1   Apr 23 - May 5   32.7    27.8   \n",
       "225  Less than a high school diploma     2   May 7 - May 12   31.4    25.9   \n",
       "435  Less than a high school diploma     3  May 14 - May 19   31.3    27.2   \n",
       "645  Less than a high school diploma     4  May 21 - May 26   38.7    34.0   \n",
       "855  Less than a high school diploma     5  May 28 - June 2   31.9    28.6   \n",
       "\n",
       "     High CI Confidence Interval Quartile range  \n",
       "15      38.0         27.8 - 38.0            NaN  \n",
       "225     37.3         25.9 - 37.3            NaN  \n",
       "435     35.8         27.2 - 35.8            NaN  \n",
       "645     43.5         34.0 - 43.5            NaN  \n",
       "855     35.4         28.6 - 35.4            NaN  "
      ]
     },
     "execution_count": 33,
     "metadata": {},
     "output_type": "execute_result"
    }
   ],
   "source": [
    "Depressionbyedu = MentalHealth.loc[(MentalHealth[\"Indicator\"] == \"Symptoms of Depressive Disorder\")]\n",
    "\n",
    "df1 = Depressionbyedu.loc[(MentalHealth[\"Subgroup\"] == \"Less than a high school diploma\")]\n",
    "df2 = Depressionbyedu.loc[(MentalHealth[\"Subgroup\"] == \"High school diploma or GED\")]\n",
    "df3 = Depressionbyedu.loc[(MentalHealth[\"Subgroup\"] == \"Some college/Associate's degree\")]\n",
    "df4 = Depressionbyedu.loc[(MentalHealth[\"Subgroup\"] == \"Bachelor's degree or higher\")]\n",
    "\n",
    "Depressionbyedu10 = pd.concat([df1, df2, df3, df4])\n",
    "Depressionbyedu10.head()    "
   ]
  },
  {
   "cell_type": "code",
   "execution_count": 34,
   "metadata": {},
   "outputs": [
    {
     "data": {
      "text/plain": [
       "<matplotlib.axes._subplots.AxesSubplot at 0x26428d38cc8>"
      ]
     },
     "execution_count": 34,
     "metadata": {},
     "output_type": "execute_result"
    },
    {
     "data": {
      "image/png": "[encoded data removed]",
      "text/plain": [
       "<Figure size 1296x576 with 1 Axes>"
      ]
     },
     "metadata": {
      "needs_background": "light"
     },
     "output_type": "display_data"
    }
   ],
   "source": [
    "Depressionbyedu10.boxplot('Value', by='Subgroup', figsize=(18, 8))"
   ]
  },
  {
   "cell_type": "code",
   "execution_count": 35,
   "metadata": {},
   "outputs": [
    {
     "data": {
      "text/html": [
       "<div>\n",
       "<style scoped>\n",
       "    .dataframe tbody tr th:only-of-type {\n",
       "        vertical-align: middle;\n",
       "    }\n",
       "\n",
       "    .dataframe tbody tr th {\n",
       "        vertical-align: top;\n",
       "    }\n",
       "\n",
       "    .dataframe thead th {\n",
       "        text-align: right;\n",
       "    }\n",
       "</style>\n",
       "<table border=\"1\" class=\"dataframe\">\n",
       "  <thead>\n",
       "    <tr style=\"text-align: right;\">\n",
       "      <th></th>\n",
       "      <th>Indicator</th>\n",
       "      <th>Group</th>\n",
       "      <th>State</th>\n",
       "      <th>Subgroup</th>\n",
       "      <th>Week</th>\n",
       "      <th>Week Label</th>\n",
       "      <th>Value</th>\n",
       "      <th>Low CI</th>\n",
       "      <th>High CI</th>\n",
       "      <th>Confidence Interval</th>\n",
       "      <th>Quartile range</th>\n",
       "    </tr>\n",
       "  </thead>\n",
       "  <tbody>\n",
       "    <tr>\n",
       "      <th>85</th>\n",
       "      <td>Symptoms of Anxiety Disorder</td>\n",
       "      <td>By Education</td>\n",
       "      <td>United States</td>\n",
       "      <td>Less than a high school diploma</td>\n",
       "      <td>1</td>\n",
       "      <td>Apr 23 - May 5</td>\n",
       "      <td>37.3</td>\n",
       "      <td>32.4</td>\n",
       "      <td>42.4</td>\n",
       "      <td>32.4 - 42.4</td>\n",
       "      <td>NaN</td>\n",
       "    </tr>\n",
       "    <tr>\n",
       "      <th>295</th>\n",
       "      <td>Symptoms of Anxiety Disorder</td>\n",
       "      <td>By Education</td>\n",
       "      <td>United States</td>\n",
       "      <td>Less than a high school diploma</td>\n",
       "      <td>2</td>\n",
       "      <td>May 7 - May 12</td>\n",
       "      <td>36.6</td>\n",
       "      <td>30.2</td>\n",
       "      <td>43.4</td>\n",
       "      <td>30.2 - 43.4</td>\n",
       "      <td>NaN</td>\n",
       "    </tr>\n",
       "    <tr>\n",
       "      <th>505</th>\n",
       "      <td>Symptoms of Anxiety Disorder</td>\n",
       "      <td>By Education</td>\n",
       "      <td>United States</td>\n",
       "      <td>Less than a high school diploma</td>\n",
       "      <td>3</td>\n",
       "      <td>May 14 - May 19</td>\n",
       "      <td>34.3</td>\n",
       "      <td>30.3</td>\n",
       "      <td>38.5</td>\n",
       "      <td>30.3 - 38.5</td>\n",
       "      <td>NaN</td>\n",
       "    </tr>\n",
       "    <tr>\n",
       "      <th>715</th>\n",
       "      <td>Symptoms of Anxiety Disorder</td>\n",
       "      <td>By Education</td>\n",
       "      <td>United States</td>\n",
       "      <td>Less than a high school diploma</td>\n",
       "      <td>4</td>\n",
       "      <td>May 21 - May 26</td>\n",
       "      <td>40.6</td>\n",
       "      <td>36.8</td>\n",
       "      <td>44.5</td>\n",
       "      <td>36.8 - 44.5</td>\n",
       "      <td>NaN</td>\n",
       "    </tr>\n",
       "    <tr>\n",
       "      <th>925</th>\n",
       "      <td>Symptoms of Anxiety Disorder</td>\n",
       "      <td>By Education</td>\n",
       "      <td>United States</td>\n",
       "      <td>Less than a high school diploma</td>\n",
       "      <td>5</td>\n",
       "      <td>May 28 - June 2</td>\n",
       "      <td>37.8</td>\n",
       "      <td>34.2</td>\n",
       "      <td>41.5</td>\n",
       "      <td>34.2 - 41.5</td>\n",
       "      <td>NaN</td>\n",
       "    </tr>\n",
       "  </tbody>\n",
       "</table>\n",
       "</div>"
      ],
      "text/plain": [
       "                        Indicator         Group          State  \\\n",
       "85   Symptoms of Anxiety Disorder  By Education  United States   \n",
       "295  Symptoms of Anxiety Disorder  By Education  United States   \n",
       "505  Symptoms of Anxiety Disorder  By Education  United States   \n",
       "715  Symptoms of Anxiety Disorder  By Education  United States   \n",
       "925  Symptoms of Anxiety Disorder  By Education  United States   \n",
       "\n",
       "                            Subgroup  Week       Week Label  Value  Low CI  \\\n",
       "85   Less than a high school diploma     1   Apr 23 - May 5   37.3    32.4   \n",
       "295  Less than a high school diploma     2   May 7 - May 12   36.6    30.2   \n",
       "505  Less than a high school diploma     3  May 14 - May 19   34.3    30.3   \n",
       "715  Less than a high school diploma     4  May 21 - May 26   40.6    36.8   \n",
       "925  Less than a high school diploma     5  May 28 - June 2   37.8    34.2   \n",
       "\n",
       "     High CI Confidence Interval Quartile range  \n",
       "85      42.4         32.4 - 42.4            NaN  \n",
       "295     43.4         30.2 - 43.4            NaN  \n",
       "505     38.5         30.3 - 38.5            NaN  \n",
       "715     44.5         36.8 - 44.5            NaN  \n",
       "925     41.5         34.2 - 41.5            NaN  "
      ]
     },
     "execution_count": 35,
     "metadata": {},
     "output_type": "execute_result"
    }
   ],
   "source": [
    "Anxietybyedu = MentalHealth.loc[(MentalHealth[\"Indicator\"] == \"Symptoms of Anxiety Disorder\")]\n",
    "\n",
    "df1 = Anxietybyedu.loc[(MentalHealth[\"Subgroup\"] == \"Less than a high school diploma\")]\n",
    "df2 = Anxietybyedu.loc[(MentalHealth[\"Subgroup\"] == \"High school diploma or GED\")]\n",
    "df3 = Anxietybyedu.loc[(MentalHealth[\"Subgroup\"] == \"Some college/Associate's degree\")]\n",
    "df4 = Anxietybyedu.loc[(MentalHealth[\"Subgroup\"] == \"Bachelor's degree or higher\")]\n",
    "\n",
    "Anxietybyedu10 = pd.concat([df1, df2, df3, df4])\n",
    "Anxietybyedu10.head() "
   ]
  },
  {
   "cell_type": "code",
   "execution_count": 36,
   "metadata": {},
   "outputs": [
    {
     "data": {
      "text/plain": [
       "<matplotlib.axes._subplots.AxesSubplot at 0x26428d39c48>"
      ]
     },
     "execution_count": 36,
     "metadata": {},
     "output_type": "execute_result"
    },
    {
     "data": {
      "image/png": "[encoded data removed]",
      "text/plain": [
       "<Figure size 1296x576 with 1 Axes>"
      ]
     },
     "metadata": {
      "needs_background": "light"
     },
     "output_type": "display_data"
    }
   ],
   "source": [
    "Anxietybyedu10.boxplot('Value', by='Subgroup', figsize=(18, 8))"
   ]
  },
  {
   "cell_type": "code",
   "execution_count": 37,
   "metadata": {},
   "outputs": [
    {
     "data": {
      "text/html": [
       "<div>\n",
       "<style scoped>\n",
       "    .dataframe tbody tr th:only-of-type {\n",
       "        vertical-align: middle;\n",
       "    }\n",
       "\n",
       "    .dataframe tbody tr th {\n",
       "        vertical-align: top;\n",
       "    }\n",
       "\n",
       "    .dataframe thead th {\n",
       "        text-align: right;\n",
       "    }\n",
       "</style>\n",
       "<table border=\"1\" class=\"dataframe\">\n",
       "  <thead>\n",
       "    <tr style=\"text-align: right;\">\n",
       "      <th></th>\n",
       "      <th>Indicator</th>\n",
       "      <th>Group</th>\n",
       "      <th>State</th>\n",
       "      <th>Subgroup</th>\n",
       "      <th>Week</th>\n",
       "      <th>Week Label</th>\n",
       "      <th>Value</th>\n",
       "      <th>Low CI</th>\n",
       "      <th>High CI</th>\n",
       "      <th>Confidence Interval</th>\n",
       "      <th>Quartile range</th>\n",
       "    </tr>\n",
       "  </thead>\n",
       "  <tbody>\n",
       "    <tr>\n",
       "      <th>155</th>\n",
       "      <td>Symptoms of Anxiety Disorder or Depressive Dis...</td>\n",
       "      <td>By Education</td>\n",
       "      <td>United States</td>\n",
       "      <td>Less than a high school diploma</td>\n",
       "      <td>1</td>\n",
       "      <td>Apr 23 - May 5</td>\n",
       "      <td>45.4</td>\n",
       "      <td>40.3</td>\n",
       "      <td>50.5</td>\n",
       "      <td>40.3 - 50.5</td>\n",
       "      <td>NaN</td>\n",
       "    </tr>\n",
       "    <tr>\n",
       "      <th>365</th>\n",
       "      <td>Symptoms of Anxiety Disorder or Depressive Dis...</td>\n",
       "      <td>By Education</td>\n",
       "      <td>United States</td>\n",
       "      <td>Less than a high school diploma</td>\n",
       "      <td>2</td>\n",
       "      <td>May 7 - May 12</td>\n",
       "      <td>42.5</td>\n",
       "      <td>36.2</td>\n",
       "      <td>48.9</td>\n",
       "      <td>36.2 - 48.9</td>\n",
       "      <td>NaN</td>\n",
       "    </tr>\n",
       "    <tr>\n",
       "      <th>575</th>\n",
       "      <td>Symptoms of Anxiety Disorder or Depressive Dis...</td>\n",
       "      <td>By Education</td>\n",
       "      <td>United States</td>\n",
       "      <td>Less than a high school diploma</td>\n",
       "      <td>3</td>\n",
       "      <td>May 14 - May 19</td>\n",
       "      <td>40.9</td>\n",
       "      <td>36.2</td>\n",
       "      <td>45.8</td>\n",
       "      <td>36.2 - 45.8</td>\n",
       "      <td>NaN</td>\n",
       "    </tr>\n",
       "    <tr>\n",
       "      <th>785</th>\n",
       "      <td>Symptoms of Anxiety Disorder or Depressive Dis...</td>\n",
       "      <td>By Education</td>\n",
       "      <td>United States</td>\n",
       "      <td>Less than a high school diploma</td>\n",
       "      <td>4</td>\n",
       "      <td>May 21 - May 26</td>\n",
       "      <td>47.7</td>\n",
       "      <td>43.4</td>\n",
       "      <td>52.1</td>\n",
       "      <td>43.4 - 52.1</td>\n",
       "      <td>NaN</td>\n",
       "    </tr>\n",
       "    <tr>\n",
       "      <th>995</th>\n",
       "      <td>Symptoms of Anxiety Disorder or Depressive Dis...</td>\n",
       "      <td>By Education</td>\n",
       "      <td>United States</td>\n",
       "      <td>Less than a high school diploma</td>\n",
       "      <td>5</td>\n",
       "      <td>May 28 - June 2</td>\n",
       "      <td>43.9</td>\n",
       "      <td>40.4</td>\n",
       "      <td>47.5</td>\n",
       "      <td>40.4 - 47.5</td>\n",
       "      <td>NaN</td>\n",
       "    </tr>\n",
       "  </tbody>\n",
       "</table>\n",
       "</div>"
      ],
      "text/plain": [
       "                                             Indicator         Group  \\\n",
       "155  Symptoms of Anxiety Disorder or Depressive Dis...  By Education   \n",
       "365  Symptoms of Anxiety Disorder or Depressive Dis...  By Education   \n",
       "575  Symptoms of Anxiety Disorder or Depressive Dis...  By Education   \n",
       "785  Symptoms of Anxiety Disorder or Depressive Dis...  By Education   \n",
       "995  Symptoms of Anxiety Disorder or Depressive Dis...  By Education   \n",
       "\n",
       "             State                         Subgroup  Week       Week Label  \\\n",
       "155  United States  Less than a high school diploma     1   Apr 23 - May 5   \n",
       "365  United States  Less than a high school diploma     2   May 7 - May 12   \n",
       "575  United States  Less than a high school diploma     3  May 14 - May 19   \n",
       "785  United States  Less than a high school diploma     4  May 21 - May 26   \n",
       "995  United States  Less than a high school diploma     5  May 28 - June 2   \n",
       "\n",
       "     Value  Low CI  High CI Confidence Interval Quartile range  \n",
       "155   45.4    40.3     50.5         40.3 - 50.5            NaN  \n",
       "365   42.5    36.2     48.9         36.2 - 48.9            NaN  \n",
       "575   40.9    36.2     45.8         36.2 - 45.8            NaN  \n",
       "785   47.7    43.4     52.1         43.4 - 52.1            NaN  \n",
       "995   43.9    40.4     47.5         40.4 - 47.5            NaN  "
      ]
     },
     "execution_count": 37,
     "metadata": {},
     "output_type": "execute_result"
    }
   ],
   "source": [
    "AORDbyedu = MentalHealth.loc[(MentalHealth[\"Indicator\"] == \"Symptoms of Anxiety Disorder or Depressive Disorder\")]\n",
    "\n",
    "df1 = AORDbyedu.loc[(MentalHealth[\"Subgroup\"] == \"Less than a high school diploma\")]\n",
    "df2 = AORDbyedu.loc[(MentalHealth[\"Subgroup\"] == \"High school diploma or GED\")]\n",
    "df3 = AORDbyedu.loc[(MentalHealth[\"Subgroup\"] == \"Some college/Associate's degree\")]\n",
    "df4 = AORDbyedu.loc[(MentalHealth[\"Subgroup\"] == \"Bachelor's degree or higher\")]\n",
    "\n",
    "AORDbyedu10 = pd.concat([df1, df2, df3, df4])\n",
    "AORDbyedu10.head()  "
   ]
  },
  {
   "cell_type": "code",
   "execution_count": 38,
   "metadata": {},
   "outputs": [
    {
     "data": {
      "text/plain": [
       "<matplotlib.axes._subplots.AxesSubplot at 0x26428e43b48>"
      ]
     },
     "execution_count": 38,
     "metadata": {},
     "output_type": "execute_result"
    },
    {
     "data": {
      "image/png": "[encoded data removed]",
      "text/plain": [
       "<Figure size 1296x576 with 1 Axes>"
      ]
     },
     "metadata": {
      "needs_background": "light"
     },
     "output_type": "display_data"
    }
   ],
   "source": [
    "AORDbyedu10.boxplot('Value', by='Subgroup', figsize=(18, 8))"
   ]
  },
  {
   "cell_type": "markdown",
   "metadata": {},
   "source": [
    "## Hypothesis Testing (Depression for Subgroup: Education)¶\n",
    "Statistical significance was set at p = 0.05"
   ]
  },
  {
   "cell_type": "markdown",
   "metadata": {},
   "source": [
    "Hypothesis(N) = There is no difference in the level of depression between the education groups\n",
    "\n",
    "Hypothesis(A) = There is a difference in the level of depression between the education groups"
   ]
  },
  {
   "cell_type": "code",
   "execution_count": 39,
   "metadata": {},
   "outputs": [
    {
     "name": "stdout",
     "output_type": "stream",
     "text": [
      "                            OLS Regression Results                            \n",
      "==============================================================================\n",
      "Dep. Variable:                  Value   R-squared:                       0.926\n",
      "Model:                            OLS   Adj. R-squared:                  0.916\n",
      "Method:                 Least Squares   F-statistic:                     99.72\n",
      "Date:                Wed, 23 Dec 2020   Prob (F-statistic):           1.09e-13\n",
      "Time:                        09:32:50   Log-Likelihood:                -52.614\n",
      "No. Observations:                  28   AIC:                             113.2\n",
      "Df Residuals:                      24   BIC:                             118.6\n",
      "Df Model:                           3                                         \n",
      "Covariance Type:            nonrobust                                         \n",
      "===============================================================================================================\n",
      "                                                  coef    std err          t      P>|t|      [0.025      0.975]\n",
      "---------------------------------------------------------------------------------------------------------------\n",
      "Intercept                                      17.8286      0.647     27.565      0.000      16.494      19.163\n",
      "Subgroup[T.High school diploma or GED]          9.2857      0.915     10.152      0.000       7.398      11.174\n",
      "Subgroup[T.Less than a high school diploma]    15.6714      0.915     17.133      0.000      13.784      17.559\n",
      "Subgroup[T.Some college/Associate's degree]     9.4429      0.915     10.324      0.000       7.555      11.331\n",
      "==============================================================================\n",
      "Omnibus:                       14.629   Durbin-Watson:                   2.554\n",
      "Prob(Omnibus):                  0.001   Jarque-Bera (JB):               16.158\n",
      "Skew:                           1.324   Prob(JB):                     0.000310\n",
      "Kurtosis:                       5.614   Cond. No.                         4.79\n",
      "==============================================================================\n",
      "\n",
      "Warnings:\n",
      "[1] Standard Errors assume that the covariance matrix of the errors is correctly specified.\n"
     ]
    }
   ],
   "source": [
    "# Load data\n",
    "dat = Depressionbyedu10\n",
    "\n",
    "# Fit regression model (using the natural log of one of the regressors)\n",
    "results = smf.ols('Value ~ Subgroup', data=dat).fit()\n",
    "\n",
    "# Inspect the results\n",
    "print(results.summary())"
   ]
  },
  {
   "cell_type": "markdown",
   "metadata": {},
   "source": [
    "## In this table, p value is 0.00 and it is less than our chosen level of signifance at 5%.¶\n",
    "## There we will reject the the null hypothesis at 5% level of significance."
   ]
  },
  {
   "cell_type": "markdown",
   "metadata": {},
   "source": [
    "## Hypothesis Testing (Anxiety for Subgroup: Education)¶\n",
    "Statistical significance was set at p = 0.05"
   ]
  },
  {
   "cell_type": "markdown",
   "metadata": {},
   "source": [
    "Hypothesis(N) = There is no difference in the level of anxiety between the education groups\n",
    "\n",
    "Hypothesis(A) = There is a difference in the level of anxiety between the education groups"
   ]
  },
  {
   "cell_type": "code",
   "execution_count": 40,
   "metadata": {},
   "outputs": [
    {
     "name": "stdout",
     "output_type": "stream",
     "text": [
      "                            OLS Regression Results                            \n",
      "==============================================================================\n",
      "Dep. Variable:                  Value   R-squared:                       0.894\n",
      "Model:                            OLS   Adj. R-squared:                  0.880\n",
      "Method:                 Least Squares   F-statistic:                     67.15\n",
      "Date:                Wed, 23 Dec 2020   Prob (F-statistic):           8.11e-12\n",
      "Time:                        09:32:50   Log-Likelihood:                -50.616\n",
      "No. Observations:                  28   AIC:                             109.2\n",
      "Df Residuals:                      24   BIC:                             114.6\n",
      "Df Model:                           3                                         \n",
      "Covariance Type:            nonrobust                                         \n",
      "===============================================================================================================\n",
      "                                                  coef    std err          t      P>|t|      [0.025      0.975]\n",
      "---------------------------------------------------------------------------------------------------------------\n",
      "Intercept                                      25.3429      0.602     42.081      0.000      24.100      26.586\n",
      "Subgroup[T.High school diploma or GED]          5.8429      0.852      6.860      0.000       4.085       7.601\n",
      "Subgroup[T.Less than a high school diploma]    11.9714      0.852     14.056      0.000      10.214      13.729\n",
      "Subgroup[T.Some college/Associate's degree]     7.3000      0.852      8.571      0.000       5.542       9.058\n",
      "==============================================================================\n",
      "Omnibus:                        0.070   Durbin-Watson:                   1.701\n",
      "Prob(Omnibus):                  0.965   Jarque-Bera (JB):                0.197\n",
      "Skew:                          -0.104   Prob(JB):                        0.906\n",
      "Kurtosis:                       2.646   Cond. No.                         4.79\n",
      "==============================================================================\n",
      "\n",
      "Warnings:\n",
      "[1] Standard Errors assume that the covariance matrix of the errors is correctly specified.\n"
     ]
    }
   ],
   "source": [
    "# Load data\n",
    "dat = Anxietybyedu10\n",
    "\n",
    "# Fit regression model (using the natural log of one of the regressors)\n",
    "results = smf.ols('Value ~ Subgroup', data=dat).fit()\n",
    "\n",
    "# Inspect the results\n",
    "print(results.summary())"
   ]
  },
  {
   "cell_type": "markdown",
   "metadata": {},
   "source": [
    "## In this table, p value is 0.00 and it is less than our chosen level of signifance at 5%.¶\n",
    "## There we will reject the the null hypothesis at 5% level of significance."
   ]
  },
  {
   "cell_type": "markdown",
   "metadata": {},
   "source": [
    "## Hypothesis Testing (Anxiety or Depression for Subgroup: Education)¶\n",
    "Statistical significance was set at p = 0.05"
   ]
  },
  {
   "cell_type": "markdown",
   "metadata": {},
   "source": [
    "Hypothesis(N) = There is no difference in the level of anxiety or depression between the education groups\n",
    "\n",
    "Hypothesis(A) = There is a difference in the level of anxiety or depression between the education groups"
   ]
  },
  {
   "cell_type": "code",
   "execution_count": 41,
   "metadata": {},
   "outputs": [
    {
     "name": "stdout",
     "output_type": "stream",
     "text": [
      "                            OLS Regression Results                            \n",
      "==============================================================================\n",
      "Dep. Variable:                  Value   R-squared:                       0.934\n",
      "Model:                            OLS   Adj. R-squared:                  0.926\n",
      "Method:                 Least Squares   F-statistic:                     113.5\n",
      "Date:                Wed, 23 Dec 2020   Prob (F-statistic):           2.60e-14\n",
      "Time:                        09:32:50   Log-Likelihood:                -50.331\n",
      "No. Observations:                  28   AIC:                             108.7\n",
      "Df Residuals:                      24   BIC:                             114.0\n",
      "Df Model:                           3                                         \n",
      "Covariance Type:            nonrobust                                         \n",
      "===============================================================================================================\n",
      "                                                  coef    std err          t      P>|t|      [0.025      0.975]\n",
      "---------------------------------------------------------------------------------------------------------------\n",
      "Intercept                                      28.6571      0.596     48.071      0.000      27.427      29.888\n",
      "Subgroup[T.High school diploma or GED]          8.2429      0.843      9.777      0.000       6.503       9.983\n",
      "Subgroup[T.Less than a high school diploma]    15.4571      0.843     18.334      0.000      13.717      17.197\n",
      "Subgroup[T.Some college/Associate's degree]     9.2429      0.843     10.963      0.000       7.503      10.983\n",
      "==============================================================================\n",
      "Omnibus:                        0.208   Durbin-Watson:                   1.851\n",
      "Prob(Omnibus):                  0.901   Jarque-Bera (JB):                0.005\n",
      "Skew:                          -0.018   Prob(JB):                        0.997\n",
      "Kurtosis:                       2.945   Cond. No.                         4.79\n",
      "==============================================================================\n",
      "\n",
      "Warnings:\n",
      "[1] Standard Errors assume that the covariance matrix of the errors is correctly specified.\n"
     ]
    }
   ],
   "source": [
    "# Load data\n",
    "dat = AORDbyedu10\n",
    "\n",
    "# Fit regression model (using the natural log of one of the regressors)\n",
    "results = smf.ols('Value ~ Subgroup', data=dat).fit()\n",
    "\n",
    "# Inspect the results\n",
    "print(results.summary())"
   ]
  },
  {
   "cell_type": "markdown",
   "metadata": {},
   "source": [
    "## In this table, p value is 0.00 and it is less than our chosen level of signifance at 5%.¶\n",
    "## There we will reject the the null hypothesis at 5% level of significance."
   ]
  },
  {
   "cell_type": "code",
   "execution_count": null,
   "metadata": {},
   "outputs": [],
   "source": []
  }
 ],
 "metadata": {
  "kernelspec": {
   "display_name": "Python 3",
   "language": "python",
   "name": "python3"
  },
  "language_info": {
   "codemirror_mode": {
    "name": "ipython",
    "version": 3
   },
   "file_extension": ".py",
   "mimetype": "text/x-python",
   "name": "python",
   "nbconvert_exporter": "python",
   "pygments_lexer": "ipython3",
   "version": "3.7.6"
  }
 },
 "nbformat": 4,
 "nbformat_minor": 4
}
