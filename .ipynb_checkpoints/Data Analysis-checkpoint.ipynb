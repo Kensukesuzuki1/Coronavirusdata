{
 "cells": [
  {
   "cell_type": "markdown",
   "metadata": {},
   "source": [
    "## Import Dependancies"
   ]
  },
  {
   "cell_type": "code",
   "execution_count": 1,
   "metadata": {},
   "outputs": [],
   "source": [
    "import pandas as pd\n",
    "\n",
    "import numpy as np\n",
    "import statsmodels.api as sm\n",
    "import statsmodels.formula.api as smf\n",
    "import statsmodels.formula.api as ols"
   ]
  },
  {
   "cell_type": "markdown",
   "metadata": {},
   "source": [
    "## Load Dataset"
   ]
  },
  {
   "cell_type": "code",
   "execution_count": 2,
   "metadata": {},
   "outputs": [
    {
     "data": {
      "text/html": [
       "<div>\n",
       "<style scoped>\n",
       "    .dataframe tbody tr th:only-of-type {\n",
       "        vertical-align: middle;\n",
       "    }\n",
       "\n",
       "    .dataframe tbody tr th {\n",
       "        vertical-align: top;\n",
       "    }\n",
       "\n",
       "    .dataframe thead th {\n",
       "        text-align: right;\n",
       "    }\n",
       "</style>\n",
       "<table border=\"1\" class=\"dataframe\">\n",
       "  <thead>\n",
       "    <tr style=\"text-align: right;\">\n",
       "      <th></th>\n",
       "      <th>Indicator</th>\n",
       "      <th>Group</th>\n",
       "      <th>State</th>\n",
       "      <th>Subgroup</th>\n",
       "      <th>Week</th>\n",
       "      <th>Week Label</th>\n",
       "      <th>Value</th>\n",
       "      <th>Low CI</th>\n",
       "      <th>High CI</th>\n",
       "      <th>Confidence Interval</th>\n",
       "      <th>Quartile range</th>\n",
       "    </tr>\n",
       "  </thead>\n",
       "  <tbody>\n",
       "    <tr>\n",
       "      <th>0</th>\n",
       "      <td>Symptoms of Depressive Disorder</td>\n",
       "      <td>National Estimate</td>\n",
       "      <td>United States</td>\n",
       "      <td>United States</td>\n",
       "      <td>1</td>\n",
       "      <td>Apr 23 - May 5</td>\n",
       "      <td>23.5</td>\n",
       "      <td>22.7</td>\n",
       "      <td>24.3</td>\n",
       "      <td>22.7 - 24.3</td>\n",
       "      <td>NaN</td>\n",
       "    </tr>\n",
       "    <tr>\n",
       "      <th>1</th>\n",
       "      <td>Symptoms of Depressive Disorder</td>\n",
       "      <td>By Age</td>\n",
       "      <td>United States</td>\n",
       "      <td>18 - 29 years</td>\n",
       "      <td>1</td>\n",
       "      <td>Apr 23 - May 5</td>\n",
       "      <td>32.7</td>\n",
       "      <td>30.2</td>\n",
       "      <td>35.2</td>\n",
       "      <td>30.2 - 35.2</td>\n",
       "      <td>NaN</td>\n",
       "    </tr>\n",
       "    <tr>\n",
       "      <th>2</th>\n",
       "      <td>Symptoms of Depressive Disorder</td>\n",
       "      <td>By Age</td>\n",
       "      <td>United States</td>\n",
       "      <td>30 - 39 years</td>\n",
       "      <td>1</td>\n",
       "      <td>Apr 23 - May 5</td>\n",
       "      <td>25.7</td>\n",
       "      <td>24.1</td>\n",
       "      <td>27.3</td>\n",
       "      <td>24.1 - 27.3</td>\n",
       "      <td>NaN</td>\n",
       "    </tr>\n",
       "    <tr>\n",
       "      <th>3</th>\n",
       "      <td>Symptoms of Depressive Disorder</td>\n",
       "      <td>By Age</td>\n",
       "      <td>United States</td>\n",
       "      <td>40 - 49 years</td>\n",
       "      <td>1</td>\n",
       "      <td>Apr 23 - May 5</td>\n",
       "      <td>24.8</td>\n",
       "      <td>23.3</td>\n",
       "      <td>26.2</td>\n",
       "      <td>23.3 - 26.2</td>\n",
       "      <td>NaN</td>\n",
       "    </tr>\n",
       "    <tr>\n",
       "      <th>4</th>\n",
       "      <td>Symptoms of Depressive Disorder</td>\n",
       "      <td>By Age</td>\n",
       "      <td>United States</td>\n",
       "      <td>50 - 59 years</td>\n",
       "      <td>1</td>\n",
       "      <td>Apr 23 - May 5</td>\n",
       "      <td>23.2</td>\n",
       "      <td>21.5</td>\n",
       "      <td>25.0</td>\n",
       "      <td>21.5 - 25.0</td>\n",
       "      <td>NaN</td>\n",
       "    </tr>\n",
       "  </tbody>\n",
       "</table>\n",
       "</div>"
      ],
      "text/plain": [
       "                         Indicator              Group          State  \\\n",
       "0  Symptoms of Depressive Disorder  National Estimate  United States   \n",
       "1  Symptoms of Depressive Disorder             By Age  United States   \n",
       "2  Symptoms of Depressive Disorder             By Age  United States   \n",
       "3  Symptoms of Depressive Disorder             By Age  United States   \n",
       "4  Symptoms of Depressive Disorder             By Age  United States   \n",
       "\n",
       "        Subgroup  Week      Week Label  Value  Low CI  High CI  \\\n",
       "0  United States     1  Apr 23 - May 5   23.5    22.7     24.3   \n",
       "1  18 - 29 years     1  Apr 23 - May 5   32.7    30.2     35.2   \n",
       "2  30 - 39 years     1  Apr 23 - May 5   25.7    24.1     27.3   \n",
       "3  40 - 49 years     1  Apr 23 - May 5   24.8    23.3     26.2   \n",
       "4  50 - 59 years     1  Apr 23 - May 5   23.2    21.5     25.0   \n",
       "\n",
       "  Confidence Interval Quartile range  \n",
       "0         22.7 - 24.3            NaN  \n",
       "1         30.2 - 35.2            NaN  \n",
       "2         24.1 - 27.3            NaN  \n",
       "3         23.3 - 26.2            NaN  \n",
       "4         21.5 - 25.0            NaN  "
      ]
     },
     "execution_count": 2,
     "metadata": {},
     "output_type": "execute_result"
    }
   ],
   "source": [
    "MentalHealth = pd.read_csv(\"Data/Mental_Health.csv\")\n",
    "MentalHealth.head()"
   ]
  },
  {
   "cell_type": "markdown",
   "metadata": {},
   "source": [
    "## Exploratory Data Analysis"
   ]
  },
  {
   "cell_type": "code",
   "execution_count": 3,
   "metadata": {},
   "outputs": [
    {
     "name": "stdout",
     "output_type": "stream",
     "text": [
      "<class 'pandas.core.frame.DataFrame'>\n",
      "RangeIndex: 1470 entries, 0 to 1469\n",
      "Data columns (total 11 columns):\n",
      " #   Column               Non-Null Count  Dtype  \n",
      "---  ------               --------------  -----  \n",
      " 0   Indicator            1470 non-null   object \n",
      " 1   Group                1470 non-null   object \n",
      " 2   State                1470 non-null   object \n",
      " 3   Subgroup             1470 non-null   object \n",
      " 4   Week                 1470 non-null   int64  \n",
      " 5   Week Label           1470 non-null   object \n",
      " 6   Value                1470 non-null   float64\n",
      " 7   Low CI               1470 non-null   float64\n",
      " 8   High CI              1470 non-null   float64\n",
      " 9   Confidence Interval  1470 non-null   object \n",
      " 10  Quartile range       1071 non-null   object \n",
      "dtypes: float64(3), int64(1), object(7)\n",
      "memory usage: 126.5+ KB\n"
     ]
    }
   ],
   "source": [
    "MentalHealth.info()"
   ]
  },
  {
   "cell_type": "code",
   "execution_count": 4,
   "metadata": {},
   "outputs": [
    {
     "name": "stdout",
     "output_type": "stream",
     "text": [
      "Colunm Name :  Indicator\n",
      "Column Contents :  ['Symptoms of Depressive Disorder' 'Symptoms of Depressive Disorder'\n",
      " 'Symptoms of Depressive Disorder' ...\n",
      " 'Symptoms of Anxiety Disorder or Depressive Disorder'\n",
      " 'Symptoms of Anxiety Disorder or Depressive Disorder'\n",
      " 'Symptoms of Anxiety Disorder or Depressive Disorder']\n",
      "Colunm Name :  Group\n",
      "Column Contents :  ['National Estimate' 'By Age' 'By Age' ... 'By State' 'By State'\n",
      " 'By State']\n",
      "Colunm Name :  State\n",
      "Column Contents :  ['United States' 'United States' 'United States' ... 'West Virginia'\n",
      " 'Wisconsin' 'Wyoming']\n",
      "Colunm Name :  Subgroup\n",
      "Column Contents :  ['United States' '18 - 29 years' '30 - 39 years' ... 'West Virginia'\n",
      " 'Wisconsin' 'Wyoming']\n",
      "Colunm Name :  Week\n",
      "Column Contents :  [1 1 1 ... 7 7 7]\n",
      "Colunm Name :  Week Label\n",
      "Column Contents :  ['Apr 23 - May 5' 'Apr 23 - May 5' 'Apr 23 - May 5' ...\n",
      " 'June 11 - June 16' 'June 11 - June 16' 'June 11 - June 16']\n",
      "Colunm Name :  Value\n",
      "Column Contents :  [23.5 32.7 25.7 ... 32.2 26.5 32.6]\n",
      "Colunm Name :  Low CI\n",
      "Column Contents :  [22.7 30.2 24.1 ... 24.7 21.6 25.7]\n",
      "Colunm Name :  High CI\n",
      "Column Contents :  [24.3 35.2 27.3 ... 40.3 32.  40.1]\n",
      "Colunm Name :  Confidence Interval\n",
      "Column Contents :  ['22.7 - 24.3' '30.2 - 35.2' '24.1 - 27.3' ... '24.7 - 40.3' '21.6 - 32.0'\n",
      " '25.7 - 40.1']\n",
      "Colunm Name :  Quartile range\n",
      "Column Contents :  [nan nan nan ... '25.5-32.2' '25.5-32.2' '32.3-34.9']\n"
     ]
    }
   ],
   "source": [
    "#Get column name and column contents\n",
    "for (columnName, columnData) in MentalHealth.iteritems(): \n",
    "    print('Colunm Name : ', columnName) \n",
    "    print('Column Contents : ', columnData.values) "
   ]
  },
  {
   "cell_type": "code",
   "execution_count": 5,
   "metadata": {},
   "outputs": [
    {
     "data": {
      "text/plain": [
       "array(['Symptoms of Depressive Disorder', 'Symptoms of Anxiety Disorder',\n",
       "       'Symptoms of Anxiety Disorder or Depressive Disorder'],\n",
       "      dtype=object)"
      ]
     },
     "execution_count": 5,
     "metadata": {},
     "output_type": "execute_result"
    }
   ],
   "source": [
    "#Get All Values from the Indicator List \n",
    "MentalHealth.Indicator.unique()"
   ]
  },
  {
   "cell_type": "markdown",
   "metadata": {},
   "source": [
    "## Mental Health Indicator Analysis (Subgroup)\n",
    "- Run basic calculations to obtain Mental Health Indicator by Subgroup"
   ]
  },
  {
   "cell_type": "code",
   "execution_count": 6,
   "metadata": {},
   "outputs": [
    {
     "data": {
      "text/html": [
       "<div>\n",
       "<style scoped>\n",
       "    .dataframe tbody tr th:only-of-type {\n",
       "        vertical-align: middle;\n",
       "    }\n",
       "\n",
       "    .dataframe tbody tr th {\n",
       "        vertical-align: top;\n",
       "    }\n",
       "\n",
       "    .dataframe thead th {\n",
       "        text-align: right;\n",
       "    }\n",
       "</style>\n",
       "<table border=\"1\" class=\"dataframe\">\n",
       "  <thead>\n",
       "    <tr style=\"text-align: right;\">\n",
       "      <th></th>\n",
       "      <th>Indicator</th>\n",
       "      <th>Group</th>\n",
       "      <th>State</th>\n",
       "      <th>Subgroup</th>\n",
       "      <th>Week</th>\n",
       "      <th>Week Label</th>\n",
       "      <th>Value</th>\n",
       "      <th>Low CI</th>\n",
       "      <th>High CI</th>\n",
       "      <th>Confidence Interval</th>\n",
       "      <th>Quartile range</th>\n",
       "    </tr>\n",
       "  </thead>\n",
       "  <tbody>\n",
       "    <tr>\n",
       "      <th>0</th>\n",
       "      <td>Symptoms of Depressive Disorder</td>\n",
       "      <td>National Estimate</td>\n",
       "      <td>United States</td>\n",
       "      <td>United States</td>\n",
       "      <td>1</td>\n",
       "      <td>Apr 23 - May 5</td>\n",
       "      <td>23.5</td>\n",
       "      <td>22.7</td>\n",
       "      <td>24.3</td>\n",
       "      <td>22.7 - 24.3</td>\n",
       "      <td>NaN</td>\n",
       "    </tr>\n",
       "    <tr>\n",
       "      <th>1</th>\n",
       "      <td>Symptoms of Depressive Disorder</td>\n",
       "      <td>By Age</td>\n",
       "      <td>United States</td>\n",
       "      <td>18 - 29 years</td>\n",
       "      <td>1</td>\n",
       "      <td>Apr 23 - May 5</td>\n",
       "      <td>32.7</td>\n",
       "      <td>30.2</td>\n",
       "      <td>35.2</td>\n",
       "      <td>30.2 - 35.2</td>\n",
       "      <td>NaN</td>\n",
       "    </tr>\n",
       "    <tr>\n",
       "      <th>2</th>\n",
       "      <td>Symptoms of Depressive Disorder</td>\n",
       "      <td>By Age</td>\n",
       "      <td>United States</td>\n",
       "      <td>30 - 39 years</td>\n",
       "      <td>1</td>\n",
       "      <td>Apr 23 - May 5</td>\n",
       "      <td>25.7</td>\n",
       "      <td>24.1</td>\n",
       "      <td>27.3</td>\n",
       "      <td>24.1 - 27.3</td>\n",
       "      <td>NaN</td>\n",
       "    </tr>\n",
       "    <tr>\n",
       "      <th>3</th>\n",
       "      <td>Symptoms of Depressive Disorder</td>\n",
       "      <td>By Age</td>\n",
       "      <td>United States</td>\n",
       "      <td>40 - 49 years</td>\n",
       "      <td>1</td>\n",
       "      <td>Apr 23 - May 5</td>\n",
       "      <td>24.8</td>\n",
       "      <td>23.3</td>\n",
       "      <td>26.2</td>\n",
       "      <td>23.3 - 26.2</td>\n",
       "      <td>NaN</td>\n",
       "    </tr>\n",
       "    <tr>\n",
       "      <th>4</th>\n",
       "      <td>Symptoms of Depressive Disorder</td>\n",
       "      <td>By Age</td>\n",
       "      <td>United States</td>\n",
       "      <td>50 - 59 years</td>\n",
       "      <td>1</td>\n",
       "      <td>Apr 23 - May 5</td>\n",
       "      <td>23.2</td>\n",
       "      <td>21.5</td>\n",
       "      <td>25.0</td>\n",
       "      <td>21.5 - 25.0</td>\n",
       "      <td>NaN</td>\n",
       "    </tr>\n",
       "  </tbody>\n",
       "</table>\n",
       "</div>"
      ],
      "text/plain": [
       "                         Indicator              Group          State  \\\n",
       "0  Symptoms of Depressive Disorder  National Estimate  United States   \n",
       "1  Symptoms of Depressive Disorder             By Age  United States   \n",
       "2  Symptoms of Depressive Disorder             By Age  United States   \n",
       "3  Symptoms of Depressive Disorder             By Age  United States   \n",
       "4  Symptoms of Depressive Disorder             By Age  United States   \n",
       "\n",
       "        Subgroup  Week      Week Label  Value  Low CI  High CI  \\\n",
       "0  United States     1  Apr 23 - May 5   23.5    22.7     24.3   \n",
       "1  18 - 29 years     1  Apr 23 - May 5   32.7    30.2     35.2   \n",
       "2  30 - 39 years     1  Apr 23 - May 5   25.7    24.1     27.3   \n",
       "3  40 - 49 years     1  Apr 23 - May 5   24.8    23.3     26.2   \n",
       "4  50 - 59 years     1  Apr 23 - May 5   23.2    21.5     25.0   \n",
       "\n",
       "  Confidence Interval Quartile range  \n",
       "0         22.7 - 24.3            NaN  \n",
       "1         30.2 - 35.2            NaN  \n",
       "2         24.1 - 27.3            NaN  \n",
       "3         23.3 - 26.2            NaN  \n",
       "4         21.5 - 25.0            NaN  "
      ]
     },
     "execution_count": 6,
     "metadata": {},
     "output_type": "execute_result"
    }
   ],
   "source": [
    "#Group by Depression\n",
    "Depression = MentalHealth.loc[(MentalHealth[\"Indicator\"] == \"Symptoms of Depressive Disorder\")]\n",
    "Depression.head()"
   ]
  },
  {
   "cell_type": "code",
   "execution_count": 7,
   "metadata": {},
   "outputs": [
    {
     "data": {
      "text/plain": [
       "Subgroup\n",
       "18 - 29 years                                   36.128571\n",
       "Less than a high school diploma                 33.500000\n",
       "Non-Hispanic, other races and multiple races    32.057143\n",
       "Mississippi                                     29.357143\n",
       "Louisiana                                       29.342857\n",
       "Name: Value, dtype: float64"
      ]
     },
     "execution_count": 7,
     "metadata": {},
     "output_type": "execute_result"
    }
   ],
   "source": [
    "means = Depression.groupby('Subgroup').mean()['Value'].sort_values(ascending=False)\n",
    "means.head()"
   ]
  },
  {
   "cell_type": "code",
   "execution_count": 8,
   "metadata": {},
   "outputs": [
    {
     "data": {
      "text/html": [
       "<div>\n",
       "<style scoped>\n",
       "    .dataframe tbody tr th:only-of-type {\n",
       "        vertical-align: middle;\n",
       "    }\n",
       "\n",
       "    .dataframe tbody tr th {\n",
       "        vertical-align: top;\n",
       "    }\n",
       "\n",
       "    .dataframe thead th {\n",
       "        text-align: right;\n",
       "    }\n",
       "</style>\n",
       "<table border=\"1\" class=\"dataframe\">\n",
       "  <thead>\n",
       "    <tr style=\"text-align: right;\">\n",
       "      <th></th>\n",
       "      <th>Indicator</th>\n",
       "      <th>Group</th>\n",
       "      <th>State</th>\n",
       "      <th>Subgroup</th>\n",
       "      <th>Week</th>\n",
       "      <th>Week Label</th>\n",
       "      <th>Value</th>\n",
       "      <th>Low CI</th>\n",
       "      <th>High CI</th>\n",
       "      <th>Confidence Interval</th>\n",
       "      <th>Quartile range</th>\n",
       "    </tr>\n",
       "  </thead>\n",
       "  <tbody>\n",
       "    <tr>\n",
       "      <th>70</th>\n",
       "      <td>Symptoms of Anxiety Disorder</td>\n",
       "      <td>National Estimate</td>\n",
       "      <td>United States</td>\n",
       "      <td>United States</td>\n",
       "      <td>1</td>\n",
       "      <td>Apr 23 - May 5</td>\n",
       "      <td>30.8</td>\n",
       "      <td>30.0</td>\n",
       "      <td>31.7</td>\n",
       "      <td>30.0 - 31.7</td>\n",
       "      <td>NaN</td>\n",
       "    </tr>\n",
       "    <tr>\n",
       "      <th>71</th>\n",
       "      <td>Symptoms of Anxiety Disorder</td>\n",
       "      <td>By Age</td>\n",
       "      <td>United States</td>\n",
       "      <td>18 - 29 years</td>\n",
       "      <td>1</td>\n",
       "      <td>Apr 23 - May 5</td>\n",
       "      <td>40.2</td>\n",
       "      <td>38.1</td>\n",
       "      <td>42.4</td>\n",
       "      <td>38.1 - 42.4</td>\n",
       "      <td>NaN</td>\n",
       "    </tr>\n",
       "    <tr>\n",
       "      <th>72</th>\n",
       "      <td>Symptoms of Anxiety Disorder</td>\n",
       "      <td>By Age</td>\n",
       "      <td>United States</td>\n",
       "      <td>30 - 39 years</td>\n",
       "      <td>1</td>\n",
       "      <td>Apr 23 - May 5</td>\n",
       "      <td>34.4</td>\n",
       "      <td>32.6</td>\n",
       "      <td>36.1</td>\n",
       "      <td>32.6 - 36.1</td>\n",
       "      <td>NaN</td>\n",
       "    </tr>\n",
       "    <tr>\n",
       "      <th>73</th>\n",
       "      <td>Symptoms of Anxiety Disorder</td>\n",
       "      <td>By Age</td>\n",
       "      <td>United States</td>\n",
       "      <td>40 - 49 years</td>\n",
       "      <td>1</td>\n",
       "      <td>Apr 23 - May 5</td>\n",
       "      <td>34.1</td>\n",
       "      <td>32.1</td>\n",
       "      <td>36.2</td>\n",
       "      <td>32.1 - 36.2</td>\n",
       "      <td>NaN</td>\n",
       "    </tr>\n",
       "    <tr>\n",
       "      <th>74</th>\n",
       "      <td>Symptoms of Anxiety Disorder</td>\n",
       "      <td>By Age</td>\n",
       "      <td>United States</td>\n",
       "      <td>50 - 59 years</td>\n",
       "      <td>1</td>\n",
       "      <td>Apr 23 - May 5</td>\n",
       "      <td>31.0</td>\n",
       "      <td>29.0</td>\n",
       "      <td>33.1</td>\n",
       "      <td>29.0 - 33.1</td>\n",
       "      <td>NaN</td>\n",
       "    </tr>\n",
       "  </tbody>\n",
       "</table>\n",
       "</div>"
      ],
      "text/plain": [
       "                       Indicator              Group          State  \\\n",
       "70  Symptoms of Anxiety Disorder  National Estimate  United States   \n",
       "71  Symptoms of Anxiety Disorder             By Age  United States   \n",
       "72  Symptoms of Anxiety Disorder             By Age  United States   \n",
       "73  Symptoms of Anxiety Disorder             By Age  United States   \n",
       "74  Symptoms of Anxiety Disorder             By Age  United States   \n",
       "\n",
       "         Subgroup  Week      Week Label  Value  Low CI  High CI  \\\n",
       "70  United States     1  Apr 23 - May 5   30.8    30.0     31.7   \n",
       "71  18 - 29 years     1  Apr 23 - May 5   40.2    38.1     42.4   \n",
       "72  30 - 39 years     1  Apr 23 - May 5   34.4    32.6     36.1   \n",
       "73  40 - 49 years     1  Apr 23 - May 5   34.1    32.1     36.2   \n",
       "74  50 - 59 years     1  Apr 23 - May 5   31.0    29.0     33.1   \n",
       "\n",
       "   Confidence Interval Quartile range  \n",
       "70         30.0 - 31.7            NaN  \n",
       "71         38.1 - 42.4            NaN  \n",
       "72         32.6 - 36.1            NaN  \n",
       "73         32.1 - 36.2            NaN  \n",
       "74         29.0 - 33.1            NaN  "
      ]
     },
     "execution_count": 8,
     "metadata": {},
     "output_type": "execute_result"
    }
   ],
   "source": [
    "Anxiety = MentalHealth.loc[(MentalHealth[\"Indicator\"] == \"Symptoms of Anxiety Disorder\")]\n",
    "Anxiety.head()"
   ]
  },
  {
   "cell_type": "code",
   "execution_count": 9,
   "metadata": {},
   "outputs": [
    {
     "data": {
      "text/plain": [
       "Subgroup\n",
       "18 - 29 years                                   40.957143\n",
       "Non-Hispanic, other races and multiple races    38.514286\n",
       "Less than a high school diploma                 37.314286\n",
       "30 - 39 years                                   34.928571\n",
       "Hispanic or Latino                              34.585714\n",
       "Name: Value, dtype: float64"
      ]
     },
     "execution_count": 9,
     "metadata": {},
     "output_type": "execute_result"
    }
   ],
   "source": [
    "means = Anxiety.groupby('Subgroup').mean()['Value'].sort_values(ascending=False)\n",
    "means.head()"
   ]
  },
  {
   "cell_type": "code",
   "execution_count": 10,
   "metadata": {},
   "outputs": [
    {
     "data": {
      "text/html": [
       "<div>\n",
       "<style scoped>\n",
       "    .dataframe tbody tr th:only-of-type {\n",
       "        vertical-align: middle;\n",
       "    }\n",
       "\n",
       "    .dataframe tbody tr th {\n",
       "        vertical-align: top;\n",
       "    }\n",
       "\n",
       "    .dataframe thead th {\n",
       "        text-align: right;\n",
       "    }\n",
       "</style>\n",
       "<table border=\"1\" class=\"dataframe\">\n",
       "  <thead>\n",
       "    <tr style=\"text-align: right;\">\n",
       "      <th></th>\n",
       "      <th>Indicator</th>\n",
       "      <th>Group</th>\n",
       "      <th>State</th>\n",
       "      <th>Subgroup</th>\n",
       "      <th>Week</th>\n",
       "      <th>Week Label</th>\n",
       "      <th>Value</th>\n",
       "      <th>Low CI</th>\n",
       "      <th>High CI</th>\n",
       "      <th>Confidence Interval</th>\n",
       "      <th>Quartile range</th>\n",
       "    </tr>\n",
       "  </thead>\n",
       "  <tbody>\n",
       "    <tr>\n",
       "      <th>140</th>\n",
       "      <td>Symptoms of Anxiety Disorder or Depressive Dis...</td>\n",
       "      <td>National Estimate</td>\n",
       "      <td>United States</td>\n",
       "      <td>United States</td>\n",
       "      <td>1</td>\n",
       "      <td>Apr 23 - May 5</td>\n",
       "      <td>35.9</td>\n",
       "      <td>35.0</td>\n",
       "      <td>36.8</td>\n",
       "      <td>35.0 - 36.8</td>\n",
       "      <td>NaN</td>\n",
       "    </tr>\n",
       "    <tr>\n",
       "      <th>141</th>\n",
       "      <td>Symptoms of Anxiety Disorder or Depressive Dis...</td>\n",
       "      <td>By Age</td>\n",
       "      <td>United States</td>\n",
       "      <td>18 - 29 years</td>\n",
       "      <td>1</td>\n",
       "      <td>Apr 23 - May 5</td>\n",
       "      <td>46.8</td>\n",
       "      <td>44.3</td>\n",
       "      <td>49.3</td>\n",
       "      <td>44.3 - 49.3</td>\n",
       "      <td>NaN</td>\n",
       "    </tr>\n",
       "    <tr>\n",
       "      <th>142</th>\n",
       "      <td>Symptoms of Anxiety Disorder or Depressive Dis...</td>\n",
       "      <td>By Age</td>\n",
       "      <td>United States</td>\n",
       "      <td>30 - 39 years</td>\n",
       "      <td>1</td>\n",
       "      <td>Apr 23 - May 5</td>\n",
       "      <td>39.6</td>\n",
       "      <td>37.7</td>\n",
       "      <td>41.5</td>\n",
       "      <td>37.7 - 41.5</td>\n",
       "      <td>NaN</td>\n",
       "    </tr>\n",
       "    <tr>\n",
       "      <th>143</th>\n",
       "      <td>Symptoms of Anxiety Disorder or Depressive Dis...</td>\n",
       "      <td>By Age</td>\n",
       "      <td>United States</td>\n",
       "      <td>40 - 49 years</td>\n",
       "      <td>1</td>\n",
       "      <td>Apr 23 - May 5</td>\n",
       "      <td>38.9</td>\n",
       "      <td>37.2</td>\n",
       "      <td>40.7</td>\n",
       "      <td>37.2 - 40.7</td>\n",
       "      <td>NaN</td>\n",
       "    </tr>\n",
       "    <tr>\n",
       "      <th>144</th>\n",
       "      <td>Symptoms of Anxiety Disorder or Depressive Dis...</td>\n",
       "      <td>By Age</td>\n",
       "      <td>United States</td>\n",
       "      <td>50 - 59 years</td>\n",
       "      <td>1</td>\n",
       "      <td>Apr 23 - May 5</td>\n",
       "      <td>35.8</td>\n",
       "      <td>34.0</td>\n",
       "      <td>37.7</td>\n",
       "      <td>34.0 - 37.7</td>\n",
       "      <td>NaN</td>\n",
       "    </tr>\n",
       "  </tbody>\n",
       "</table>\n",
       "</div>"
      ],
      "text/plain": [
       "                                             Indicator              Group  \\\n",
       "140  Symptoms of Anxiety Disorder or Depressive Dis...  National Estimate   \n",
       "141  Symptoms of Anxiety Disorder or Depressive Dis...             By Age   \n",
       "142  Symptoms of Anxiety Disorder or Depressive Dis...             By Age   \n",
       "143  Symptoms of Anxiety Disorder or Depressive Dis...             By Age   \n",
       "144  Symptoms of Anxiety Disorder or Depressive Dis...             By Age   \n",
       "\n",
       "             State       Subgroup  Week      Week Label  Value  Low CI  \\\n",
       "140  United States  United States     1  Apr 23 - May 5   35.9    35.0   \n",
       "141  United States  18 - 29 years     1  Apr 23 - May 5   46.8    44.3   \n",
       "142  United States  30 - 39 years     1  Apr 23 - May 5   39.6    37.7   \n",
       "143  United States  40 - 49 years     1  Apr 23 - May 5   38.9    37.2   \n",
       "144  United States  50 - 59 years     1  Apr 23 - May 5   35.8    34.0   \n",
       "\n",
       "     High CI Confidence Interval Quartile range  \n",
       "140     36.8         35.0 - 36.8            NaN  \n",
       "141     49.3         44.3 - 49.3            NaN  \n",
       "142     41.5         37.7 - 41.5            NaN  \n",
       "143     40.7         37.2 - 40.7            NaN  \n",
       "144     37.7         34.0 - 37.7            NaN  "
      ]
     },
     "execution_count": 10,
     "metadata": {},
     "output_type": "execute_result"
    }
   ],
   "source": [
    "AorD = MentalHealth.loc[(MentalHealth[\"Indicator\"] == \"Symptoms of Anxiety Disorder or Depressive Disorder\")]\n",
    "AorD.head()"
   ]
  },
  {
   "cell_type": "code",
   "execution_count": 11,
   "metadata": {},
   "outputs": [
    {
     "data": {
      "text/plain": [
       "Subgroup\n",
       "18 - 29 years                                   47.971429\n",
       "Non-Hispanic, other races and multiple races    44.628571\n",
       "Less than a high school diploma                 44.114286\n",
       "Hispanic or Latino                              40.557143\n",
       "Mississippi                                     39.942857\n",
       "Name: Value, dtype: float64"
      ]
     },
     "execution_count": 11,
     "metadata": {},
     "output_type": "execute_result"
    }
   ],
   "source": [
    "means = AorD.groupby('Subgroup').mean()['Value'].sort_values(ascending=False)\n",
    "means.head()"
   ]
  },
  {
   "cell_type": "markdown",
   "metadata": {},
   "source": [
    "### 18 - 29 age group seem to have worse Mental Health Outcomes but is it significantly different? "
   ]
  },
  {
   "cell_type": "code",
   "execution_count": 12,
   "metadata": {},
   "outputs": [
    {
     "data": {
      "text/html": [
       "<div>\n",
       "<style scoped>\n",
       "    .dataframe tbody tr th:only-of-type {\n",
       "        vertical-align: middle;\n",
       "    }\n",
       "\n",
       "    .dataframe tbody tr th {\n",
       "        vertical-align: top;\n",
       "    }\n",
       "\n",
       "    .dataframe thead th {\n",
       "        text-align: right;\n",
       "    }\n",
       "</style>\n",
       "<table border=\"1\" class=\"dataframe\">\n",
       "  <thead>\n",
       "    <tr style=\"text-align: right;\">\n",
       "      <th></th>\n",
       "      <th>Indicator</th>\n",
       "      <th>Group</th>\n",
       "      <th>State</th>\n",
       "      <th>Subgroup</th>\n",
       "      <th>Week</th>\n",
       "      <th>Week Label</th>\n",
       "      <th>Value</th>\n",
       "      <th>Low CI</th>\n",
       "      <th>High CI</th>\n",
       "      <th>Confidence Interval</th>\n",
       "      <th>Quartile range</th>\n",
       "    </tr>\n",
       "  </thead>\n",
       "  <tbody>\n",
       "    <tr>\n",
       "      <th>1</th>\n",
       "      <td>Symptoms of Depressive Disorder</td>\n",
       "      <td>By Age</td>\n",
       "      <td>United States</td>\n",
       "      <td>18 - 29 years</td>\n",
       "      <td>1</td>\n",
       "      <td>Apr 23 - May 5</td>\n",
       "      <td>32.7</td>\n",
       "      <td>30.2</td>\n",
       "      <td>35.2</td>\n",
       "      <td>30.2 - 35.2</td>\n",
       "      <td>NaN</td>\n",
       "    </tr>\n",
       "    <tr>\n",
       "      <th>211</th>\n",
       "      <td>Symptoms of Depressive Disorder</td>\n",
       "      <td>By Age</td>\n",
       "      <td>United States</td>\n",
       "      <td>18 - 29 years</td>\n",
       "      <td>2</td>\n",
       "      <td>May 7 - May 12</td>\n",
       "      <td>36.2</td>\n",
       "      <td>32.2</td>\n",
       "      <td>40.2</td>\n",
       "      <td>32.2 - 40.2</td>\n",
       "      <td>NaN</td>\n",
       "    </tr>\n",
       "    <tr>\n",
       "      <th>421</th>\n",
       "      <td>Symptoms of Depressive Disorder</td>\n",
       "      <td>By Age</td>\n",
       "      <td>United States</td>\n",
       "      <td>18 - 29 years</td>\n",
       "      <td>3</td>\n",
       "      <td>May 14 - May 19</td>\n",
       "      <td>36.7</td>\n",
       "      <td>34.2</td>\n",
       "      <td>39.1</td>\n",
       "      <td>34.2 - 39.1</td>\n",
       "      <td>NaN</td>\n",
       "    </tr>\n",
       "    <tr>\n",
       "      <th>631</th>\n",
       "      <td>Symptoms of Depressive Disorder</td>\n",
       "      <td>By Age</td>\n",
       "      <td>United States</td>\n",
       "      <td>18 - 29 years</td>\n",
       "      <td>4</td>\n",
       "      <td>May 21 - May 26</td>\n",
       "      <td>36.7</td>\n",
       "      <td>34.0</td>\n",
       "      <td>39.4</td>\n",
       "      <td>34.0 - 39.4</td>\n",
       "      <td>NaN</td>\n",
       "    </tr>\n",
       "    <tr>\n",
       "      <th>841</th>\n",
       "      <td>Symptoms of Depressive Disorder</td>\n",
       "      <td>By Age</td>\n",
       "      <td>United States</td>\n",
       "      <td>18 - 29 years</td>\n",
       "      <td>5</td>\n",
       "      <td>May 28 - June 2</td>\n",
       "      <td>36.8</td>\n",
       "      <td>34.8</td>\n",
       "      <td>38.8</td>\n",
       "      <td>34.8 - 38.8</td>\n",
       "      <td>NaN</td>\n",
       "    </tr>\n",
       "  </tbody>\n",
       "</table>\n",
       "</div>"
      ],
      "text/plain": [
       "                           Indicator   Group          State       Subgroup  \\\n",
       "1    Symptoms of Depressive Disorder  By Age  United States  18 - 29 years   \n",
       "211  Symptoms of Depressive Disorder  By Age  United States  18 - 29 years   \n",
       "421  Symptoms of Depressive Disorder  By Age  United States  18 - 29 years   \n",
       "631  Symptoms of Depressive Disorder  By Age  United States  18 - 29 years   \n",
       "841  Symptoms of Depressive Disorder  By Age  United States  18 - 29 years   \n",
       "\n",
       "     Week       Week Label  Value  Low CI  High CI Confidence Interval  \\\n",
       "1       1   Apr 23 - May 5   32.7    30.2     35.2         30.2 - 35.2   \n",
       "211     2   May 7 - May 12   36.2    32.2     40.2         32.2 - 40.2   \n",
       "421     3  May 14 - May 19   36.7    34.2     39.1         34.2 - 39.1   \n",
       "631     4  May 21 - May 26   36.7    34.0     39.4         34.0 - 39.4   \n",
       "841     5  May 28 - June 2   36.8    34.8     38.8         34.8 - 38.8   \n",
       "\n",
       "    Quartile range  \n",
       "1              NaN  \n",
       "211            NaN  \n",
       "421            NaN  \n",
       "631            NaN  \n",
       "841            NaN  "
      ]
     },
     "execution_count": 12,
     "metadata": {},
     "output_type": "execute_result"
    }
   ],
   "source": [
    "Depressionbyage = MentalHealth.loc[(MentalHealth[\"Indicator\"] == \"Symptoms of Depressive Disorder\")]\n",
    "\n",
    "df1 = Depressionbyage.loc[(MentalHealth[\"Subgroup\"] == \"18 - 29 years\")]\n",
    "df2 = Depressionbyage.loc[(MentalHealth[\"Subgroup\"] == \"30 - 39 years\")]\n",
    "df3 = Depressionbyage.loc[(MentalHealth[\"Subgroup\"] == \"40 - 49 years\")]\n",
    "df4 = Depressionbyage.loc[(MentalHealth[\"Subgroup\"] == \"50 - 59 years\")]\n",
    "df5 = Depressionbyage.loc[(MentalHealth[\"Subgroup\"] == \"60 - 69 years\")]\n",
    "df6 = Depressionbyage.loc[(MentalHealth[\"Subgroup\"] == \"70 - 79 years\")]\n",
    "\n",
    "Depressionbyage10 = pd.concat([df1, df2, df3, df4, df5, df6])\n",
    "Depressionbyage10.head()                                         "
   ]
  },
  {
   "cell_type": "code",
   "execution_count": 13,
   "metadata": {},
   "outputs": [
    {
     "data": {
      "text/plain": [
       "<matplotlib.axes._subplots.AxesSubplot at 0x2aad0207108>"
      ]
     },
     "execution_count": 13,
     "metadata": {},
     "output_type": "execute_result"
    },
    {
     "data": {
      "image/png": "[encoded data removed]",
      "text/plain": [
       "<Figure size 864x576 with 1 Axes>"
      ]
     },
     "metadata": {
      "needs_background": "light"
     },
     "output_type": "display_data"
    }
   ],
   "source": [
    "Depressionbyage10.boxplot('Value', by='Subgroup', figsize=(12, 8))"
   ]
  },
  {
   "cell_type": "code",
   "execution_count": 14,
   "metadata": {},
   "outputs": [
    {
     "data": {
      "text/html": [
       "<div>\n",
       "<style scoped>\n",
       "    .dataframe tbody tr th:only-of-type {\n",
       "        vertical-align: middle;\n",
       "    }\n",
       "\n",
       "    .dataframe tbody tr th {\n",
       "        vertical-align: top;\n",
       "    }\n",
       "\n",
       "    .dataframe thead th {\n",
       "        text-align: right;\n",
       "    }\n",
       "</style>\n",
       "<table border=\"1\" class=\"dataframe\">\n",
       "  <thead>\n",
       "    <tr style=\"text-align: right;\">\n",
       "      <th></th>\n",
       "      <th>Indicator</th>\n",
       "      <th>Group</th>\n",
       "      <th>State</th>\n",
       "      <th>Subgroup</th>\n",
       "      <th>Week</th>\n",
       "      <th>Week Label</th>\n",
       "      <th>Value</th>\n",
       "      <th>Low CI</th>\n",
       "      <th>High CI</th>\n",
       "      <th>Confidence Interval</th>\n",
       "      <th>Quartile range</th>\n",
       "    </tr>\n",
       "  </thead>\n",
       "  <tbody>\n",
       "    <tr>\n",
       "      <th>71</th>\n",
       "      <td>Symptoms of Anxiety Disorder</td>\n",
       "      <td>By Age</td>\n",
       "      <td>United States</td>\n",
       "      <td>18 - 29 years</td>\n",
       "      <td>1</td>\n",
       "      <td>Apr 23 - May 5</td>\n",
       "      <td>40.2</td>\n",
       "      <td>38.1</td>\n",
       "      <td>42.4</td>\n",
       "      <td>38.1 - 42.4</td>\n",
       "      <td>NaN</td>\n",
       "    </tr>\n",
       "    <tr>\n",
       "      <th>281</th>\n",
       "      <td>Symptoms of Anxiety Disorder</td>\n",
       "      <td>By Age</td>\n",
       "      <td>United States</td>\n",
       "      <td>18 - 29 years</td>\n",
       "      <td>2</td>\n",
       "      <td>May 7 - May 12</td>\n",
       "      <td>42.0</td>\n",
       "      <td>38.3</td>\n",
       "      <td>45.7</td>\n",
       "      <td>38.3 - 45.7</td>\n",
       "      <td>NaN</td>\n",
       "    </tr>\n",
       "    <tr>\n",
       "      <th>491</th>\n",
       "      <td>Symptoms of Anxiety Disorder</td>\n",
       "      <td>By Age</td>\n",
       "      <td>United States</td>\n",
       "      <td>18 - 29 years</td>\n",
       "      <td>3</td>\n",
       "      <td>May 14 - May 19</td>\n",
       "      <td>38.6</td>\n",
       "      <td>36.2</td>\n",
       "      <td>41.1</td>\n",
       "      <td>36.2 - 41.1</td>\n",
       "      <td>NaN</td>\n",
       "    </tr>\n",
       "    <tr>\n",
       "      <th>701</th>\n",
       "      <td>Symptoms of Anxiety Disorder</td>\n",
       "      <td>By Age</td>\n",
       "      <td>United States</td>\n",
       "      <td>18 - 29 years</td>\n",
       "      <td>4</td>\n",
       "      <td>May 21 - May 26</td>\n",
       "      <td>39.1</td>\n",
       "      <td>36.8</td>\n",
       "      <td>41.3</td>\n",
       "      <td>36.8 - 41.3</td>\n",
       "      <td>NaN</td>\n",
       "    </tr>\n",
       "    <tr>\n",
       "      <th>911</th>\n",
       "      <td>Symptoms of Anxiety Disorder</td>\n",
       "      <td>By Age</td>\n",
       "      <td>United States</td>\n",
       "      <td>18 - 29 years</td>\n",
       "      <td>5</td>\n",
       "      <td>May 28 - June 2</td>\n",
       "      <td>42.2</td>\n",
       "      <td>40.5</td>\n",
       "      <td>43.9</td>\n",
       "      <td>40.5 - 43.9</td>\n",
       "      <td>NaN</td>\n",
       "    </tr>\n",
       "  </tbody>\n",
       "</table>\n",
       "</div>"
      ],
      "text/plain": [
       "                        Indicator   Group          State       Subgroup  Week  \\\n",
       "71   Symptoms of Anxiety Disorder  By Age  United States  18 - 29 years     1   \n",
       "281  Symptoms of Anxiety Disorder  By Age  United States  18 - 29 years     2   \n",
       "491  Symptoms of Anxiety Disorder  By Age  United States  18 - 29 years     3   \n",
       "701  Symptoms of Anxiety Disorder  By Age  United States  18 - 29 years     4   \n",
       "911  Symptoms of Anxiety Disorder  By Age  United States  18 - 29 years     5   \n",
       "\n",
       "          Week Label  Value  Low CI  High CI Confidence Interval  \\\n",
       "71    Apr 23 - May 5   40.2    38.1     42.4         38.1 - 42.4   \n",
       "281   May 7 - May 12   42.0    38.3     45.7         38.3 - 45.7   \n",
       "491  May 14 - May 19   38.6    36.2     41.1         36.2 - 41.1   \n",
       "701  May 21 - May 26   39.1    36.8     41.3         36.8 - 41.3   \n",
       "911  May 28 - June 2   42.2    40.5     43.9         40.5 - 43.9   \n",
       "\n",
       "    Quartile range  \n",
       "71             NaN  \n",
       "281            NaN  \n",
       "491            NaN  \n",
       "701            NaN  \n",
       "911            NaN  "
      ]
     },
     "execution_count": 14,
     "metadata": {},
     "output_type": "execute_result"
    }
   ],
   "source": [
    "Anxietybyage = MentalHealth.loc[(MentalHealth[\"Indicator\"] == \"Symptoms of Anxiety Disorder\")]\n",
    "\n",
    "df1 = Anxietybyage.loc[(MentalHealth[\"Subgroup\"] == \"18 - 29 years\")]\n",
    "df2 = Anxietybyage.loc[(MentalHealth[\"Subgroup\"] == \"30 - 39 years\")]\n",
    "df3 = Anxietybyage.loc[(MentalHealth[\"Subgroup\"] == \"40 - 49 years\")]\n",
    "df4 = Anxietybyage.loc[(MentalHealth[\"Subgroup\"] == \"50 - 59 years\")]\n",
    "df5 = Anxietybyage.loc[(MentalHealth[\"Subgroup\"] == \"60 - 69 years\")]\n",
    "df6 = Anxietybyage.loc[(MentalHealth[\"Subgroup\"] == \"70 - 79 years\")]\n",
    "\n",
    "Anxietybyage10 = pd.concat([df1, df2, df3, df4, df5, df6])\n",
    "Anxietybyage10.head()   "
   ]
  },
  {
   "cell_type": "code",
   "execution_count": 15,
   "metadata": {},
   "outputs": [
    {
     "data": {
      "text/plain": [
       "<matplotlib.axes._subplots.AxesSubplot at 0x2aad0d0b048>"
      ]
     },
     "execution_count": 15,
     "metadata": {},
     "output_type": "execute_result"
    },
    {
     "data": {
      "image/png": "[encoded data removed]",
      "text/plain": [
       "<Figure size 864x576 with 1 Axes>"
      ]
     },
     "metadata": {
      "needs_background": "light"
     },
     "output_type": "display_data"
    }
   ],
   "source": [
    "#Create a boxplot\n",
    "Anxietybyage10.boxplot('Value', by='Subgroup', figsize=(12, 8))"
   ]
  },
  {
   "cell_type": "code",
   "execution_count": 16,
   "metadata": {},
   "outputs": [
    {
     "data": {
      "text/html": [
       "<div>\n",
       "<style scoped>\n",
       "    .dataframe tbody tr th:only-of-type {\n",
       "        vertical-align: middle;\n",
       "    }\n",
       "\n",
       "    .dataframe tbody tr th {\n",
       "        vertical-align: top;\n",
       "    }\n",
       "\n",
       "    .dataframe thead th {\n",
       "        text-align: right;\n",
       "    }\n",
       "</style>\n",
       "<table border=\"1\" class=\"dataframe\">\n",
       "  <thead>\n",
       "    <tr style=\"text-align: right;\">\n",
       "      <th></th>\n",
       "      <th>Indicator</th>\n",
       "      <th>Group</th>\n",
       "      <th>State</th>\n",
       "      <th>Subgroup</th>\n",
       "      <th>Week</th>\n",
       "      <th>Week Label</th>\n",
       "      <th>Value</th>\n",
       "      <th>Low CI</th>\n",
       "      <th>High CI</th>\n",
       "      <th>Confidence Interval</th>\n",
       "      <th>Quartile range</th>\n",
       "    </tr>\n",
       "  </thead>\n",
       "  <tbody>\n",
       "    <tr>\n",
       "      <th>141</th>\n",
       "      <td>Symptoms of Anxiety Disorder or Depressive Dis...</td>\n",
       "      <td>By Age</td>\n",
       "      <td>United States</td>\n",
       "      <td>18 - 29 years</td>\n",
       "      <td>1</td>\n",
       "      <td>Apr 23 - May 5</td>\n",
       "      <td>46.8</td>\n",
       "      <td>44.3</td>\n",
       "      <td>49.3</td>\n",
       "      <td>44.3 - 49.3</td>\n",
       "      <td>NaN</td>\n",
       "    </tr>\n",
       "    <tr>\n",
       "      <th>351</th>\n",
       "      <td>Symptoms of Anxiety Disorder or Depressive Dis...</td>\n",
       "      <td>By Age</td>\n",
       "      <td>United States</td>\n",
       "      <td>18 - 29 years</td>\n",
       "      <td>2</td>\n",
       "      <td>May 7 - May 12</td>\n",
       "      <td>47.4</td>\n",
       "      <td>43.4</td>\n",
       "      <td>51.3</td>\n",
       "      <td>43.4 - 51.3</td>\n",
       "      <td>NaN</td>\n",
       "    </tr>\n",
       "    <tr>\n",
       "      <th>561</th>\n",
       "      <td>Symptoms of Anxiety Disorder or Depressive Dis...</td>\n",
       "      <td>By Age</td>\n",
       "      <td>United States</td>\n",
       "      <td>18 - 29 years</td>\n",
       "      <td>3</td>\n",
       "      <td>May 14 - May 19</td>\n",
       "      <td>47.7</td>\n",
       "      <td>45.1</td>\n",
       "      <td>50.4</td>\n",
       "      <td>45.1 - 50.4</td>\n",
       "      <td>NaN</td>\n",
       "    </tr>\n",
       "    <tr>\n",
       "      <th>771</th>\n",
       "      <td>Symptoms of Anxiety Disorder or Depressive Dis...</td>\n",
       "      <td>By Age</td>\n",
       "      <td>United States</td>\n",
       "      <td>18 - 29 years</td>\n",
       "      <td>4</td>\n",
       "      <td>May 21 - May 26</td>\n",
       "      <td>46.6</td>\n",
       "      <td>44.0</td>\n",
       "      <td>49.2</td>\n",
       "      <td>44.0 - 49.2</td>\n",
       "      <td>NaN</td>\n",
       "    </tr>\n",
       "    <tr>\n",
       "      <th>981</th>\n",
       "      <td>Symptoms of Anxiety Disorder or Depressive Dis...</td>\n",
       "      <td>By Age</td>\n",
       "      <td>United States</td>\n",
       "      <td>18 - 29 years</td>\n",
       "      <td>5</td>\n",
       "      <td>May 28 - June 2</td>\n",
       "      <td>49.3</td>\n",
       "      <td>47.4</td>\n",
       "      <td>51.2</td>\n",
       "      <td>47.4 - 51.2</td>\n",
       "      <td>NaN</td>\n",
       "    </tr>\n",
       "  </tbody>\n",
       "</table>\n",
       "</div>"
      ],
      "text/plain": [
       "                                             Indicator   Group          State  \\\n",
       "141  Symptoms of Anxiety Disorder or Depressive Dis...  By Age  United States   \n",
       "351  Symptoms of Anxiety Disorder or Depressive Dis...  By Age  United States   \n",
       "561  Symptoms of Anxiety Disorder or Depressive Dis...  By Age  United States   \n",
       "771  Symptoms of Anxiety Disorder or Depressive Dis...  By Age  United States   \n",
       "981  Symptoms of Anxiety Disorder or Depressive Dis...  By Age  United States   \n",
       "\n",
       "          Subgroup  Week       Week Label  Value  Low CI  High CI  \\\n",
       "141  18 - 29 years     1   Apr 23 - May 5   46.8    44.3     49.3   \n",
       "351  18 - 29 years     2   May 7 - May 12   47.4    43.4     51.3   \n",
       "561  18 - 29 years     3  May 14 - May 19   47.7    45.1     50.4   \n",
       "771  18 - 29 years     4  May 21 - May 26   46.6    44.0     49.2   \n",
       "981  18 - 29 years     5  May 28 - June 2   49.3    47.4     51.2   \n",
       "\n",
       "    Confidence Interval Quartile range  \n",
       "141         44.3 - 49.3            NaN  \n",
       "351         43.4 - 51.3            NaN  \n",
       "561         45.1 - 50.4            NaN  \n",
       "771         44.0 - 49.2            NaN  \n",
       "981         47.4 - 51.2            NaN  "
      ]
     },
     "execution_count": 16,
     "metadata": {},
     "output_type": "execute_result"
    }
   ],
   "source": [
    "AORDbyage = MentalHealth.loc[(MentalHealth[\"Indicator\"] == \"Symptoms of Anxiety Disorder or Depressive Disorder\")]\n",
    "\n",
    "df1 = AORDbyage.loc[(MentalHealth[\"Subgroup\"] == \"18 - 29 years\")]\n",
    "df2 = AORDbyage.loc[(MentalHealth[\"Subgroup\"] == \"30 - 39 years\")]\n",
    "df3 = AORDbyage.loc[(MentalHealth[\"Subgroup\"] == \"40 - 49 years\")]\n",
    "df4 = AORDbyage.loc[(MentalHealth[\"Subgroup\"] == \"50 - 59 years\")]\n",
    "df5 = AORDbyage.loc[(MentalHealth[\"Subgroup\"] == \"60 - 69 years\")]\n",
    "df6 = AORDbyage.loc[(MentalHealth[\"Subgroup\"] == \"70 - 79 years\")]\n",
    "\n",
    "AORDbyage10 = pd.concat([df1, df2, df3, df4, df5, df6])\n",
    "AORDbyage10.head() "
   ]
  },
  {
   "cell_type": "code",
   "execution_count": 17,
   "metadata": {},
   "outputs": [
    {
     "data": {
      "text/plain": [
       "<matplotlib.axes._subplots.AxesSubplot at 0x2aad0bc6888>"
      ]
     },
     "execution_count": 17,
     "metadata": {},
     "output_type": "execute_result"
    },
    {
     "data": {
      "image/png": "[encoded data removed]",
      "text/plain": [
       "<Figure size 864x576 with 1 Axes>"
      ]
     },
     "metadata": {
      "needs_background": "light"
     },
     "output_type": "display_data"
    }
   ],
   "source": [
    "AORDbyage10.boxplot('Value', by='Subgroup', figsize=(12, 8))"
   ]
  },
  {
   "cell_type": "markdown",
   "metadata": {},
   "source": [
    "## Hypothesis Testing (Depression)\n",
    "\n",
    "Statistical significance was set at p = 0.05"
   ]
  },
  {
   "cell_type": "markdown",
   "metadata": {},
   "source": [
    "Hypothesis(N) = There is no difference in the level of depression between the age groups\n",
    "\n",
    "Hypothesis(A) = There is a difference in the level of depression between the age groups "
   ]
  },
  {
   "cell_type": "code",
   "execution_count": 18,
   "metadata": {},
   "outputs": [
    {
     "name": "stdout",
     "output_type": "stream",
     "text": [
      "                            OLS Regression Results                            \n",
      "==============================================================================\n",
      "Dep. Variable:                  Value   R-squared:                       0.978\n",
      "Model:                            OLS   Adj. R-squared:                  0.975\n",
      "Method:                 Least Squares   F-statistic:                     315.5\n",
      "Date:                Tue, 22 Dec 2020   Prob (F-statistic):           1.15e-28\n",
      "Time:                        14:03:46   Log-Likelihood:                -62.000\n",
      "No. Observations:                  42   AIC:                             136.0\n",
      "Df Residuals:                      36   BIC:                             146.4\n",
      "Df Model:                           5                                         \n",
      "Covariance Type:            nonrobust                                         \n",
      "=============================================================================================\n",
      "                                coef    std err          t      P>|t|      [0.025      0.975]\n",
      "---------------------------------------------------------------------------------------------\n",
      "Intercept                    36.1286      0.432     83.573      0.000      35.252      37.005\n",
      "Subgroup[T.30 - 39 years]    -8.8143      0.611    -14.417      0.000     -10.054      -7.574\n",
      "Subgroup[T.40 - 49 years]   -10.6857      0.611    -17.479      0.000     -11.926      -9.446\n",
      "Subgroup[T.50 - 59 years]   -11.5286      0.611    -18.857      0.000     -12.768     -10.289\n",
      "Subgroup[T.60 - 69 years]   -17.3857      0.611    -28.438      0.000     -18.626     -16.146\n",
      "Subgroup[T.70 - 79 years]   -22.4857      0.611    -36.780      0.000     -23.726     -21.246\n",
      "==============================================================================\n",
      "Omnibus:                        5.090   Durbin-Watson:                   1.606\n",
      "Prob(Omnibus):                  0.078   Jarque-Bera (JB):                3.863\n",
      "Skew:                          -0.560   Prob(JB):                        0.145\n",
      "Kurtosis:                       3.976   Cond. No.                         6.85\n",
      "==============================================================================\n",
      "\n",
      "Warnings:\n",
      "[1] Standard Errors assume that the covariance matrix of the errors is correctly specified.\n"
     ]
    }
   ],
   "source": [
    "# Load data\n",
    "dat = Depressionbyage10\n",
    "\n",
    "# Fit regression model \n",
    "results = smf.ols('Value ~ Subgroup', data=dat).fit()\n",
    "\n",
    "# Inspect the results\n",
    "print(results.summary())"
   ]
  },
  {
   "cell_type": "markdown",
   "metadata": {},
   "source": [
    "### In this table, p value is 0.00 and it is less than our chosen level of signifance at 5%. \n",
    "\n",
    "### There we will reject the the null hypothesis at 5% level of significance."
   ]
  },
  {
   "cell_type": "code",
   "execution_count": 19,
   "metadata": {},
   "outputs": [
    {
     "name": "stdout",
     "output_type": "stream",
     "text": [
      "        Multiple Comparison of Means - Tukey HSD, FWER=0.05         \n",
      "====================================================================\n",
      "    group1        group2    meandiff p-adj   lower    upper   reject\n",
      "--------------------------------------------------------------------\n",
      "18 - 29 years 30 - 39 years  -8.8143  0.001 -10.6536   -6.975   True\n",
      "18 - 29 years 40 - 49 years -10.6857  0.001  -12.525  -8.8464   True\n",
      "18 - 29 years 50 - 59 years -11.5286  0.001 -13.3679  -9.6893   True\n",
      "18 - 29 years 60 - 69 years -17.3857  0.001  -19.225 -15.5464   True\n",
      "18 - 29 years 70 - 79 years -22.4857  0.001  -24.325 -20.6464   True\n",
      "30 - 39 years 40 - 49 years  -1.8714 0.0442  -3.7107  -0.0321   True\n",
      "30 - 39 years 50 - 59 years  -2.7143 0.0011  -4.5536   -0.875   True\n",
      "30 - 39 years 60 - 69 years  -8.5714  0.001 -10.4107  -6.7321   True\n",
      "30 - 39 years 70 - 79 years -13.6714  0.001 -15.5107 -11.8321   True\n",
      "40 - 49 years 50 - 59 years  -0.8429 0.7139  -2.6822   0.9965  False\n",
      "40 - 49 years 60 - 69 years     -6.7  0.001  -8.5393  -4.8607   True\n",
      "40 - 49 years 70 - 79 years    -11.8  0.001 -13.6393  -9.9607   True\n",
      "50 - 59 years 60 - 69 years  -5.8571  0.001  -7.6965  -4.0178   True\n",
      "50 - 59 years 70 - 79 years -10.9571  0.001 -12.7965  -9.1178   True\n",
      "60 - 69 years 70 - 79 years     -5.1  0.001  -6.9393  -3.2607   True\n",
      "--------------------------------------------------------------------\n"
     ]
    }
   ],
   "source": [
    "#Additional statistic testing to see statisitcal significance within groups \n",
    "from statsmodels.stats.multicomp import pairwise_tukeyhsd\n",
    "print(pairwise_tukeyhsd(Depressionbyage10['Value'], Depressionbyage10['Subgroup']))"
   ]
  },
  {
   "cell_type": "markdown",
   "metadata": {},
   "source": [
    "18 - 29 years Vs 30 - 39 years: Since the result - reject is true, mean level of depression is statistically different between 18 - 29 years and 30 - 39 years.\n",
    "\n",
    "There is a statistical difference between all age groups except for:\n",
    "\n",
    "40 - 49 years Vs 50 - 59 years: Since the result - reject is false, mean head pressure is statistically equal to 40 - 49 years and 50 - 59 years."
   ]
  },
  {
   "cell_type": "markdown",
   "metadata": {},
   "source": [
    "## Hypothesis Testing (Anxiety)\n",
    "\n",
    "Statistical significance was set at p = 0.05"
   ]
  },
  {
   "cell_type": "markdown",
   "metadata": {},
   "source": [
    "Hypothesis(N) = There is no difference in the level of anxiety between the age groups \n",
    "\n",
    "Hypothesis(A) = There is a difference in the level of anxiety between the age groups "
   ]
  },
  {
   "cell_type": "code",
   "execution_count": 20,
   "metadata": {},
   "outputs": [
    {
     "name": "stdout",
     "output_type": "stream",
     "text": [
      "                            OLS Regression Results                            \n",
      "==============================================================================\n",
      "Dep. Variable:                  Value   R-squared:                       0.971\n",
      "Model:                            OLS   Adj. R-squared:                  0.967\n",
      "Method:                 Least Squares   F-statistic:                     241.6\n",
      "Date:                Tue, 22 Dec 2020   Prob (F-statistic):           1.24e-26\n",
      "Time:                        14:03:48   Log-Likelihood:                -73.762\n",
      "No. Observations:                  42   AIC:                             159.5\n",
      "Df Residuals:                      36   BIC:                             170.0\n",
      "Df Model:                           5                                         \n",
      "Covariance Type:            nonrobust                                         \n",
      "=============================================================================================\n",
      "                                coef    std err          t      P>|t|      [0.025      0.975]\n",
      "---------------------------------------------------------------------------------------------\n",
      "Intercept                    40.9571      0.572     71.600      0.000      39.797      42.117\n",
      "Subgroup[T.30 - 39 years]    -6.0286      0.809     -7.452      0.000      -7.669      -4.388\n",
      "Subgroup[T.40 - 49 years]    -8.1143      0.809    -10.030      0.000      -9.755      -6.474\n",
      "Subgroup[T.50 - 59 years]   -10.5571      0.809    -13.050      0.000     -12.198      -8.916\n",
      "Subgroup[T.60 - 69 years]   -18.0571      0.809    -22.321      0.000     -19.698     -16.416\n",
      "Subgroup[T.70 - 79 years]   -24.8429      0.809    -30.709      0.000     -26.484     -23.202\n",
      "==============================================================================\n",
      "Omnibus:                        4.459   Durbin-Watson:                   1.568\n",
      "Prob(Omnibus):                  0.108   Jarque-Bera (JB):                2.006\n",
      "Skew:                          -0.188   Prob(JB):                        0.367\n",
      "Kurtosis:                       1.997   Cond. No.                         6.85\n",
      "==============================================================================\n",
      "\n",
      "Warnings:\n",
      "[1] Standard Errors assume that the covariance matrix of the errors is correctly specified.\n"
     ]
    }
   ],
   "source": [
    "# Load data\n",
    "dat = Anxietybyage10\n",
    "\n",
    "# Fit regression model (using the natural log of one of the regressors)\n",
    "results = smf.ols('Value ~ Subgroup', data=dat).fit()\n",
    "\n",
    "# Inspect the results\n",
    "print(results.summary())"
   ]
  },
  {
   "cell_type": "markdown",
   "metadata": {},
   "source": [
    "### In this table, p value is 0.00 and it is less than our chosen level of signifance at 5%. \n",
    "\n",
    "### There we will reject the the null hypothesis at 5% level of significance."
   ]
  },
  {
   "cell_type": "code",
   "execution_count": 21,
   "metadata": {},
   "outputs": [
    {
     "name": "stdout",
     "output_type": "stream",
     "text": [
      "        Multiple Comparison of Means - Tukey HSD, FWER=0.05         \n",
      "====================================================================\n",
      "    group1        group2    meandiff p-adj   lower    upper   reject\n",
      "--------------------------------------------------------------------\n",
      "18 - 29 years 30 - 39 years  -6.0286  0.001  -8.4624  -3.5948   True\n",
      "18 - 29 years 40 - 49 years  -8.1143  0.001 -10.5481  -5.6805   True\n",
      "18 - 29 years 50 - 59 years -10.5571  0.001  -12.991  -8.1233   True\n",
      "18 - 29 years 60 - 69 years -18.0571  0.001  -20.491 -15.6233   True\n",
      "18 - 29 years 70 - 79 years -24.8429  0.001 -27.2767  -22.409   True\n",
      "30 - 39 years 40 - 49 years  -2.0857 0.1288  -4.5195   0.3481  False\n",
      "30 - 39 years 50 - 59 years  -4.5286  0.001  -6.9624  -2.0948   True\n",
      "30 - 39 years 60 - 69 years -12.0286  0.001 -14.4624  -9.5948   True\n",
      "30 - 39 years 70 - 79 years -18.8143  0.001 -21.2481 -16.3805   True\n",
      "40 - 49 years 50 - 59 years  -2.4429 0.0487  -4.8767   -0.009   True\n",
      "40 - 49 years 60 - 69 years  -9.9429  0.001 -12.3767   -7.509   True\n",
      "40 - 49 years 70 - 79 years -16.7286  0.001 -19.1624 -14.2948   True\n",
      "50 - 59 years 60 - 69 years     -7.5  0.001  -9.9338  -5.0662   True\n",
      "50 - 59 years 70 - 79 years -14.2857  0.001 -16.7195 -11.8519   True\n",
      "60 - 69 years 70 - 79 years  -6.7857  0.001  -9.2195  -4.3519   True\n",
      "--------------------------------------------------------------------\n"
     ]
    }
   ],
   "source": [
    "#Additional statistic testing to see statisitcal significance within groups \n",
    "from statsmodels.stats.multicomp import pairwise_tukeyhsd\n",
    "print(pairwise_tukeyhsd(Anxietybyage10['Value'], Anxietybyage10['Subgroup']))"
   ]
  },
  {
   "cell_type": "markdown",
   "metadata": {},
   "source": [
    "18 - 29 years Vs 30 - 39 years: Since the result - reject is true, mean level of depression is statistically different between 18 - 29 years and 30 - 39 years.\n",
    "\n",
    "There is a statistical difference between all age groups except for:\n",
    "\n",
    "30 - 39 years Vs 40 - 49 years: Since the result - reject is false, mean head pressure is statistically equal to 40 - 49 years and 40 - 49 years."
   ]
  },
  {
   "cell_type": "markdown",
   "metadata": {},
   "source": [
    "## Hypothesis Testing (Anxiety or Depression)\n",
    "\n",
    "Statistical significance was set at p = 0.05"
   ]
  },
  {
   "cell_type": "markdown",
   "metadata": {},
   "source": [
    "Hypothesis(N) = There is no difference in the level of anxiety or depression between the age groups\n",
    "\n",
    "Hypothesis(A) = There is a difference in the level of anxiety or depression between the age groups"
   ]
  },
  {
   "cell_type": "code",
   "execution_count": 22,
   "metadata": {},
   "outputs": [
    {
     "name": "stdout",
     "output_type": "stream",
     "text": [
      "                            OLS Regression Results                            \n",
      "==============================================================================\n",
      "Dep. Variable:                  Value   R-squared:                       0.983\n",
      "Model:                            OLS   Adj. R-squared:                  0.981\n",
      "Method:                 Least Squares   F-statistic:                     420.7\n",
      "Date:                Tue, 22 Dec 2020   Prob (F-statistic):           7.26e-31\n",
      "Time:                        14:03:50   Log-Likelihood:                -66.106\n",
      "No. Observations:                  42   AIC:                             144.2\n",
      "Df Residuals:                      36   BIC:                             154.6\n",
      "Df Model:                           5                                         \n",
      "Covariance Type:            nonrobust                                         \n",
      "=============================================================================================\n",
      "                                coef    std err          t      P>|t|      [0.025      0.975]\n",
      "---------------------------------------------------------------------------------------------\n",
      "Intercept                    47.9714      0.477    100.632      0.000      47.005      48.938\n",
      "Subgroup[T.30 - 39 years]    -8.1714      0.674    -12.121      0.000      -9.539      -6.804\n",
      "Subgroup[T.40 - 49 years]   -10.6714      0.674    -15.829      0.000     -12.039      -9.304\n",
      "Subgroup[T.50 - 59 years]   -13.1000      0.674    -19.432      0.000     -14.467     -11.733\n",
      "Subgroup[T.60 - 69 years]   -20.7857      0.674    -30.832      0.000     -22.153     -19.418\n",
      "Subgroup[T.70 - 79 years]   -27.8571      0.674    -41.321      0.000     -29.224     -26.490\n",
      "==============================================================================\n",
      "Omnibus:                       12.227   Durbin-Watson:                   1.497\n",
      "Prob(Omnibus):                  0.002   Jarque-Bera (JB):                2.897\n",
      "Skew:                          -0.073   Prob(JB):                        0.235\n",
      "Kurtosis:                       1.722   Cond. No.                         6.85\n",
      "==============================================================================\n",
      "\n",
      "Warnings:\n",
      "[1] Standard Errors assume that the covariance matrix of the errors is correctly specified.\n"
     ]
    }
   ],
   "source": [
    "# Load data\n",
    "dat = AORDbyage10\n",
    "\n",
    "# Fit regression model (using the natural log of one of the regressors)\n",
    "results = smf.ols('Value ~ Subgroup', data=dat).fit()\n",
    "\n",
    "# Inspect the results\n",
    "print(results.summary())"
   ]
  },
  {
   "cell_type": "markdown",
   "metadata": {},
   "source": [
    "### In this table, p value is 0.00 and it is less than our chosen level of signifance at 5%. \n",
    "\n",
    "### There we will reject the the null hypothesis at 5% level of significance."
   ]
  },
  {
   "cell_type": "code",
   "execution_count": 23,
   "metadata": {},
   "outputs": [
    {
     "name": "stdout",
     "output_type": "stream",
     "text": [
      "        Multiple Comparison of Means - Tukey HSD, FWER=0.05         \n",
      "====================================================================\n",
      "    group1        group2    meandiff p-adj   lower    upper   reject\n",
      "--------------------------------------------------------------------\n",
      "18 - 29 years 30 - 39 years  -8.1714  0.001 -10.1997  -6.1432   True\n",
      "18 - 29 years 40 - 49 years -10.6714  0.001 -12.6997  -8.6432   True\n",
      "18 - 29 years 50 - 59 years    -13.1  0.001 -15.1282 -11.0718   True\n",
      "18 - 29 years 60 - 69 years -20.7857  0.001  -22.814 -18.7575   True\n",
      "18 - 29 years 70 - 79 years -27.8571  0.001 -29.8854 -25.8289   True\n",
      "30 - 39 years 40 - 49 years     -2.5 0.0085  -4.5282  -0.4718   True\n",
      "30 - 39 years 50 - 59 years  -4.9286  0.001  -6.9568  -2.9003   True\n",
      "30 - 39 years 60 - 69 years -12.6143  0.001 -14.6425  -10.586   True\n",
      "30 - 39 years 70 - 79 years -19.6857  0.001  -21.714 -17.6575   True\n",
      "40 - 49 years 50 - 59 years  -2.4286 0.0112  -4.4568  -0.4003   True\n",
      "40 - 49 years 60 - 69 years -10.1143  0.001 -12.1425   -8.086   True\n",
      "40 - 49 years 70 - 79 years -17.1857  0.001  -19.214 -15.1575   True\n",
      "50 - 59 years 60 - 69 years  -7.6857  0.001   -9.714  -5.6575   True\n",
      "50 - 59 years 70 - 79 years -14.7571  0.001 -16.7854 -12.7289   True\n",
      "60 - 69 years 70 - 79 years  -7.0714  0.001  -9.0997  -5.0432   True\n",
      "--------------------------------------------------------------------\n"
     ]
    }
   ],
   "source": [
    "from statsmodels.stats.multicomp import pairwise_tukeyhsd\n",
    "print(pairwise_tukeyhsd(AORDbyage10['Value'], AORDbyage10['Subgroup']))"
   ]
  },
  {
   "cell_type": "markdown",
   "metadata": {},
   "source": [
    "18 - 29 years Vs 30 - 39 years: Since the result - reject is true, mean level of depression is statistically different between 18 - 29 years and 30 - 39 years.\n",
    "\n",
    "There is a statistical difference between all age groups.  "
   ]
  },
  {
   "cell_type": "code",
   "execution_count": null,
   "metadata": {},
   "outputs": [],
   "source": []
  }
 ],
 "metadata": {
  "kernelspec": {
   "display_name": "Python 3",
   "language": "python",
   "name": "python3"
  },
  "language_info": {
   "codemirror_mode": {
    "name": "ipython",
    "version": 3
   },
   "file_extension": ".py",
   "mimetype": "text/x-python",
   "name": "python",
   "nbconvert_exporter": "python",
   "pygments_lexer": "ipython3",
   "version": "3.7.6"
  }
 },
 "nbformat": 4,
 "nbformat_minor": 4
}
